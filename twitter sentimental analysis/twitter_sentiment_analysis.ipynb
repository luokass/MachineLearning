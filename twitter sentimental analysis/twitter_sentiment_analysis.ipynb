{
  "nbformat": 4,
  "nbformat_minor": 0,
  "metadata": {
    "colab": {
      "name": "twitter sentiment analysis",
      "provenance": [],
      "collapsed_sections": []
    },
    "kernelspec": {
      "name": "python3",
      "display_name": "Python 3"
    },
    "accelerator": "GPU"
  },
  "cells": [
    {
      "cell_type": "code",
      "metadata": {
        "id": "u0xcM1YwLQTv"
      },
      "source": [
        "import numpy as np\n",
        "import pandas as pd\n",
        "import matplotlib.pyplot as plt"
      ],
      "execution_count": null,
      "outputs": []
    },
    {
      "cell_type": "code",
      "metadata": {
        "id": "iLjuywxmLvcn"
      },
      "source": [
        "train = pd.read_csv('train_tweets.csv')\n",
        "test = pd.read_csv('test_tweets.csv')"
      ],
      "execution_count": null,
      "outputs": []
    },
    {
      "cell_type": "code",
      "metadata": {
        "id": "n5eMydT-NOHR",
        "colab": {
          "base_uri": "https://localhost:8080/"
        },
        "outputId": "10c8daa8-c37f-45ef-ba71-93490224ee57"
      },
      "source": [
        "train.columns"
      ],
      "execution_count": null,
      "outputs": [
        {
          "output_type": "execute_result",
          "data": {
            "text/plain": [
              "Index(['id', 'label', 'tweet'], dtype='object')"
            ]
          },
          "metadata": {
            "tags": []
          },
          "execution_count": 67
        }
      ]
    },
    {
      "cell_type": "markdown",
      "metadata": {
        "id": "G4r0Ibjqhjjn"
      },
      "source": [
        ""
      ]
    },
    {
      "cell_type": "code",
      "metadata": {
        "id": "t3sQENcEM6iJ",
        "colab": {
          "base_uri": "https://localhost:8080/",
          "height": 424
        },
        "outputId": "ac89cbd2-ee3d-4b04-ea4c-b8f528290095"
      },
      "source": [
        "#Number of words\n",
        "train['word_count'] = train['tweet'].apply(lambda x: len(str(x).split(' ')))\n",
        "train[['tweet','word_count']]"
      ],
      "execution_count": null,
      "outputs": [
        {
          "output_type": "execute_result",
          "data": {
            "text/html": [
              "<div>\n",
              "<style scoped>\n",
              "    .dataframe tbody tr th:only-of-type {\n",
              "        vertical-align: middle;\n",
              "    }\n",
              "\n",
              "    .dataframe tbody tr th {\n",
              "        vertical-align: top;\n",
              "    }\n",
              "\n",
              "    .dataframe thead th {\n",
              "        text-align: right;\n",
              "    }\n",
              "</style>\n",
              "<table border=\"1\" class=\"dataframe\">\n",
              "  <thead>\n",
              "    <tr style=\"text-align: right;\">\n",
              "      <th></th>\n",
              "      <th>tweet</th>\n",
              "      <th>word_count</th>\n",
              "    </tr>\n",
              "  </thead>\n",
              "  <tbody>\n",
              "    <tr>\n",
              "      <th>0</th>\n",
              "      <td>@user when a father is dysfunctional and is s...</td>\n",
              "      <td>21</td>\n",
              "    </tr>\n",
              "    <tr>\n",
              "      <th>1</th>\n",
              "      <td>@user @user thanks for #lyft credit i can't us...</td>\n",
              "      <td>22</td>\n",
              "    </tr>\n",
              "    <tr>\n",
              "      <th>2</th>\n",
              "      <td>bihday your majesty</td>\n",
              "      <td>5</td>\n",
              "    </tr>\n",
              "    <tr>\n",
              "      <th>3</th>\n",
              "      <td>#model   i love u take with u all the time in ...</td>\n",
              "      <td>17</td>\n",
              "    </tr>\n",
              "    <tr>\n",
              "      <th>4</th>\n",
              "      <td>factsguide: society now    #motivation</td>\n",
              "      <td>8</td>\n",
              "    </tr>\n",
              "    <tr>\n",
              "      <th>...</th>\n",
              "      <td>...</td>\n",
              "      <td>...</td>\n",
              "    </tr>\n",
              "    <tr>\n",
              "      <th>31957</th>\n",
              "      <td>ate @user isz that youuu?ðððððð...</td>\n",
              "      <td>6</td>\n",
              "    </tr>\n",
              "    <tr>\n",
              "      <th>31958</th>\n",
              "      <td>to see nina turner on the airwaves trying to...</td>\n",
              "      <td>25</td>\n",
              "    </tr>\n",
              "    <tr>\n",
              "      <th>31959</th>\n",
              "      <td>listening to sad songs on a monday morning otw...</td>\n",
              "      <td>15</td>\n",
              "    </tr>\n",
              "    <tr>\n",
              "      <th>31960</th>\n",
              "      <td>@user #sikh #temple vandalised in in #calgary,...</td>\n",
              "      <td>13</td>\n",
              "    </tr>\n",
              "    <tr>\n",
              "      <th>31961</th>\n",
              "      <td>thank you @user for you follow</td>\n",
              "      <td>8</td>\n",
              "    </tr>\n",
              "  </tbody>\n",
              "</table>\n",
              "<p>31962 rows × 2 columns</p>\n",
              "</div>"
            ],
            "text/plain": [
              "                                                   tweet  word_count\n",
              "0       @user when a father is dysfunctional and is s...          21\n",
              "1      @user @user thanks for #lyft credit i can't us...          22\n",
              "2                                    bihday your majesty           5\n",
              "3      #model   i love u take with u all the time in ...          17\n",
              "4                 factsguide: society now    #motivation           8\n",
              "...                                                  ...         ...\n",
              "31957  ate @user isz that youuu?ðððððð...           6\n",
              "31958    to see nina turner on the airwaves trying to...          25\n",
              "31959  listening to sad songs on a monday morning otw...          15\n",
              "31960  @user #sikh #temple vandalised in in #calgary,...          13\n",
              "31961                   thank you @user for you follow             8\n",
              "\n",
              "[31962 rows x 2 columns]"
            ]
          },
          "metadata": {
            "tags": []
          },
          "execution_count": 68
        }
      ]
    },
    {
      "cell_type": "code",
      "metadata": {
        "id": "BnohFCapO5EP",
        "colab": {
          "base_uri": "https://localhost:8080/",
          "height": 424
        },
        "outputId": "217cc631-9a91-45eb-8bb9-594959353807"
      },
      "source": [
        "#Number of characters\n",
        "train['char_count'] = train['tweet'].str.len()\n",
        "train[['tweet','char_count']]"
      ],
      "execution_count": null,
      "outputs": [
        {
          "output_type": "execute_result",
          "data": {
            "text/html": [
              "<div>\n",
              "<style scoped>\n",
              "    .dataframe tbody tr th:only-of-type {\n",
              "        vertical-align: middle;\n",
              "    }\n",
              "\n",
              "    .dataframe tbody tr th {\n",
              "        vertical-align: top;\n",
              "    }\n",
              "\n",
              "    .dataframe thead th {\n",
              "        text-align: right;\n",
              "    }\n",
              "</style>\n",
              "<table border=\"1\" class=\"dataframe\">\n",
              "  <thead>\n",
              "    <tr style=\"text-align: right;\">\n",
              "      <th></th>\n",
              "      <th>tweet</th>\n",
              "      <th>char_count</th>\n",
              "    </tr>\n",
              "  </thead>\n",
              "  <tbody>\n",
              "    <tr>\n",
              "      <th>0</th>\n",
              "      <td>@user when a father is dysfunctional and is s...</td>\n",
              "      <td>102</td>\n",
              "    </tr>\n",
              "    <tr>\n",
              "      <th>1</th>\n",
              "      <td>@user @user thanks for #lyft credit i can't us...</td>\n",
              "      <td>122</td>\n",
              "    </tr>\n",
              "    <tr>\n",
              "      <th>2</th>\n",
              "      <td>bihday your majesty</td>\n",
              "      <td>21</td>\n",
              "    </tr>\n",
              "    <tr>\n",
              "      <th>3</th>\n",
              "      <td>#model   i love u take with u all the time in ...</td>\n",
              "      <td>86</td>\n",
              "    </tr>\n",
              "    <tr>\n",
              "      <th>4</th>\n",
              "      <td>factsguide: society now    #motivation</td>\n",
              "      <td>39</td>\n",
              "    </tr>\n",
              "    <tr>\n",
              "      <th>...</th>\n",
              "      <td>...</td>\n",
              "      <td>...</td>\n",
              "    </tr>\n",
              "    <tr>\n",
              "      <th>31957</th>\n",
              "      <td>ate @user isz that youuu?ðððððð...</td>\n",
              "      <td>68</td>\n",
              "    </tr>\n",
              "    <tr>\n",
              "      <th>31958</th>\n",
              "      <td>to see nina turner on the airwaves trying to...</td>\n",
              "      <td>131</td>\n",
              "    </tr>\n",
              "    <tr>\n",
              "      <th>31959</th>\n",
              "      <td>listening to sad songs on a monday morning otw...</td>\n",
              "      <td>63</td>\n",
              "    </tr>\n",
              "    <tr>\n",
              "      <th>31960</th>\n",
              "      <td>@user #sikh #temple vandalised in in #calgary,...</td>\n",
              "      <td>67</td>\n",
              "    </tr>\n",
              "    <tr>\n",
              "      <th>31961</th>\n",
              "      <td>thank you @user for you follow</td>\n",
              "      <td>32</td>\n",
              "    </tr>\n",
              "  </tbody>\n",
              "</table>\n",
              "<p>31962 rows × 2 columns</p>\n",
              "</div>"
            ],
            "text/plain": [
              "                                                   tweet  char_count\n",
              "0       @user when a father is dysfunctional and is s...         102\n",
              "1      @user @user thanks for #lyft credit i can't us...         122\n",
              "2                                    bihday your majesty          21\n",
              "3      #model   i love u take with u all the time in ...          86\n",
              "4                 factsguide: society now    #motivation          39\n",
              "...                                                  ...         ...\n",
              "31957  ate @user isz that youuu?ðððððð...          68\n",
              "31958    to see nina turner on the airwaves trying to...         131\n",
              "31959  listening to sad songs on a monday morning otw...          63\n",
              "31960  @user #sikh #temple vandalised in in #calgary,...          67\n",
              "31961                   thank you @user for you follow            32\n",
              "\n",
              "[31962 rows x 2 columns]"
            ]
          },
          "metadata": {
            "tags": []
          },
          "execution_count": 69
        }
      ]
    },
    {
      "cell_type": "code",
      "metadata": {
        "id": "Ww5BXsnLPYwK",
        "colab": {
          "base_uri": "https://localhost:8080/",
          "height": 424
        },
        "outputId": "379dd8de-9b67-40ce-a570-45e1e497d838"
      },
      "source": [
        "#Average word length\n",
        "\n",
        "def avg_wordlen(sentence):\n",
        "\n",
        "  words = sentence.split()\n",
        "  return (sum(len(word) for word in words)/len(words))\n",
        "\n",
        "train['avg_word'] = train['tweet'].apply(lambda x: avg_wordlen(x))\n",
        "train[['tweet','avg_word']]\n"
      ],
      "execution_count": null,
      "outputs": [
        {
          "output_type": "execute_result",
          "data": {
            "text/html": [
              "<div>\n",
              "<style scoped>\n",
              "    .dataframe tbody tr th:only-of-type {\n",
              "        vertical-align: middle;\n",
              "    }\n",
              "\n",
              "    .dataframe tbody tr th {\n",
              "        vertical-align: top;\n",
              "    }\n",
              "\n",
              "    .dataframe thead th {\n",
              "        text-align: right;\n",
              "    }\n",
              "</style>\n",
              "<table border=\"1\" class=\"dataframe\">\n",
              "  <thead>\n",
              "    <tr style=\"text-align: right;\">\n",
              "      <th></th>\n",
              "      <th>tweet</th>\n",
              "      <th>avg_word</th>\n",
              "    </tr>\n",
              "  </thead>\n",
              "  <tbody>\n",
              "    <tr>\n",
              "      <th>0</th>\n",
              "      <td>@user when a father is dysfunctional and is s...</td>\n",
              "      <td>4.555556</td>\n",
              "    </tr>\n",
              "    <tr>\n",
              "      <th>1</th>\n",
              "      <td>@user @user thanks for #lyft credit i can't us...</td>\n",
              "      <td>5.315789</td>\n",
              "    </tr>\n",
              "    <tr>\n",
              "      <th>2</th>\n",
              "      <td>bihday your majesty</td>\n",
              "      <td>5.666667</td>\n",
              "    </tr>\n",
              "    <tr>\n",
              "      <th>3</th>\n",
              "      <td>#model   i love u take with u all the time in ...</td>\n",
              "      <td>4.928571</td>\n",
              "    </tr>\n",
              "    <tr>\n",
              "      <th>4</th>\n",
              "      <td>factsguide: society now    #motivation</td>\n",
              "      <td>8.000000</td>\n",
              "    </tr>\n",
              "    <tr>\n",
              "      <th>...</th>\n",
              "      <td>...</td>\n",
              "      <td>...</td>\n",
              "    </tr>\n",
              "    <tr>\n",
              "      <th>31957</th>\n",
              "      <td>ate @user isz that youuu?ðððððð...</td>\n",
              "      <td>12.600000</td>\n",
              "    </tr>\n",
              "    <tr>\n",
              "      <th>31958</th>\n",
              "      <td>to see nina turner on the airwaves trying to...</td>\n",
              "      <td>4.652174</td>\n",
              "    </tr>\n",
              "    <tr>\n",
              "      <th>31959</th>\n",
              "      <td>listening to sad songs on a monday morning otw...</td>\n",
              "      <td>3.769231</td>\n",
              "    </tr>\n",
              "    <tr>\n",
              "      <th>31960</th>\n",
              "      <td>@user #sikh #temple vandalised in in #calgary,...</td>\n",
              "      <td>5.500000</td>\n",
              "    </tr>\n",
              "    <tr>\n",
              "      <th>31961</th>\n",
              "      <td>thank you @user for you follow</td>\n",
              "      <td>4.166667</td>\n",
              "    </tr>\n",
              "  </tbody>\n",
              "</table>\n",
              "<p>31962 rows × 2 columns</p>\n",
              "</div>"
            ],
            "text/plain": [
              "                                                   tweet   avg_word\n",
              "0       @user when a father is dysfunctional and is s...   4.555556\n",
              "1      @user @user thanks for #lyft credit i can't us...   5.315789\n",
              "2                                    bihday your majesty   5.666667\n",
              "3      #model   i love u take with u all the time in ...   4.928571\n",
              "4                 factsguide: society now    #motivation   8.000000\n",
              "...                                                  ...        ...\n",
              "31957  ate @user isz that youuu?ðððððð...  12.600000\n",
              "31958    to see nina turner on the airwaves trying to...   4.652174\n",
              "31959  listening to sad songs on a monday morning otw...   3.769231\n",
              "31960  @user #sikh #temple vandalised in in #calgary,...   5.500000\n",
              "31961                   thank you @user for you follow     4.166667\n",
              "\n",
              "[31962 rows x 2 columns]"
            ]
          },
          "metadata": {
            "tags": []
          },
          "execution_count": 70
        }
      ]
    },
    {
      "cell_type": "code",
      "metadata": {
        "id": "IWrahOUoUxoR",
        "colab": {
          "base_uri": "https://localhost:8080/"
        },
        "outputId": "53472798-4787-4f02-c6f3-ff9c68d121ec"
      },
      "source": [
        "import nltk \n",
        "nltk.download('stopwords')"
      ],
      "execution_count": null,
      "outputs": [
        {
          "output_type": "stream",
          "text": [
            "[nltk_data] Downloading package stopwords to /root/nltk_data...\n",
            "[nltk_data]   Package stopwords is already up-to-date!\n"
          ],
          "name": "stdout"
        },
        {
          "output_type": "execute_result",
          "data": {
            "text/plain": [
              "True"
            ]
          },
          "metadata": {
            "tags": []
          },
          "execution_count": 71
        }
      ]
    },
    {
      "cell_type": "code",
      "metadata": {
        "id": "5xD7mQpaTNmn",
        "colab": {
          "base_uri": "https://localhost:8080/",
          "height": 424
        },
        "outputId": "26263f7d-d890-46cf-bca6-c5d68ec0aa4c"
      },
      "source": [
        "#Number of stopwords\n",
        "from nltk.corpus import stopwords\n",
        "stop = stopwords.words('english')\n",
        "train['stopwords'] = train['tweet'].apply(lambda x: len([x for x in x.split() if x in stop]))\n",
        "train[['tweet','stopwords']]"
      ],
      "execution_count": null,
      "outputs": [
        {
          "output_type": "execute_result",
          "data": {
            "text/html": [
              "<div>\n",
              "<style scoped>\n",
              "    .dataframe tbody tr th:only-of-type {\n",
              "        vertical-align: middle;\n",
              "    }\n",
              "\n",
              "    .dataframe tbody tr th {\n",
              "        vertical-align: top;\n",
              "    }\n",
              "\n",
              "    .dataframe thead th {\n",
              "        text-align: right;\n",
              "    }\n",
              "</style>\n",
              "<table border=\"1\" class=\"dataframe\">\n",
              "  <thead>\n",
              "    <tr style=\"text-align: right;\">\n",
              "      <th></th>\n",
              "      <th>tweet</th>\n",
              "      <th>stopwords</th>\n",
              "    </tr>\n",
              "  </thead>\n",
              "  <tbody>\n",
              "    <tr>\n",
              "      <th>0</th>\n",
              "      <td>@user when a father is dysfunctional and is s...</td>\n",
              "      <td>10</td>\n",
              "    </tr>\n",
              "    <tr>\n",
              "      <th>1</th>\n",
              "      <td>@user @user thanks for #lyft credit i can't us...</td>\n",
              "      <td>5</td>\n",
              "    </tr>\n",
              "    <tr>\n",
              "      <th>2</th>\n",
              "      <td>bihday your majesty</td>\n",
              "      <td>1</td>\n",
              "    </tr>\n",
              "    <tr>\n",
              "      <th>3</th>\n",
              "      <td>#model   i love u take with u all the time in ...</td>\n",
              "      <td>5</td>\n",
              "    </tr>\n",
              "    <tr>\n",
              "      <th>4</th>\n",
              "      <td>factsguide: society now    #motivation</td>\n",
              "      <td>1</td>\n",
              "    </tr>\n",
              "    <tr>\n",
              "      <th>...</th>\n",
              "      <td>...</td>\n",
              "      <td>...</td>\n",
              "    </tr>\n",
              "    <tr>\n",
              "      <th>31957</th>\n",
              "      <td>ate @user isz that youuu?ðððððð...</td>\n",
              "      <td>1</td>\n",
              "    </tr>\n",
              "    <tr>\n",
              "      <th>31958</th>\n",
              "      <td>to see nina turner on the airwaves trying to...</td>\n",
              "      <td>9</td>\n",
              "    </tr>\n",
              "    <tr>\n",
              "      <th>31959</th>\n",
              "      <td>listening to sad songs on a monday morning otw...</td>\n",
              "      <td>5</td>\n",
              "    </tr>\n",
              "    <tr>\n",
              "      <th>31960</th>\n",
              "      <td>@user #sikh #temple vandalised in in #calgary,...</td>\n",
              "      <td>2</td>\n",
              "    </tr>\n",
              "    <tr>\n",
              "      <th>31961</th>\n",
              "      <td>thank you @user for you follow</td>\n",
              "      <td>3</td>\n",
              "    </tr>\n",
              "  </tbody>\n",
              "</table>\n",
              "<p>31962 rows × 2 columns</p>\n",
              "</div>"
            ],
            "text/plain": [
              "                                                   tweet  stopwords\n",
              "0       @user when a father is dysfunctional and is s...         10\n",
              "1      @user @user thanks for #lyft credit i can't us...          5\n",
              "2                                    bihday your majesty          1\n",
              "3      #model   i love u take with u all the time in ...          5\n",
              "4                 factsguide: society now    #motivation          1\n",
              "...                                                  ...        ...\n",
              "31957  ate @user isz that youuu?ðððððð...          1\n",
              "31958    to see nina turner on the airwaves trying to...          9\n",
              "31959  listening to sad songs on a monday morning otw...          5\n",
              "31960  @user #sikh #temple vandalised in in #calgary,...          2\n",
              "31961                   thank you @user for you follow            3\n",
              "\n",
              "[31962 rows x 2 columns]"
            ]
          },
          "metadata": {
            "tags": []
          },
          "execution_count": 72
        }
      ]
    },
    {
      "cell_type": "code",
      "metadata": {
        "id": "F4tsioezWzvs",
        "colab": {
          "base_uri": "https://localhost:8080/",
          "height": 424
        },
        "outputId": "55def94c-50f3-41a7-ccfa-4205425dea8c"
      },
      "source": [
        "#Hashtags and mentions in a tweet\n",
        "\n",
        "train['hashtag'] = train['tweet'].apply(lambda x: len([x for x in x.split() if (x.startswith('#') or x.startswith('@'))]))\n",
        "train[['tweet','hashtag']]"
      ],
      "execution_count": null,
      "outputs": [
        {
          "output_type": "execute_result",
          "data": {
            "text/html": [
              "<div>\n",
              "<style scoped>\n",
              "    .dataframe tbody tr th:only-of-type {\n",
              "        vertical-align: middle;\n",
              "    }\n",
              "\n",
              "    .dataframe tbody tr th {\n",
              "        vertical-align: top;\n",
              "    }\n",
              "\n",
              "    .dataframe thead th {\n",
              "        text-align: right;\n",
              "    }\n",
              "</style>\n",
              "<table border=\"1\" class=\"dataframe\">\n",
              "  <thead>\n",
              "    <tr style=\"text-align: right;\">\n",
              "      <th></th>\n",
              "      <th>tweet</th>\n",
              "      <th>hashtag</th>\n",
              "    </tr>\n",
              "  </thead>\n",
              "  <tbody>\n",
              "    <tr>\n",
              "      <th>0</th>\n",
              "      <td>@user when a father is dysfunctional and is s...</td>\n",
              "      <td>2</td>\n",
              "    </tr>\n",
              "    <tr>\n",
              "      <th>1</th>\n",
              "      <td>@user @user thanks for #lyft credit i can't us...</td>\n",
              "      <td>5</td>\n",
              "    </tr>\n",
              "    <tr>\n",
              "      <th>2</th>\n",
              "      <td>bihday your majesty</td>\n",
              "      <td>0</td>\n",
              "    </tr>\n",
              "    <tr>\n",
              "      <th>3</th>\n",
              "      <td>#model   i love u take with u all the time in ...</td>\n",
              "      <td>1</td>\n",
              "    </tr>\n",
              "    <tr>\n",
              "      <th>4</th>\n",
              "      <td>factsguide: society now    #motivation</td>\n",
              "      <td>1</td>\n",
              "    </tr>\n",
              "    <tr>\n",
              "      <th>...</th>\n",
              "      <td>...</td>\n",
              "      <td>...</td>\n",
              "    </tr>\n",
              "    <tr>\n",
              "      <th>31957</th>\n",
              "      <td>ate @user isz that youuu?ðððððð...</td>\n",
              "      <td>1</td>\n",
              "    </tr>\n",
              "    <tr>\n",
              "      <th>31958</th>\n",
              "      <td>to see nina turner on the airwaves trying to...</td>\n",
              "      <td>2</td>\n",
              "    </tr>\n",
              "    <tr>\n",
              "      <th>31959</th>\n",
              "      <td>listening to sad songs on a monday morning otw...</td>\n",
              "      <td>0</td>\n",
              "    </tr>\n",
              "    <tr>\n",
              "      <th>31960</th>\n",
              "      <td>@user #sikh #temple vandalised in in #calgary,...</td>\n",
              "      <td>5</td>\n",
              "    </tr>\n",
              "    <tr>\n",
              "      <th>31961</th>\n",
              "      <td>thank you @user for you follow</td>\n",
              "      <td>1</td>\n",
              "    </tr>\n",
              "  </tbody>\n",
              "</table>\n",
              "<p>31962 rows × 2 columns</p>\n",
              "</div>"
            ],
            "text/plain": [
              "                                                   tweet  hashtag\n",
              "0       @user when a father is dysfunctional and is s...        2\n",
              "1      @user @user thanks for #lyft credit i can't us...        5\n",
              "2                                    bihday your majesty        0\n",
              "3      #model   i love u take with u all the time in ...        1\n",
              "4                 factsguide: society now    #motivation        1\n",
              "...                                                  ...      ...\n",
              "31957  ate @user isz that youuu?ðððððð...        1\n",
              "31958    to see nina turner on the airwaves trying to...        2\n",
              "31959  listening to sad songs on a monday morning otw...        0\n",
              "31960  @user #sikh #temple vandalised in in #calgary,...        5\n",
              "31961                   thank you @user for you follow          1\n",
              "\n",
              "[31962 rows x 2 columns]"
            ]
          },
          "metadata": {
            "tags": []
          },
          "execution_count": 73
        }
      ]
    },
    {
      "cell_type": "code",
      "metadata": {
        "id": "uOsa-KZ4CgUS",
        "colab": {
          "base_uri": "https://localhost:8080/",
          "height": 424
        },
        "outputId": "32ee774c-5edc-46a5-891d-9481bb593016"
      },
      "source": [
        "#Number of numerics\n",
        "train['numeric_count'] = train['tweet'].apply(lambda x: len([x for x in x.split() if x.isdigit()]))\n",
        "train[['tweet','numeric_count']]\n"
      ],
      "execution_count": null,
      "outputs": [
        {
          "output_type": "execute_result",
          "data": {
            "text/html": [
              "<div>\n",
              "<style scoped>\n",
              "    .dataframe tbody tr th:only-of-type {\n",
              "        vertical-align: middle;\n",
              "    }\n",
              "\n",
              "    .dataframe tbody tr th {\n",
              "        vertical-align: top;\n",
              "    }\n",
              "\n",
              "    .dataframe thead th {\n",
              "        text-align: right;\n",
              "    }\n",
              "</style>\n",
              "<table border=\"1\" class=\"dataframe\">\n",
              "  <thead>\n",
              "    <tr style=\"text-align: right;\">\n",
              "      <th></th>\n",
              "      <th>tweet</th>\n",
              "      <th>numeric_count</th>\n",
              "    </tr>\n",
              "  </thead>\n",
              "  <tbody>\n",
              "    <tr>\n",
              "      <th>0</th>\n",
              "      <td>@user when a father is dysfunctional and is s...</td>\n",
              "      <td>0</td>\n",
              "    </tr>\n",
              "    <tr>\n",
              "      <th>1</th>\n",
              "      <td>@user @user thanks for #lyft credit i can't us...</td>\n",
              "      <td>0</td>\n",
              "    </tr>\n",
              "    <tr>\n",
              "      <th>2</th>\n",
              "      <td>bihday your majesty</td>\n",
              "      <td>0</td>\n",
              "    </tr>\n",
              "    <tr>\n",
              "      <th>3</th>\n",
              "      <td>#model   i love u take with u all the time in ...</td>\n",
              "      <td>0</td>\n",
              "    </tr>\n",
              "    <tr>\n",
              "      <th>4</th>\n",
              "      <td>factsguide: society now    #motivation</td>\n",
              "      <td>0</td>\n",
              "    </tr>\n",
              "    <tr>\n",
              "      <th>...</th>\n",
              "      <td>...</td>\n",
              "      <td>...</td>\n",
              "    </tr>\n",
              "    <tr>\n",
              "      <th>31957</th>\n",
              "      <td>ate @user isz that youuu?ðððððð...</td>\n",
              "      <td>0</td>\n",
              "    </tr>\n",
              "    <tr>\n",
              "      <th>31958</th>\n",
              "      <td>to see nina turner on the airwaves trying to...</td>\n",
              "      <td>0</td>\n",
              "    </tr>\n",
              "    <tr>\n",
              "      <th>31959</th>\n",
              "      <td>listening to sad songs on a monday morning otw...</td>\n",
              "      <td>0</td>\n",
              "    </tr>\n",
              "    <tr>\n",
              "      <th>31960</th>\n",
              "      <td>@user #sikh #temple vandalised in in #calgary,...</td>\n",
              "      <td>0</td>\n",
              "    </tr>\n",
              "    <tr>\n",
              "      <th>31961</th>\n",
              "      <td>thank you @user for you follow</td>\n",
              "      <td>0</td>\n",
              "    </tr>\n",
              "  </tbody>\n",
              "</table>\n",
              "<p>31962 rows × 2 columns</p>\n",
              "</div>"
            ],
            "text/plain": [
              "                                                   tweet  numeric_count\n",
              "0       @user when a father is dysfunctional and is s...              0\n",
              "1      @user @user thanks for #lyft credit i can't us...              0\n",
              "2                                    bihday your majesty              0\n",
              "3      #model   i love u take with u all the time in ...              0\n",
              "4                 factsguide: society now    #motivation              0\n",
              "...                                                  ...            ...\n",
              "31957  ate @user isz that youuu?ðððððð...              0\n",
              "31958    to see nina turner on the airwaves trying to...              0\n",
              "31959  listening to sad songs on a monday morning otw...              0\n",
              "31960  @user #sikh #temple vandalised in in #calgary,...              0\n",
              "31961                   thank you @user for you follow                0\n",
              "\n",
              "[31962 rows x 2 columns]"
            ]
          },
          "metadata": {
            "tags": []
          },
          "execution_count": 74
        }
      ]
    },
    {
      "cell_type": "code",
      "metadata": {
        "id": "ZlmXrpPTDq7_",
        "colab": {
          "base_uri": "https://localhost:8080/",
          "height": 424
        },
        "outputId": "f0d4b1d1-cee2-407d-b2db-b7a3e5a26bfa"
      },
      "source": [
        "#Number of uppercase words\n",
        "train['upper'] = train['tweet'].apply(lambda x: len([x for x in x.split() if x.isupper()]))\n",
        "train[['tweet','upper']]\n"
      ],
      "execution_count": null,
      "outputs": [
        {
          "output_type": "execute_result",
          "data": {
            "text/html": [
              "<div>\n",
              "<style scoped>\n",
              "    .dataframe tbody tr th:only-of-type {\n",
              "        vertical-align: middle;\n",
              "    }\n",
              "\n",
              "    .dataframe tbody tr th {\n",
              "        vertical-align: top;\n",
              "    }\n",
              "\n",
              "    .dataframe thead th {\n",
              "        text-align: right;\n",
              "    }\n",
              "</style>\n",
              "<table border=\"1\" class=\"dataframe\">\n",
              "  <thead>\n",
              "    <tr style=\"text-align: right;\">\n",
              "      <th></th>\n",
              "      <th>tweet</th>\n",
              "      <th>upper</th>\n",
              "    </tr>\n",
              "  </thead>\n",
              "  <tbody>\n",
              "    <tr>\n",
              "      <th>0</th>\n",
              "      <td>@user when a father is dysfunctional and is s...</td>\n",
              "      <td>0</td>\n",
              "    </tr>\n",
              "    <tr>\n",
              "      <th>1</th>\n",
              "      <td>@user @user thanks for #lyft credit i can't us...</td>\n",
              "      <td>0</td>\n",
              "    </tr>\n",
              "    <tr>\n",
              "      <th>2</th>\n",
              "      <td>bihday your majesty</td>\n",
              "      <td>0</td>\n",
              "    </tr>\n",
              "    <tr>\n",
              "      <th>3</th>\n",
              "      <td>#model   i love u take with u all the time in ...</td>\n",
              "      <td>0</td>\n",
              "    </tr>\n",
              "    <tr>\n",
              "      <th>4</th>\n",
              "      <td>factsguide: society now    #motivation</td>\n",
              "      <td>0</td>\n",
              "    </tr>\n",
              "    <tr>\n",
              "      <th>...</th>\n",
              "      <td>...</td>\n",
              "      <td>...</td>\n",
              "    </tr>\n",
              "    <tr>\n",
              "      <th>31957</th>\n",
              "      <td>ate @user isz that youuu?ðððððð...</td>\n",
              "      <td>0</td>\n",
              "    </tr>\n",
              "    <tr>\n",
              "      <th>31958</th>\n",
              "      <td>to see nina turner on the airwaves trying to...</td>\n",
              "      <td>0</td>\n",
              "    </tr>\n",
              "    <tr>\n",
              "      <th>31959</th>\n",
              "      <td>listening to sad songs on a monday morning otw...</td>\n",
              "      <td>0</td>\n",
              "    </tr>\n",
              "    <tr>\n",
              "      <th>31960</th>\n",
              "      <td>@user #sikh #temple vandalised in in #calgary,...</td>\n",
              "      <td>0</td>\n",
              "    </tr>\n",
              "    <tr>\n",
              "      <th>31961</th>\n",
              "      <td>thank you @user for you follow</td>\n",
              "      <td>0</td>\n",
              "    </tr>\n",
              "  </tbody>\n",
              "</table>\n",
              "<p>31962 rows × 2 columns</p>\n",
              "</div>"
            ],
            "text/plain": [
              "                                                   tweet  upper\n",
              "0       @user when a father is dysfunctional and is s...      0\n",
              "1      @user @user thanks for #lyft credit i can't us...      0\n",
              "2                                    bihday your majesty      0\n",
              "3      #model   i love u take with u all the time in ...      0\n",
              "4                 factsguide: society now    #motivation      0\n",
              "...                                                  ...    ...\n",
              "31957  ate @user isz that youuu?ðððððð...      0\n",
              "31958    to see nina turner on the airwaves trying to...      0\n",
              "31959  listening to sad songs on a monday morning otw...      0\n",
              "31960  @user #sikh #temple vandalised in in #calgary,...      0\n",
              "31961                   thank you @user for you follow        0\n",
              "\n",
              "[31962 rows x 2 columns]"
            ]
          },
          "metadata": {
            "tags": []
          },
          "execution_count": 75
        }
      ]
    },
    {
      "cell_type": "markdown",
      "metadata": {
        "id": "AyFo977OEb6k"
      },
      "source": [
        "BASIC PREPROCESSING"
      ]
    },
    {
      "cell_type": "code",
      "metadata": {
        "id": "P1fioXv4EFj3",
        "colab": {
          "base_uri": "https://localhost:8080/"
        },
        "outputId": "d5f05171-42e8-4064-a3b1-43375d56c27d"
      },
      "source": [
        "#Lower casing\n",
        "\n",
        "train['tweet'] = train['tweet'].apply(lambda x: \" \".join(x.lower() for x in x.split()))\n",
        "train['tweet']"
      ],
      "execution_count": null,
      "outputs": [
        {
          "output_type": "execute_result",
          "data": {
            "text/plain": [
              "0        @user when a father is dysfunctional and is so...\n",
              "1        @user @user thanks for #lyft credit i can't us...\n",
              "2                                      bihday your majesty\n",
              "3        #model i love u take with u all the time in ur...\n",
              "4                      factsguide: society now #motivation\n",
              "                               ...                        \n",
              "31957    ate @user isz that youuu?ðððððð...\n",
              "31958    to see nina turner on the airwaves trying to w...\n",
              "31959    listening to sad songs on a monday morning otw...\n",
              "31960    @user #sikh #temple vandalised in in #calgary,...\n",
              "31961                       thank you @user for you follow\n",
              "Name: tweet, Length: 31962, dtype: object"
            ]
          },
          "metadata": {
            "tags": []
          },
          "execution_count": 76
        }
      ]
    },
    {
      "cell_type": "code",
      "metadata": {
        "id": "9uMYUq6fFAYY",
        "colab": {
          "base_uri": "https://localhost:8080/"
        },
        "outputId": "6f488c1e-5e2b-4b94-a9c0-570e6ace1269"
      },
      "source": [
        "#Remove puntuation\n",
        "train['tweet'] = train['tweet'].str.replace('[^\\w\\s]','')\n",
        "train['tweet']"
      ],
      "execution_count": null,
      "outputs": [
        {
          "output_type": "execute_result",
          "data": {
            "text/plain": [
              "0        user when a father is dysfunctional and is so ...\n",
              "1        user user thanks for lyft credit i cant use ca...\n",
              "2                                      bihday your majesty\n",
              "3        model i love u take with u all the time in urð...\n",
              "4                        factsguide society now motivation\n",
              "                               ...                        \n",
              "31957                   ate user isz that youuuðððððððððâï\n",
              "31958    to see nina turner on the airwaves trying to w...\n",
              "31959    listening to sad songs on a monday morning otw...\n",
              "31960    user sikh temple vandalised in in calgary wso ...\n",
              "31961                        thank you user for you follow\n",
              "Name: tweet, Length: 31962, dtype: object"
            ]
          },
          "metadata": {
            "tags": []
          },
          "execution_count": 77
        }
      ]
    },
    {
      "cell_type": "code",
      "metadata": {
        "id": "urwL_JJPIURz",
        "colab": {
          "base_uri": "https://localhost:8080/"
        },
        "outputId": "1f01a2c7-0b31-49d9-835c-60ec9b153254"
      },
      "source": [
        "#Removing stopwords\n",
        "train['tweet'] = train['tweet'].apply(lambda x: ' '.join(x for x in x.split() if x not in stop))\n",
        "train['tweet']"
      ],
      "execution_count": null,
      "outputs": [
        {
          "output_type": "execute_result",
          "data": {
            "text/plain": [
              "0        user father dysfunctional selfish drags kids d...\n",
              "1        user user thanks lyft credit cant use cause do...\n",
              "2                                           bihday majesty\n",
              "3                    model love u take u time urð ðððð ððð\n",
              "4                            factsguide society motivation\n",
              "                               ...                        \n",
              "31957                        ate user isz youuuðððððððððâï\n",
              "31958    see nina turner airwaves trying wrap mantle ge...\n",
              "31959      listening sad songs monday morning otw work sad\n",
              "31960    user sikh temple vandalised calgary wso condem...\n",
              "31961                                    thank user follow\n",
              "Name: tweet, Length: 31962, dtype: object"
            ]
          },
          "metadata": {
            "tags": []
          },
          "execution_count": 78
        }
      ]
    },
    {
      "cell_type": "code",
      "metadata": {
        "id": "cualYEytI8_1",
        "colab": {
          "base_uri": "https://localhost:8080/"
        },
        "outputId": "c11baeff-64de-47ff-d1a8-d93e1bd2efe8"
      },
      "source": [
        "#Common word remover\n",
        "freq = pd.Series(' '.join(train['tweet']).split()).value_counts()[:10]\n",
        "freq"
      ],
      "execution_count": null,
      "outputs": [
        {
          "output_type": "execute_result",
          "data": {
            "text/plain": [
              "user     17473\n",
              "love      2647\n",
              "ð         2511\n",
              "day       2199\n",
              "â         1797\n",
              "happy     1663\n",
              "amp       1582\n",
              "im        1139\n",
              "u         1136\n",
              "time      1110\n",
              "dtype: int64"
            ]
          },
          "metadata": {
            "tags": []
          },
          "execution_count": 79
        }
      ]
    },
    {
      "cell_type": "code",
      "metadata": {
        "id": "pgNFtsyBOkkJ",
        "colab": {
          "base_uri": "https://localhost:8080/"
        },
        "outputId": "2c61dfc0-3cec-4b2a-9f15-418a9ae30324"
      },
      "source": [
        "freq_words = list(freq.index)\n",
        "train['tweet'] = train['tweet'].apply(lambda x: ' '.join(x for x in x.split() if x not in freq_words))\n",
        "train['tweet']"
      ],
      "execution_count": null,
      "outputs": [
        {
          "output_type": "execute_result",
          "data": {
            "text/plain": [
              "0        father dysfunctional selfish drags kids dysfun...\n",
              "1        thanks lyft credit cant use cause dont offer w...\n",
              "2                                           bihday majesty\n",
              "3                                  model take urð ðððð ððð\n",
              "4                            factsguide society motivation\n",
              "                               ...                        \n",
              "31957                             ate isz youuuðððððððððâï\n",
              "31958    see nina turner airwaves trying wrap mantle ge...\n",
              "31959      listening sad songs monday morning otw work sad\n",
              "31960      sikh temple vandalised calgary wso condemns act\n",
              "31961                                         thank follow\n",
              "Name: tweet, Length: 31962, dtype: object"
            ]
          },
          "metadata": {
            "tags": []
          },
          "execution_count": 80
        }
      ]
    },
    {
      "cell_type": "code",
      "metadata": {
        "id": "AzYyaIYmSQ44",
        "colab": {
          "base_uri": "https://localhost:8080/"
        },
        "outputId": "f00f39fb-8899-4a1b-e21d-382dd6793ea4"
      },
      "source": [
        "\n",
        "rare = pd.Series(' '.join(train['tweet']).split()).value_counts()[-10:]\n",
        "rare_words = list(rare.index)\n",
        "train['tweet'] = train['tweet'].apply(lambda x: ' '.join(x for x in x.split() if x not in rare_words))\n",
        "train['tweet']"
      ],
      "execution_count": null,
      "outputs": [
        {
          "output_type": "execute_result",
          "data": {
            "text/plain": [
              "0        father dysfunctional selfish drags kids dysfun...\n",
              "1        thanks lyft credit cant use cause dont offer w...\n",
              "2                                           bihday majesty\n",
              "3                                  model take urð ðððð ððð\n",
              "4                            factsguide society motivation\n",
              "                               ...                        \n",
              "31957                             ate isz youuuðððððððððâï\n",
              "31958    see nina turner airwaves trying wrap mantle ge...\n",
              "31959      listening sad songs monday morning otw work sad\n",
              "31960      sikh temple vandalised calgary wso condemns act\n",
              "31961                                         thank follow\n",
              "Name: tweet, Length: 31962, dtype: object"
            ]
          },
          "metadata": {
            "tags": []
          },
          "execution_count": 81
        }
      ]
    },
    {
      "cell_type": "code",
      "metadata": {
        "id": "RgdjBGB6Sz57",
        "colab": {
          "base_uri": "https://localhost:8080/"
        },
        "outputId": "be3ce4f7-71f4-4bbc-ce46-ad535b62885d"
      },
      "source": [
        "#Installing TEXTBLOB\n",
        "!pip install -U textblob"
      ],
      "execution_count": null,
      "outputs": [
        {
          "output_type": "stream",
          "text": [
            "Requirement already up-to-date: textblob in /usr/local/lib/python3.6/dist-packages (0.15.3)\n",
            "Requirement already satisfied, skipping upgrade: nltk>=3.1 in /usr/local/lib/python3.6/dist-packages (from textblob) (3.2.5)\n",
            "Requirement already satisfied, skipping upgrade: six in /usr/local/lib/python3.6/dist-packages (from nltk>=3.1->textblob) (1.15.0)\n"
          ],
          "name": "stdout"
        }
      ]
    },
    {
      "cell_type": "code",
      "metadata": {
        "id": "QNmFNryzVFga",
        "colab": {
          "base_uri": "https://localhost:8080/"
        },
        "outputId": "85c6450a-d74b-4691-97e3-acc44370833d"
      },
      "source": [
        "!python -m textblob.download_corpora"
      ],
      "execution_count": null,
      "outputs": [
        {
          "output_type": "stream",
          "text": [
            "[nltk_data] Downloading package brown to /root/nltk_data...\n",
            "[nltk_data]   Package brown is already up-to-date!\n",
            "[nltk_data] Downloading package punkt to /root/nltk_data...\n",
            "[nltk_data]   Package punkt is already up-to-date!\n",
            "[nltk_data] Downloading package wordnet to /root/nltk_data...\n",
            "[nltk_data]   Package wordnet is already up-to-date!\n",
            "[nltk_data] Downloading package averaged_perceptron_tagger to\n",
            "[nltk_data]     /root/nltk_data...\n",
            "[nltk_data]   Package averaged_perceptron_tagger is already up-to-\n",
            "[nltk_data]       date!\n",
            "[nltk_data] Downloading package conll2000 to /root/nltk_data...\n",
            "[nltk_data]   Package conll2000 is already up-to-date!\n",
            "[nltk_data] Downloading package movie_reviews to /root/nltk_data...\n",
            "[nltk_data]   Package movie_reviews is already up-to-date!\n",
            "Finished.\n"
          ],
          "name": "stdout"
        }
      ]
    },
    {
      "cell_type": "code",
      "metadata": {
        "id": "tJLaooNiVUaW",
        "colab": {
          "base_uri": "https://localhost:8080/"
        },
        "outputId": "59c3b2e3-cc2f-4a63-a1cf-9c5e9943f531"
      },
      "source": [
        "#Spelling correction\n",
        "from textblob import TextBlob\n",
        "train['tweet'][:5].apply(lambda x: str(TextBlob(x).correct()))\n"
      ],
      "execution_count": null,
      "outputs": [
        {
          "output_type": "execute_result",
          "data": {
            "text/plain": [
              "0    father dysfunctional selfish drags kiss dysfun...\n",
              "1    thanks left credit can use cause dont offer wh...\n",
              "2                                       midday majesty\n",
              "3                               model take or ðððð ððð\n",
              "4                        factsguide society motivation\n",
              "Name: tweet, dtype: object"
            ]
          },
          "metadata": {
            "tags": []
          },
          "execution_count": 84
        }
      ]
    },
    {
      "cell_type": "code",
      "metadata": {
        "id": "5McwMoO0cdDq",
        "colab": {
          "base_uri": "https://localhost:8080/"
        },
        "outputId": "06e89651-433d-49c6-daab-c854e3941367"
      },
      "source": [
        "#Tokenization\n",
        "TextBlob(train['tweet'][1]).words"
      ],
      "execution_count": null,
      "outputs": [
        {
          "output_type": "execute_result",
          "data": {
            "text/plain": [
              "WordList(['thanks', 'lyft', 'credit', 'cant', 'use', 'cause', 'dont', 'offer', 'wheelchair', 'vans', 'pdx', 'disapointed', 'getthanked'])"
            ]
          },
          "metadata": {
            "tags": []
          },
          "execution_count": 85
        }
      ]
    },
    {
      "cell_type": "code",
      "metadata": {
        "id": "5hYodvN9hAam",
        "colab": {
          "base_uri": "https://localhost:8080/"
        },
        "outputId": "062ea2c3-5534-4f3a-a4a3-2d0d8e8b44da"
      },
      "source": [
        "#Stemming\n",
        "\n",
        "from nltk.stem import PorterStemmer\n",
        "st = PorterStemmer()\n",
        "train['tweet'][:5].apply(lambda x: ' '.join(st.stem(x) for x in x.split()))"
      ],
      "execution_count": null,
      "outputs": [
        {
          "output_type": "execute_result",
          "data": {
            "text/plain": [
              "0        father dysfunct selfish drag kid dysfunct run\n",
              "1    thank lyft credit cant use caus dont offer whe...\n",
              "2                                       bihday majesti\n",
              "3                              model take urð ðððð ððð\n",
              "4                              factsguid societi motiv\n",
              "Name: tweet, dtype: object"
            ]
          },
          "metadata": {
            "tags": []
          },
          "execution_count": 86
        }
      ]
    },
    {
      "cell_type": "code",
      "metadata": {
        "id": "QZC9QYNyjG18",
        "colab": {
          "base_uri": "https://localhost:8080/"
        },
        "outputId": "0d376630-ce55-42a1-f3e7-72edf030365b"
      },
      "source": [
        "#lemmatizing \n",
        "from textblob import  Word\n",
        "train['tweet'][:5].apply(lambda x: ' '.join(Word(x).lemmatize() for x in x.split()))"
      ],
      "execution_count": null,
      "outputs": [
        {
          "output_type": "execute_result",
          "data": {
            "text/plain": [
              "0    father dysfunctional selfish drag kid dysfunct...\n",
              "1    thanks lyft credit cant use cause dont offer w...\n",
              "2                                       bihday majesty\n",
              "3                              model take urð ðððð ððð\n",
              "4                        factsguide society motivation\n",
              "Name: tweet, dtype: object"
            ]
          },
          "metadata": {
            "tags": []
          },
          "execution_count": 87
        }
      ]
    },
    {
      "cell_type": "markdown",
      "metadata": {
        "id": "F5bAEleOlW0X"
      },
      "source": [
        "ADVANCED TEXT PROCESSING"
      ]
    },
    {
      "cell_type": "code",
      "metadata": {
        "id": "Km7qqL9IktlA",
        "colab": {
          "base_uri": "https://localhost:8080/"
        },
        "outputId": "151add13-af8a-426f-f80a-4b035831cfd1"
      },
      "source": [
        "#n-grams\n",
        "TextBlob(train['tweet'][0]).ngrams(2)"
      ],
      "execution_count": null,
      "outputs": [
        {
          "output_type": "execute_result",
          "data": {
            "text/plain": [
              "[WordList(['father', 'dysfunctional']),\n",
              " WordList(['dysfunctional', 'selfish']),\n",
              " WordList(['selfish', 'drags']),\n",
              " WordList(['drags', 'kids']),\n",
              " WordList(['kids', 'dysfunction']),\n",
              " WordList(['dysfunction', 'run'])]"
            ]
          },
          "metadata": {
            "tags": []
          },
          "execution_count": 88
        }
      ]
    },
    {
      "cell_type": "code",
      "metadata": {
        "id": "59abJ93fl2hi",
        "colab": {
          "base_uri": "https://localhost:8080/",
          "height": 457
        },
        "outputId": "f99ca841-7f52-4e99-f9c2-57250a241691"
      },
      "source": [
        "#Team frequency\n",
        "tf1 = (train['tweet'][1:2]).apply(lambda x: pd.value_counts(x.split(' '))).sum(axis = 0).reset_index()\n",
        "tf1.columns = ['words','tf']\n",
        "tf1"
      ],
      "execution_count": null,
      "outputs": [
        {
          "output_type": "execute_result",
          "data": {
            "text/html": [
              "<div>\n",
              "<style scoped>\n",
              "    .dataframe tbody tr th:only-of-type {\n",
              "        vertical-align: middle;\n",
              "    }\n",
              "\n",
              "    .dataframe tbody tr th {\n",
              "        vertical-align: top;\n",
              "    }\n",
              "\n",
              "    .dataframe thead th {\n",
              "        text-align: right;\n",
              "    }\n",
              "</style>\n",
              "<table border=\"1\" class=\"dataframe\">\n",
              "  <thead>\n",
              "    <tr style=\"text-align: right;\">\n",
              "      <th></th>\n",
              "      <th>words</th>\n",
              "      <th>tf</th>\n",
              "    </tr>\n",
              "  </thead>\n",
              "  <tbody>\n",
              "    <tr>\n",
              "      <th>0</th>\n",
              "      <td>dont</td>\n",
              "      <td>1</td>\n",
              "    </tr>\n",
              "    <tr>\n",
              "      <th>1</th>\n",
              "      <td>thanks</td>\n",
              "      <td>1</td>\n",
              "    </tr>\n",
              "    <tr>\n",
              "      <th>2</th>\n",
              "      <td>credit</td>\n",
              "      <td>1</td>\n",
              "    </tr>\n",
              "    <tr>\n",
              "      <th>3</th>\n",
              "      <td>wheelchair</td>\n",
              "      <td>1</td>\n",
              "    </tr>\n",
              "    <tr>\n",
              "      <th>4</th>\n",
              "      <td>use</td>\n",
              "      <td>1</td>\n",
              "    </tr>\n",
              "    <tr>\n",
              "      <th>5</th>\n",
              "      <td>vans</td>\n",
              "      <td>1</td>\n",
              "    </tr>\n",
              "    <tr>\n",
              "      <th>6</th>\n",
              "      <td>lyft</td>\n",
              "      <td>1</td>\n",
              "    </tr>\n",
              "    <tr>\n",
              "      <th>7</th>\n",
              "      <td>cant</td>\n",
              "      <td>1</td>\n",
              "    </tr>\n",
              "    <tr>\n",
              "      <th>8</th>\n",
              "      <td>offer</td>\n",
              "      <td>1</td>\n",
              "    </tr>\n",
              "    <tr>\n",
              "      <th>9</th>\n",
              "      <td>getthanked</td>\n",
              "      <td>1</td>\n",
              "    </tr>\n",
              "    <tr>\n",
              "      <th>10</th>\n",
              "      <td>disapointed</td>\n",
              "      <td>1</td>\n",
              "    </tr>\n",
              "    <tr>\n",
              "      <th>11</th>\n",
              "      <td>cause</td>\n",
              "      <td>1</td>\n",
              "    </tr>\n",
              "    <tr>\n",
              "      <th>12</th>\n",
              "      <td>pdx</td>\n",
              "      <td>1</td>\n",
              "    </tr>\n",
              "  </tbody>\n",
              "</table>\n",
              "</div>"
            ],
            "text/plain": [
              "          words  tf\n",
              "0          dont   1\n",
              "1        thanks   1\n",
              "2        credit   1\n",
              "3    wheelchair   1\n",
              "4           use   1\n",
              "5          vans   1\n",
              "6          lyft   1\n",
              "7          cant   1\n",
              "8         offer   1\n",
              "9    getthanked   1\n",
              "10  disapointed   1\n",
              "11        cause   1\n",
              "12          pdx   1"
            ]
          },
          "metadata": {
            "tags": []
          },
          "execution_count": 89
        }
      ]
    },
    {
      "cell_type": "code",
      "metadata": {
        "id": "Ml3BNCavmvhN",
        "colab": {
          "base_uri": "https://localhost:8080/",
          "height": 457
        },
        "outputId": "f9e0366d-8fa3-4d07-ea3b-6771e70f9633"
      },
      "source": [
        "\n",
        "#Inverse Document Frequency\n",
        "for i,word in enumerate(tf1['words']):\n",
        "  tf1.loc[i, 'idf'] = np.log(train.shape[0]/(len(train[train['tweet'].str.contains(word)])))\n",
        "tf1"
      ],
      "execution_count": null,
      "outputs": [
        {
          "output_type": "execute_result",
          "data": {
            "text/html": [
              "<div>\n",
              "<style scoped>\n",
              "    .dataframe tbody tr th:only-of-type {\n",
              "        vertical-align: middle;\n",
              "    }\n",
              "\n",
              "    .dataframe tbody tr th {\n",
              "        vertical-align: top;\n",
              "    }\n",
              "\n",
              "    .dataframe thead th {\n",
              "        text-align: right;\n",
              "    }\n",
              "</style>\n",
              "<table border=\"1\" class=\"dataframe\">\n",
              "  <thead>\n",
              "    <tr style=\"text-align: right;\">\n",
              "      <th></th>\n",
              "      <th>words</th>\n",
              "      <th>tf</th>\n",
              "      <th>idf</th>\n",
              "    </tr>\n",
              "  </thead>\n",
              "  <tbody>\n",
              "    <tr>\n",
              "      <th>0</th>\n",
              "      <td>dont</td>\n",
              "      <td>1</td>\n",
              "      <td>3.745585</td>\n",
              "    </tr>\n",
              "    <tr>\n",
              "      <th>1</th>\n",
              "      <td>thanks</td>\n",
              "      <td>1</td>\n",
              "      <td>4.597751</td>\n",
              "    </tr>\n",
              "    <tr>\n",
              "      <th>2</th>\n",
              "      <td>credit</td>\n",
              "      <td>1</td>\n",
              "      <td>7.327781</td>\n",
              "    </tr>\n",
              "    <tr>\n",
              "      <th>3</th>\n",
              "      <td>wheelchair</td>\n",
              "      <td>1</td>\n",
              "      <td>9.273691</td>\n",
              "    </tr>\n",
              "    <tr>\n",
              "      <th>4</th>\n",
              "      <td>use</td>\n",
              "      <td>1</td>\n",
              "      <td>3.542509</td>\n",
              "    </tr>\n",
              "    <tr>\n",
              "      <th>5</th>\n",
              "      <td>vans</td>\n",
              "      <td>1</td>\n",
              "      <td>8.426393</td>\n",
              "    </tr>\n",
              "    <tr>\n",
              "      <th>6</th>\n",
              "      <td>lyft</td>\n",
              "      <td>1</td>\n",
              "      <td>8.762865</td>\n",
              "    </tr>\n",
              "    <tr>\n",
              "      <th>7</th>\n",
              "      <td>cant</td>\n",
              "      <td>1</td>\n",
              "      <td>3.538194</td>\n",
              "    </tr>\n",
              "    <tr>\n",
              "      <th>8</th>\n",
              "      <td>offer</td>\n",
              "      <td>1</td>\n",
              "      <td>6.522155</td>\n",
              "    </tr>\n",
              "    <tr>\n",
              "      <th>9</th>\n",
              "      <td>getthanked</td>\n",
              "      <td>1</td>\n",
              "      <td>9.679156</td>\n",
              "    </tr>\n",
              "    <tr>\n",
              "      <th>10</th>\n",
              "      <td>disapointed</td>\n",
              "      <td>1</td>\n",
              "      <td>10.372303</td>\n",
              "    </tr>\n",
              "    <tr>\n",
              "      <th>11</th>\n",
              "      <td>cause</td>\n",
              "      <td>1</td>\n",
              "      <td>5.690172</td>\n",
              "    </tr>\n",
              "    <tr>\n",
              "      <th>12</th>\n",
              "      <td>pdx</td>\n",
              "      <td>1</td>\n",
              "      <td>8.762865</td>\n",
              "    </tr>\n",
              "  </tbody>\n",
              "</table>\n",
              "</div>"
            ],
            "text/plain": [
              "          words  tf        idf\n",
              "0          dont   1   3.745585\n",
              "1        thanks   1   4.597751\n",
              "2        credit   1   7.327781\n",
              "3    wheelchair   1   9.273691\n",
              "4           use   1   3.542509\n",
              "5          vans   1   8.426393\n",
              "6          lyft   1   8.762865\n",
              "7          cant   1   3.538194\n",
              "8         offer   1   6.522155\n",
              "9    getthanked   1   9.679156\n",
              "10  disapointed   1  10.372303\n",
              "11        cause   1   5.690172\n",
              "12          pdx   1   8.762865"
            ]
          },
          "metadata": {
            "tags": []
          },
          "execution_count": 91
        }
      ]
    },
    {
      "cell_type": "code",
      "metadata": {
        "id": "-cF58zP6g46c",
        "colab": {
          "base_uri": "https://localhost:8080/",
          "height": 457
        },
        "outputId": "b1841dde-e93a-4fa9-806e-1e29b52e62f7"
      },
      "source": [
        "tf1['tfidf'] = tf1['tf']*tf1['idf']\n",
        "tf1"
      ],
      "execution_count": null,
      "outputs": [
        {
          "output_type": "execute_result",
          "data": {
            "text/html": [
              "<div>\n",
              "<style scoped>\n",
              "    .dataframe tbody tr th:only-of-type {\n",
              "        vertical-align: middle;\n",
              "    }\n",
              "\n",
              "    .dataframe tbody tr th {\n",
              "        vertical-align: top;\n",
              "    }\n",
              "\n",
              "    .dataframe thead th {\n",
              "        text-align: right;\n",
              "    }\n",
              "</style>\n",
              "<table border=\"1\" class=\"dataframe\">\n",
              "  <thead>\n",
              "    <tr style=\"text-align: right;\">\n",
              "      <th></th>\n",
              "      <th>words</th>\n",
              "      <th>tf</th>\n",
              "      <th>idf</th>\n",
              "      <th>tfidf</th>\n",
              "    </tr>\n",
              "  </thead>\n",
              "  <tbody>\n",
              "    <tr>\n",
              "      <th>0</th>\n",
              "      <td>dont</td>\n",
              "      <td>1</td>\n",
              "      <td>3.745585</td>\n",
              "      <td>3.745585</td>\n",
              "    </tr>\n",
              "    <tr>\n",
              "      <th>1</th>\n",
              "      <td>thanks</td>\n",
              "      <td>1</td>\n",
              "      <td>4.597751</td>\n",
              "      <td>4.597751</td>\n",
              "    </tr>\n",
              "    <tr>\n",
              "      <th>2</th>\n",
              "      <td>credit</td>\n",
              "      <td>1</td>\n",
              "      <td>7.327781</td>\n",
              "      <td>7.327781</td>\n",
              "    </tr>\n",
              "    <tr>\n",
              "      <th>3</th>\n",
              "      <td>wheelchair</td>\n",
              "      <td>1</td>\n",
              "      <td>9.273691</td>\n",
              "      <td>9.273691</td>\n",
              "    </tr>\n",
              "    <tr>\n",
              "      <th>4</th>\n",
              "      <td>use</td>\n",
              "      <td>1</td>\n",
              "      <td>3.542509</td>\n",
              "      <td>3.542509</td>\n",
              "    </tr>\n",
              "    <tr>\n",
              "      <th>5</th>\n",
              "      <td>vans</td>\n",
              "      <td>1</td>\n",
              "      <td>8.426393</td>\n",
              "      <td>8.426393</td>\n",
              "    </tr>\n",
              "    <tr>\n",
              "      <th>6</th>\n",
              "      <td>lyft</td>\n",
              "      <td>1</td>\n",
              "      <td>8.762865</td>\n",
              "      <td>8.762865</td>\n",
              "    </tr>\n",
              "    <tr>\n",
              "      <th>7</th>\n",
              "      <td>cant</td>\n",
              "      <td>1</td>\n",
              "      <td>3.538194</td>\n",
              "      <td>3.538194</td>\n",
              "    </tr>\n",
              "    <tr>\n",
              "      <th>8</th>\n",
              "      <td>offer</td>\n",
              "      <td>1</td>\n",
              "      <td>6.522155</td>\n",
              "      <td>6.522155</td>\n",
              "    </tr>\n",
              "    <tr>\n",
              "      <th>9</th>\n",
              "      <td>getthanked</td>\n",
              "      <td>1</td>\n",
              "      <td>9.679156</td>\n",
              "      <td>9.679156</td>\n",
              "    </tr>\n",
              "    <tr>\n",
              "      <th>10</th>\n",
              "      <td>disapointed</td>\n",
              "      <td>1</td>\n",
              "      <td>10.372303</td>\n",
              "      <td>10.372303</td>\n",
              "    </tr>\n",
              "    <tr>\n",
              "      <th>11</th>\n",
              "      <td>cause</td>\n",
              "      <td>1</td>\n",
              "      <td>5.690172</td>\n",
              "      <td>5.690172</td>\n",
              "    </tr>\n",
              "    <tr>\n",
              "      <th>12</th>\n",
              "      <td>pdx</td>\n",
              "      <td>1</td>\n",
              "      <td>8.762865</td>\n",
              "      <td>8.762865</td>\n",
              "    </tr>\n",
              "  </tbody>\n",
              "</table>\n",
              "</div>"
            ],
            "text/plain": [
              "          words  tf        idf      tfidf\n",
              "0          dont   1   3.745585   3.745585\n",
              "1        thanks   1   4.597751   4.597751\n",
              "2        credit   1   7.327781   7.327781\n",
              "3    wheelchair   1   9.273691   9.273691\n",
              "4           use   1   3.542509   3.542509\n",
              "5          vans   1   8.426393   8.426393\n",
              "6          lyft   1   8.762865   8.762865\n",
              "7          cant   1   3.538194   3.538194\n",
              "8         offer   1   6.522155   6.522155\n",
              "9    getthanked   1   9.679156   9.679156\n",
              "10  disapointed   1  10.372303  10.372303\n",
              "11        cause   1   5.690172   5.690172\n",
              "12          pdx   1   8.762865   8.762865"
            ]
          },
          "metadata": {
            "tags": []
          },
          "execution_count": 93
        }
      ]
    },
    {
      "cell_type": "code",
      "metadata": {
        "id": "YS9_195ej5hU",
        "colab": {
          "base_uri": "https://localhost:8080/"
        },
        "outputId": "74003dc0-767c-4885-ffab-88bb4e8dbbfe"
      },
      "source": [
        "from sklearn.feature_extraction.text import TfidfVectorizer\n",
        "tfidf = TfidfVectorizer(max_features =1000, lowercase=True, analyzer ='word', stop_words='english', ngram_range=(1,1))\n",
        "train_vect = tfidf.fit_transform(train['tweet'])\n",
        "train_vect"
      ],
      "execution_count": null,
      "outputs": [
        {
          "output_type": "execute_result",
          "data": {
            "text/plain": [
              "<31962x1000 sparse matrix of type '<class 'numpy.float64'>'\n",
              "\twith 108902 stored elements in Compressed Sparse Row format>"
            ]
          },
          "metadata": {
            "tags": []
          },
          "execution_count": 96
        }
      ]
    },
    {
      "cell_type": "code",
      "metadata": {
        "id": "eFaSGr7DlLBZ",
        "colab": {
          "base_uri": "https://localhost:8080/"
        },
        "outputId": "d147420e-8de6-4a06-ab6c-615b6a87df22"
      },
      "source": [
        "#Bag of words\n",
        "from sklearn.feature_extraction.text import CountVectorizer\n",
        "bow = CountVectorizer(max_features=1000, lowercase=True, ngram_range=(1,1),analyzer='word')\n",
        "train_bow = bow.fit_transform(train['tweet'])\n",
        "train_bow"
      ],
      "execution_count": null,
      "outputs": [
        {
          "output_type": "execute_result",
          "data": {
            "text/plain": [
              "<31962x1000 sparse matrix of type '<class 'numpy.int64'>'\n",
              "\twith 123028 stored elements in Compressed Sparse Row format>"
            ]
          },
          "metadata": {
            "tags": []
          },
          "execution_count": 97
        }
      ]
    },
    {
      "cell_type": "code",
      "metadata": {
        "id": "Gu6jMnQimV1j",
        "colab": {
          "base_uri": "https://localhost:8080/"
        },
        "outputId": "bd728818-10a4-4bbe-f109-2328eeb7bfea"
      },
      "source": [
        "#Sentiment Analysis of first tweets\n",
        "train['tweet'][:5].apply(lambda x: TextBlob(x).sentiment)"
      ],
      "execution_count": null,
      "outputs": [
        {
          "output_type": "execute_result",
          "data": {
            "text/plain": [
              "0    (-0.5, 1.0)\n",
              "1     (0.2, 0.2)\n",
              "2     (0.0, 0.0)\n",
              "3     (0.0, 0.0)\n",
              "4     (0.0, 0.0)\n",
              "Name: tweet, dtype: object"
            ]
          },
          "metadata": {
            "tags": []
          },
          "execution_count": 99
        }
      ]
    },
    {
      "cell_type": "code",
      "metadata": {
        "id": "nvVyyCwemzYv"
      },
      "source": [
        "#Making afeature\n",
        "train['sentiment']=train['tweet'].apply(lambda x:TextBlob(x).sentiment[0])\n",
        "train[['tweet','sentiment']]"
      ],
      "execution_count": null,
      "outputs": []
    },
    {
      "cell_type": "markdown",
      "metadata": {
        "id": "ZTaYeIA9oGaa"
      },
      "source": [
        "WORD EMBDDINGDS"
      ]
    },
    {
      "cell_type": "code",
      "metadata": {
        "id": "YKgP-A3foE--"
      },
      "source": [
        "#Steps of working with pretraned word embeddings\n",
        "\n",
        "from gensim.scripts.glove2word2vec impot glove2word2vec\n",
        "glove_input_file     = 'downloaded file of wordembedding'\n",
        "word2vec_output_file = 'downloaded file.word2vec'\n",
        "glove2word2vec(glove_input_file, word2vec_output_file)"
      ],
      "execution_count": null,
      "outputs": []
    },
    {
      "cell_type": "code",
      "metadata": {
        "id": "0aJN-5j9nc8H"
      },
      "source": [
        "#Loading above word2vec file as model\n",
        "from gensims.models import GloVe model\n",
        "filename = 'downloaded file.word2vec'\n",
        "model = KeyedVectors.load_word2vec_format(filename, binary=False)"
      ],
      "execution_count": null,
      "outputs": []
    },
    {
      "cell_type": "code",
      "metadata": {
        "id": "nYLp5Hh7rhAg"
      },
      "source": [
        ""
      ],
      "execution_count": null,
      "outputs": []
    }
  ]
}