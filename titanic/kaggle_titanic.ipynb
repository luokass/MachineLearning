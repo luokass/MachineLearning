{
  "nbformat": 4,
  "nbformat_minor": 0,
  "metadata": {
    "accelerator": "GPU",
    "colab": {
      "name": "kaggle titanic",
      "provenance": [],
      "collapsed_sections": []
    },
    "kernelspec": {
      "display_name": "Python 3",
      "name": "python3"
    }
  },
  "cells": [
    {
      "cell_type": "code",
      "metadata": {
        "id": "khSm7GaxKJlE"
      },
      "source": [
        "import numpy as np\n",
        "import pandas as pd\n",
        "import matplotlib.pyplot as plt\n",
        "%matplotlib inline"
      ],
      "execution_count": null,
      "outputs": []
    },
    {
      "cell_type": "code",
      "metadata": {
        "id": "j9o6Ce45KjPO"
      },
      "source": [
        "df_train = pd.read_csv('train.csv')\n",
        "df_test  = pd.read_csv('test.csv')"
      ],
      "execution_count": null,
      "outputs": []
    },
    {
      "cell_type": "code",
      "metadata": {
        "colab": {
          "base_uri": "https://localhost:8080/"
        },
        "id": "kRqv_xISK-nw",
        "outputId": "7868df95-715f-4590-b81c-68b45b5b8a19"
      },
      "source": [
        "df_train.dtypes"
      ],
      "execution_count": null,
      "outputs": [
        {
          "output_type": "execute_result",
          "data": {
            "text/plain": [
              "PassengerId      int64\n",
              "Survived         int64\n",
              "Pclass           int64\n",
              "Name            object\n",
              "Sex             object\n",
              "Age            float64\n",
              "SibSp            int64\n",
              "Parch            int64\n",
              "Ticket          object\n",
              "Fare           float64\n",
              "Cabin           object\n",
              "Embarked        object\n",
              "dtype: object"
            ]
          },
          "metadata": {
            "tags": []
          },
          "execution_count": 148
        }
      ]
    },
    {
      "cell_type": "markdown",
      "metadata": {
        "id": "xulHf3K3ED1a"
      },
      "source": [
        "## Filling null values in Age column"
      ]
    },
    {
      "cell_type": "code",
      "metadata": {
        "id": "H2XBwHGt3DzQ"
      },
      "source": [
        "mean = df_train['Age'].mean()\n",
        "std  = df_train['Age'].std()"
      ],
      "execution_count": null,
      "outputs": []
    },
    {
      "cell_type": "code",
      "metadata": {
        "id": "9Cw4tV6QLD_K"
      },
      "source": [
        "null_size = df_train['Age'].isnull().sum()\n",
        "rand_age = np.random.randint(mean-std,mean+std,size = null_size)"
      ],
      "execution_count": null,
      "outputs": []
    },
    {
      "cell_type": "code",
      "metadata": {
        "id": "RwqWp6dffrT-"
      },
      "source": [
        "age_slice = df_train['Age'].copy()\n",
        "age_slice[np.isnan(age_slice)]=rand_age\n",
        "df_train['Age'] = age_slice"
      ],
      "execution_count": null,
      "outputs": []
    },
    {
      "cell_type": "code",
      "metadata": {
        "id": "ppGEr8_kJjZ4"
      },
      "source": [
        "mean = df_test['Age'].mean()\n",
        "std  = df_test['Age'].std()"
      ],
      "execution_count": null,
      "outputs": []
    },
    {
      "cell_type": "code",
      "metadata": {
        "id": "iu720tYqJOrt"
      },
      "source": [
        "null_size = df_test['Age'].isnull().sum()\n",
        "rand_age = np.random.randint(mean-std,mean+std,size = null_size)"
      ],
      "execution_count": null,
      "outputs": []
    },
    {
      "cell_type": "code",
      "metadata": {
        "id": "Em-sSF_mJWqq"
      },
      "source": [
        "age_slice = df_test['Age'].copy()\n",
        "age_slice[np.isnan(age_slice)]=rand_age\n",
        "df_test['Age'] = age_slice"
      ],
      "execution_count": null,
      "outputs": []
    },
    {
      "cell_type": "markdown",
      "metadata": {
        "id": "HaF3qxlhDdf0"
      },
      "source": [
        "## Converting into Categorical values"
      ]
    },
    {
      "cell_type": "code",
      "metadata": {
        "id": "AoKtdYil5xUA"
      },
      "source": [
        "df_train['Age'] = df_train['Age'].astype(int)\n",
        "df_train.loc[(df_train['Age']<1),'Age'] = 0\n",
        "df_train.loc[(df_train['Age']>=1) & (df_train['Age']<6),'Age'] = 1\n",
        "df_train.loc[(df_train['Age']>=6) & (df_train['Age']<18),'Age'] = 2\n",
        "df_train.loc[(df_train['Age']>=18) & (df_train['Age']<30),'Age'] = 3\n",
        "df_train.loc[(df_train['Age']>=30) & (df_train['Age']<60),'Age'] = 4\n",
        "df_train.loc[(df_train['Age']>=60),'Age'] = 5\n",
        "df_train['AgeSTR'] = df_train['Age'].astype(str)"
      ],
      "execution_count": null,
      "outputs": []
    },
    {
      "cell_type": "code",
      "metadata": {
        "id": "Gd6NdwywJq8z"
      },
      "source": [
        "df_test['Age'] = df_test['Age'].astype(int)\n",
        "df_test.loc[(df_test['Age']<1),'Age'] = 0\n",
        "df_test.loc[(df_test['Age']>=1) & (df_test['Age']<6),'Age'] = 1\n",
        "df_test.loc[(df_test['Age']>=6) & (df_test['Age']<18),'Age'] = 2\n",
        "df_test.loc[(df_test['Age']>=18) & (df_test['Age']<30),'Age'] = 3\n",
        "df_test.loc[(df_test['Age']>=30) & (df_test['Age']<60),'Age'] = 4\n",
        "df_test.loc[(df_test['Age']>=60),'Age'] = 5\n",
        "df_test['AgeSTR'] = df_test['Age'].astype(str)"
      ],
      "execution_count": null,
      "outputs": []
    },
    {
      "cell_type": "code",
      "metadata": {
        "colab": {
          "base_uri": "https://localhost:8080/"
        },
        "id": "8U7BL7N9NAs-",
        "outputId": "74a2273d-116e-4081-ae05-a716f9f6965b"
      },
      "source": [
        "df_train['Titles'] = df_train['Name'].str.extract(' ([A-Za-z]+)\\.',expand = False)\n",
        "df_train['Titles'].unique()"
      ],
      "execution_count": null,
      "outputs": [
        {
          "output_type": "execute_result",
          "data": {
            "text/plain": [
              "array(['Mr', 'Mrs', 'Miss', 'Master', 'Don', 'Rev', 'Dr', 'Mme', 'Ms',\n",
              "       'Major', 'Lady', 'Sir', 'Mlle', 'Col', 'Capt', 'Countess',\n",
              "       'Jonkheer'], dtype=object)"
            ]
          },
          "metadata": {
            "tags": []
          },
          "execution_count": 157
        }
      ]
    },
    {
      "cell_type": "code",
      "metadata": {
        "id": "0O6t7YFIRHgb"
      },
      "source": [
        "df_train['Titles'] = df_train['Titles'].replace('Mme','Mrs')\n",
        "df_train['Titles'] = df_train['Titles'].replace('Ms','Miss')\n",
        "df_train['Titles'] = df_train['Titles'].replace('Mlle','Miss')\n",
        "df_train['Titles'] = df_train['Titles'].replace(['Master','Don','Rev','Dr','Major','Lady','Sir','Col','Capt','Countess','Jonkheer'],'Rare')"
      ],
      "execution_count": null,
      "outputs": []
    },
    {
      "cell_type": "code",
      "metadata": {
        "colab": {
          "base_uri": "https://localhost:8080/"
        },
        "id": "7sqvB690KI6m",
        "outputId": "e4ad6d61-93c5-4021-8ef1-9fdbb12445ed"
      },
      "source": [
        "df_test['Titles'] = df_test['Name'].str.extract(' ([A-Za-z]+)\\.',expand = False)\n",
        "\n",
        "df_test['Titles'] = df_test['Titles'].replace('Mme','Mrs')\n",
        "df_test['Titles'] = df_test['Titles'].replace('Ms','Miss')\n",
        "df_test['Titles'] = df_test['Titles'].replace('Mlle','Miss')\n",
        "df_test['Titles'] = df_test['Titles'].replace(['Master','Don','Rev','Dona','Dr','Major','Lady','Sir','Col','Capt','Countess','Jonkheer'],'Rare')\n",
        "\n",
        "df_test['Titles'].unique()\n"
      ],
      "execution_count": null,
      "outputs": [
        {
          "output_type": "execute_result",
          "data": {
            "text/plain": [
              "array(['Mr', 'Mrs', 'Miss', 'Rare'], dtype=object)"
            ]
          },
          "metadata": {
            "tags": []
          },
          "execution_count": 159
        }
      ]
    },
    {
      "cell_type": "code",
      "metadata": {
        "colab": {
          "base_uri": "https://localhost:8080/"
        },
        "id": "iAlP47LTUXrR",
        "outputId": "d947aa70-d8cb-4144-8257-af34be7b908b"
      },
      "source": [
        "df_train['Titles'].unique()"
      ],
      "execution_count": null,
      "outputs": [
        {
          "output_type": "execute_result",
          "data": {
            "text/plain": [
              "array(['Mr', 'Mrs', 'Miss', 'Rare'], dtype=object)"
            ]
          },
          "metadata": {
            "tags": []
          },
          "execution_count": 160
        }
      ]
    },
    {
      "cell_type": "code",
      "metadata": {
        "id": "1wv9wP04OxzE"
      },
      "source": [
        "titles = {'Mr':0,'Mrs':1,'Miss':2,'Rare':3}\n",
        "df_train['Titles']=df_train['Titles'].map(titles)\n",
        "df_test['Titles']=df_test['Titles'].map(titles)\n",
        "\n",
        "df_train['Titles']=df_train['Titles'].astype(str)\n",
        "df_test['Titles']=df_test['Titles'].astype(str)"
      ],
      "execution_count": null,
      "outputs": []
    },
    {
      "cell_type": "code",
      "metadata": {
        "colab": {
          "base_uri": "https://localhost:8080/"
        },
        "id": "b21nR-STNmYc",
        "outputId": "ae187b9c-ea0d-4609-a0ab-4fcfe345d2f5"
      },
      "source": [
        "df_test['Fare'] = df_test['Fare'].fillna(0.0)\n",
        "df_test.isnull().sum()"
      ],
      "execution_count": null,
      "outputs": [
        {
          "output_type": "execute_result",
          "data": {
            "text/plain": [
              "PassengerId      0\n",
              "Pclass           0\n",
              "Name             0\n",
              "Sex              0\n",
              "Age              0\n",
              "SibSp            0\n",
              "Parch            0\n",
              "Ticket           0\n",
              "Fare             0\n",
              "Cabin          327\n",
              "Embarked         0\n",
              "AgeSTR           0\n",
              "Titles           0\n",
              "dtype: int64"
            ]
          },
          "metadata": {
            "tags": []
          },
          "execution_count": 162
        }
      ]
    },
    {
      "cell_type": "code",
      "metadata": {
        "id": "tRiV67NiBzFf"
      },
      "source": [
        "df_train['Fare'] = df_train['Fare'].astype(float)\n",
        "df_train.loc[(df_train['Fare']<8.0),'Fare'] = 0\n",
        "df_train.loc[(df_train['Fare']>=8.0) & (df_train['Fare']<15.0),'Fare'] = 1\n",
        "df_train.loc[(df_train['Fare']>=15.0) & (df_train['Fare']<30.0),'Fare'] = 2\n",
        "df_train.loc[(df_train['Fare']>=30.0) & (df_train['Fare']<74.0),'Fare'] = 3\n",
        "df_train.loc[(df_train['Fare']>=74.0) & (df_train['Fare']<265.0),'Fare'] = 4\n",
        "df_train.loc[(df_train['Fare']>=265.0),'Fare'] = 5\n"
      ],
      "execution_count": null,
      "outputs": []
    },
    {
      "cell_type": "code",
      "metadata": {
        "id": "t3RDbf5bKy3d"
      },
      "source": [
        "df_test['Fare'] = df_test['Fare'].astype(float)\n",
        "df_test.loc[(df_test['Fare']<8.0),'Fare'] = 0\n",
        "df_test.loc[(df_test['Fare']>=8.0) & (df_test['Fare']<15.0),'Fare'] = 1\n",
        "df_test.loc[(df_test['Fare']>=15.0) & (df_test['Fare']<30.0),'Fare'] = 2\n",
        "df_test.loc[(df_test['Fare']>=30.0) & (df_test['Fare']<74.0),'Fare'] = 3\n",
        "df_test.loc[(df_test['Fare']>=74.0) & (df_test['Fare']<265.0),'Fare'] = 4\n",
        "df_test.loc[(df_test['Fare']>=265.0),'Fare'] = 5\n"
      ],
      "execution_count": null,
      "outputs": []
    },
    {
      "cell_type": "markdown",
      "metadata": {
        "id": "4eSs-7DDETXA"
      },
      "source": [
        "## New Features---> Famlymem(total family mem), Age/Class--(product of column age and class) and Fare/per(fare per person in a family)."
      ]
    },
    {
      "cell_type": "code",
      "metadata": {
        "id": "BKUDVOMkGhaq"
      },
      "source": [
        "df_train['Farestr'] = df_train['Fare'].astype(str)\n",
        "df_test['Farestr'] = df_test['Fare'].astype(str)"
      ],
      "execution_count": null,
      "outputs": []
    },
    {
      "cell_type": "code",
      "metadata": {
        "id": "pqbYZJTFDa4M"
      },
      "source": [
        "df_train['Sex'].replace('female','F',inplace = True)\n",
        "df_train['Sex'].replace('male','M',inplace = True)\n",
        "\n",
        "df_test['Sex'].replace('female','F',inplace = True)\n",
        "df_test['Sex'].replace('male','M',inplace = True)"
      ],
      "execution_count": null,
      "outputs": []
    },
    {
      "cell_type": "markdown",
      "metadata": {
        "id": "lUeeNNtDE57p"
      },
      "source": [
        "## Famlymem"
      ]
    },
    {
      "cell_type": "code",
      "metadata": {
        "id": "4WnHPk_TEAmG"
      },
      "source": [
        "df_train['famlymem'] = df_train['Parch'] + df_train['SibSp']\n",
        "df_test['famlymem'] = df_test['Parch'] + df_test['SibSp']"
      ],
      "execution_count": null,
      "outputs": []
    },
    {
      "cell_type": "code",
      "metadata": {
        "id": "HoxVV-ovFMvL"
      },
      "source": [
        "df_train['famlymem'] = df_train['famlymem'].astype(int)\n",
        "df_train.loc[(df_train['famlymem']==0),'famlymem'] = 0\n",
        "df_train.loc[(df_train['famlymem']>0) & (df_train['famlymem']<=2),'famlymem'] = 1\n",
        "df_train.loc[(df_train['famlymem']>2) & (df_train['famlymem']<=3),'famlymem'] = 2\n",
        "df_train.loc[(df_train['famlymem']>3) & (df_train['famlymem']<=6),'famlymem'] = 3\n",
        "df_train.loc[(df_train['famlymem']>6),'famlymem'] = 4\n",
        "\n",
        "df_train['famlymemstr'] = df_train['famlymem'].astype(str)"
      ],
      "execution_count": null,
      "outputs": []
    },
    {
      "cell_type": "code",
      "metadata": {
        "id": "r4gjxewkLagW"
      },
      "source": [
        "df_test['famlymem'] = df_test['famlymem'].astype(int)\n",
        "df_test.loc[(df_test['famlymem']==0),'famlymem'] = 0\n",
        "df_test.loc[(df_test['famlymem']>0) & (df_test['famlymem']<=2),'famlymem'] = 1\n",
        "df_test.loc[(df_test['famlymem']>2) & (df_test['famlymem']<=3),'famlymem'] = 2\n",
        "df_test.loc[(df_test['famlymem']>3) & (df_test['famlymem']<=6),'famlymem'] = 3\n",
        "df_test.loc[(df_test['famlymem']>6),'famlymem'] = 4\n",
        "\n",
        "df_test['famlymemstr'] = df_test['famlymem'].astype(str)"
      ],
      "execution_count": null,
      "outputs": []
    },
    {
      "cell_type": "code",
      "metadata": {
        "id": "pvR9XotewkOr"
      },
      "source": [
        "df_train.loc[(df_train['famlymem']==0),'Alone'] = 1\n",
        "df_train.loc[(df_train['famlymem']>0),'Alone']  = 0\n",
        "\n",
        "df_test.loc[(df_test['famlymem']==0),'Alone']   = 1\n",
        "df_test.loc[(df_test['famlymem']>0),'Alone']    = 0\n",
        "\n",
        "df_test['Alone'] = df_test['Alone'].astype(int)\n",
        "df_train['Alone'] = df_train['Alone'].astype(int)\n",
        "\n",
        "#notAlone\n",
        "df_train.loc[(df_train['famlymem']==0),'NotAlone'] = 0\n",
        "df_train.loc[(df_train['famlymem']>0),'NotAlone']  = 1\n",
        "\n",
        "df_test.loc[(df_test['famlymem']==0),'NotAlone']   = 0\n",
        "df_test.loc[(df_test['famlymem']>0),'NotAlone']    = 1\n",
        "\n",
        "df_test['NotAlone'] = df_test['NotAlone'].astype(int)\n",
        "df_train['NotAlone'] = df_train['NotAlone'].astype(int)\n"
      ],
      "execution_count": null,
      "outputs": []
    },
    {
      "cell_type": "code",
      "metadata": {
        "id": "ONRP-7zgIzEV"
      },
      "source": [
        "df_train['PclassSTR'] = df_train['Pclass'].astype(str)\n",
        "df_test['PclassSTR'] = df_test['Pclass'].astype(str)"
      ],
      "execution_count": null,
      "outputs": []
    },
    {
      "cell_type": "code",
      "metadata": {
        "id": "PfOqTig7NAJ7"
      },
      "source": [
        "df_train.isnull().sum()"
      ],
      "execution_count": null,
      "outputs": []
    },
    {
      "cell_type": "markdown",
      "metadata": {
        "id": "rSpMzRiPE-_j"
      },
      "source": [
        "## Age/class"
      ]
    },
    {
      "cell_type": "code",
      "metadata": {
        "id": "LsZcPpsCqLqn"
      },
      "source": [
        "df_train['Age/Class'] = df_train['Age']*df_train['Pclass']\n",
        "df_test['Age/Class'] = df_test['Age']*df_test['Pclass']"
      ],
      "execution_count": null,
      "outputs": []
    },
    {
      "cell_type": "code",
      "metadata": {
        "id": "_seys33v2aWd"
      },
      "source": [
        "df_train['Age/Class'] = df_train['Age/Class'].astype(int)\n",
        "df_train.loc[(df_train['Age/Class']>=0) & (df_train['Age/Class']<=2),'Age/Class'] = 0\n",
        "df_train.loc[(df_train['Age/Class']>2) & (df_train['Age/Class']<=4),'Age/Class'] = 1\n",
        "df_train.loc[(df_train['Age/Class']>4) & (df_train['Age/Class']<=8),'Age/Class'] = 2\n",
        "df_train.loc[(df_train['Age/Class']>8),'Age/Class'] = 3\n",
        "\n",
        "df_test['Age/Class'] = df_test['Age/Class'].astype(int)\n",
        "df_test.loc[(df_test['Age/Class']>=0) & (df_test['Age/Class']<=2),'Age/Class'] = 0\n",
        "df_test.loc[(df_test['Age/Class']>2) & (df_test['Age/Class']<=4),'Age/Class'] = 1\n",
        "df_test.loc[(df_test['Age/Class']>4) & (df_test['Age/Class']<=8),'Age/Class'] = 2\n",
        "df_test.loc[(df_test['Age/Class']>8),'Age/Class'] = 3\n",
        "\n",
        "df_train['Age/Class'] = df_train['Age/Class'].astype(str)\n",
        "df_test['Age/Class'] = df_test['Age/Class'].astype(str)"
      ],
      "execution_count": null,
      "outputs": []
    },
    {
      "cell_type": "markdown",
      "metadata": {
        "id": "SrNR8MoCFCXd"
      },
      "source": [
        "## Fare/per"
      ]
    },
    {
      "cell_type": "code",
      "metadata": {
        "id": "rDh_hXLwqKiI"
      },
      "source": [
        "df_train['Fare/per'] = df_train['Fare']/(df_train['famlymem']+1)\n",
        "df_test['Fare/per'] = df_test['Fare']/(df_test['famlymem']+1)"
      ],
      "execution_count": null,
      "outputs": []
    },
    {
      "cell_type": "code",
      "metadata": {
        "id": "fw8IPIXoUR6D"
      },
      "source": [
        "df_train['Fare'] = df_train['Fare'].astype(int)\n",
        "df_test['Fare'] = df_test['Fare'].astype(int)"
      ],
      "execution_count": null,
      "outputs": []
    },
    {
      "cell_type": "code",
      "metadata": {
        "id": "WK5Wg4Fo4Y4S"
      },
      "source": [
        "df_train['Fare/per'] = df_train['Fare/per'].astype(int)\n",
        "df_train.loc[(df_train['Fare/per']>=0.0) & (df_train['Fare/per']<=0.33),'Fare/per'] = 0\n",
        "df_train.loc[(df_train['Fare/per']>0.33) & (df_train['Fare/per']<=1.00),'Fare/per'] = 1\n",
        "df_train.loc[(df_train['Fare/per']>1.00) & (df_train['Fare/per']<=1.50),'Fare/per'] = 2\n",
        "df_train.loc[(df_train['Fare/per']>1.50) & (df_train['Fare/per']<=3.00),'Fare/per'] = 3\n",
        "df_train.loc[(df_train['Fare/per']>3.00),'Fare/per'] = 4\n",
        "\n",
        "df_test['Fare/per'] = df_test['Fare/per'].astype(int)\n",
        "df_test.loc[(df_test['Fare/per']>=0.0) & (df_test['Fare/per']<=0.33),'Fare/per'] = 0\n",
        "df_test.loc[(df_test['Fare/per']>0.33) & (df_test['Fare/per']<=1.00),'Fare/per'] = 1\n",
        "df_test.loc[(df_test['Fare/per']>1.00) & (df_test['Fare/per']<=1.50),'Fare/per'] = 2\n",
        "df_test.loc[(df_test['Fare/per']>1.50) & (df_test['Fare/per']<=3.00),'Fare/per'] = 3\n",
        "df_test.loc[(df_test['Fare/per']>3.00),'Fare/per'] = 4\n",
        "\n",
        "df_train['Fare/per'] = df_train['Fare/per'].astype(str) \n",
        "df_test['Fare/per']  = df_test['Fare/per'].astype(str)"
      ],
      "execution_count": null,
      "outputs": []
    },
    {
      "cell_type": "code",
      "metadata": {
        "colab": {
          "base_uri": "https://localhost:8080/"
        },
        "id": "ME9MpCmONfLr",
        "outputId": "e5dc79c4-8ff8-420d-c05a-6ac22baa183a"
      },
      "source": [
        "df_test.isnull().sum()"
      ],
      "execution_count": null,
      "outputs": [
        {
          "output_type": "execute_result",
          "data": {
            "text/plain": [
              "PassengerId      0\n",
              "Pclass           0\n",
              "Name             0\n",
              "Sex              0\n",
              "Age              0\n",
              "SibSp            0\n",
              "Parch            0\n",
              "Ticket           0\n",
              "Fare             0\n",
              "Cabin          327\n",
              "Embarked         0\n",
              "AgeSTR           0\n",
              "Titles           0\n",
              "Farestr          0\n",
              "famlymem         0\n",
              "famlymemstr      0\n",
              "Alone            0\n",
              "NotAlone         0\n",
              "PclassSTR        0\n",
              "dtype: int64"
            ]
          },
          "metadata": {
            "tags": []
          },
          "execution_count": 174
        }
      ]
    },
    {
      "cell_type": "code",
      "metadata": {
        "colab": {
          "base_uri": "https://localhost:8080/"
        },
        "id": "cdifvz8mNGSk",
        "outputId": "4c49b9f1-7611-4737-870b-32e3a95d47b2"
      },
      "source": [
        "df_train['Embarked'] = df_train['Embarked'].fillna(df_train['Embarked'].mode()[0])\n",
        "df_train.isnull().sum()"
      ],
      "execution_count": null,
      "outputs": [
        {
          "output_type": "execute_result",
          "data": {
            "text/plain": [
              "PassengerId      0\n",
              "Survived         0\n",
              "Pclass           0\n",
              "Name             0\n",
              "Sex              0\n",
              "Age              0\n",
              "SibSp            0\n",
              "Parch            0\n",
              "Ticket           0\n",
              "Fare             0\n",
              "Cabin          687\n",
              "Embarked         0\n",
              "AgeSTR           0\n",
              "Titles           0\n",
              "Farestr          0\n",
              "famlymem         0\n",
              "famlymemstr      0\n",
              "Alone            0\n",
              "NotAlone         0\n",
              "PclassSTR        0\n",
              "dtype: int64"
            ]
          },
          "metadata": {
            "tags": []
          },
          "execution_count": 173
        }
      ]
    },
    {
      "cell_type": "code",
      "metadata": {
        "colab": {
          "base_uri": "https://localhost:8080/",
          "height": 930
        },
        "id": "3Whu_fPlHHdj",
        "outputId": "dfc18655-98ed-437b-e743-12dcd1182e3b"
      },
      "source": [
        "df_train"
      ],
      "execution_count": null,
      "outputs": [
        {
          "output_type": "execute_result",
          "data": {
            "text/html": [
              "<div>\n",
              "<style scoped>\n",
              "    .dataframe tbody tr th:only-of-type {\n",
              "        vertical-align: middle;\n",
              "    }\n",
              "\n",
              "    .dataframe tbody tr th {\n",
              "        vertical-align: top;\n",
              "    }\n",
              "\n",
              "    .dataframe thead th {\n",
              "        text-align: right;\n",
              "    }\n",
              "</style>\n",
              "<table border=\"1\" class=\"dataframe\">\n",
              "  <thead>\n",
              "    <tr style=\"text-align: right;\">\n",
              "      <th></th>\n",
              "      <th>PassengerId</th>\n",
              "      <th>Survived</th>\n",
              "      <th>Pclass</th>\n",
              "      <th>Name</th>\n",
              "      <th>Sex</th>\n",
              "      <th>Age</th>\n",
              "      <th>SibSp</th>\n",
              "      <th>Parch</th>\n",
              "      <th>Ticket</th>\n",
              "      <th>Fare</th>\n",
              "      <th>Cabin</th>\n",
              "      <th>Embarked</th>\n",
              "      <th>AgeSTR</th>\n",
              "      <th>Titles</th>\n",
              "      <th>Farestr</th>\n",
              "      <th>famlymem</th>\n",
              "      <th>famlymemstr</th>\n",
              "      <th>Alone</th>\n",
              "      <th>NotAlone</th>\n",
              "      <th>PclassSTR</th>\n",
              "      <th>Age/Class</th>\n",
              "      <th>Fare/per</th>\n",
              "    </tr>\n",
              "  </thead>\n",
              "  <tbody>\n",
              "    <tr>\n",
              "      <th>0</th>\n",
              "      <td>1</td>\n",
              "      <td>0</td>\n",
              "      <td>3</td>\n",
              "      <td>Braund, Mr. Owen Harris</td>\n",
              "      <td>M</td>\n",
              "      <td>3</td>\n",
              "      <td>1</td>\n",
              "      <td>0</td>\n",
              "      <td>A/5 21171</td>\n",
              "      <td>0</td>\n",
              "      <td>NaN</td>\n",
              "      <td>S</td>\n",
              "      <td>3</td>\n",
              "      <td>0</td>\n",
              "      <td>0.0</td>\n",
              "      <td>1</td>\n",
              "      <td>1</td>\n",
              "      <td>0</td>\n",
              "      <td>1</td>\n",
              "      <td>3</td>\n",
              "      <td>3</td>\n",
              "      <td>0</td>\n",
              "    </tr>\n",
              "    <tr>\n",
              "      <th>1</th>\n",
              "      <td>2</td>\n",
              "      <td>1</td>\n",
              "      <td>1</td>\n",
              "      <td>Cumings, Mrs. John Bradley (Florence Briggs Th...</td>\n",
              "      <td>F</td>\n",
              "      <td>4</td>\n",
              "      <td>1</td>\n",
              "      <td>0</td>\n",
              "      <td>PC 17599</td>\n",
              "      <td>3</td>\n",
              "      <td>C85</td>\n",
              "      <td>C</td>\n",
              "      <td>4</td>\n",
              "      <td>1</td>\n",
              "      <td>3.0</td>\n",
              "      <td>1</td>\n",
              "      <td>1</td>\n",
              "      <td>0</td>\n",
              "      <td>1</td>\n",
              "      <td>1</td>\n",
              "      <td>1</td>\n",
              "      <td>1</td>\n",
              "    </tr>\n",
              "    <tr>\n",
              "      <th>2</th>\n",
              "      <td>3</td>\n",
              "      <td>1</td>\n",
              "      <td>3</td>\n",
              "      <td>Heikkinen, Miss. Laina</td>\n",
              "      <td>F</td>\n",
              "      <td>3</td>\n",
              "      <td>0</td>\n",
              "      <td>0</td>\n",
              "      <td>STON/O2. 3101282</td>\n",
              "      <td>0</td>\n",
              "      <td>NaN</td>\n",
              "      <td>S</td>\n",
              "      <td>3</td>\n",
              "      <td>2</td>\n",
              "      <td>0.0</td>\n",
              "      <td>0</td>\n",
              "      <td>0</td>\n",
              "      <td>1</td>\n",
              "      <td>0</td>\n",
              "      <td>3</td>\n",
              "      <td>3</td>\n",
              "      <td>0</td>\n",
              "    </tr>\n",
              "    <tr>\n",
              "      <th>3</th>\n",
              "      <td>4</td>\n",
              "      <td>1</td>\n",
              "      <td>1</td>\n",
              "      <td>Futrelle, Mrs. Jacques Heath (Lily May Peel)</td>\n",
              "      <td>F</td>\n",
              "      <td>4</td>\n",
              "      <td>1</td>\n",
              "      <td>0</td>\n",
              "      <td>113803</td>\n",
              "      <td>3</td>\n",
              "      <td>C123</td>\n",
              "      <td>S</td>\n",
              "      <td>4</td>\n",
              "      <td>1</td>\n",
              "      <td>3.0</td>\n",
              "      <td>1</td>\n",
              "      <td>1</td>\n",
              "      <td>0</td>\n",
              "      <td>1</td>\n",
              "      <td>1</td>\n",
              "      <td>1</td>\n",
              "      <td>1</td>\n",
              "    </tr>\n",
              "    <tr>\n",
              "      <th>4</th>\n",
              "      <td>5</td>\n",
              "      <td>0</td>\n",
              "      <td>3</td>\n",
              "      <td>Allen, Mr. William Henry</td>\n",
              "      <td>M</td>\n",
              "      <td>4</td>\n",
              "      <td>0</td>\n",
              "      <td>0</td>\n",
              "      <td>373450</td>\n",
              "      <td>1</td>\n",
              "      <td>NaN</td>\n",
              "      <td>S</td>\n",
              "      <td>4</td>\n",
              "      <td>0</td>\n",
              "      <td>1.0</td>\n",
              "      <td>0</td>\n",
              "      <td>0</td>\n",
              "      <td>1</td>\n",
              "      <td>0</td>\n",
              "      <td>3</td>\n",
              "      <td>3</td>\n",
              "      <td>1</td>\n",
              "    </tr>\n",
              "    <tr>\n",
              "      <th>...</th>\n",
              "      <td>...</td>\n",
              "      <td>...</td>\n",
              "      <td>...</td>\n",
              "      <td>...</td>\n",
              "      <td>...</td>\n",
              "      <td>...</td>\n",
              "      <td>...</td>\n",
              "      <td>...</td>\n",
              "      <td>...</td>\n",
              "      <td>...</td>\n",
              "      <td>...</td>\n",
              "      <td>...</td>\n",
              "      <td>...</td>\n",
              "      <td>...</td>\n",
              "      <td>...</td>\n",
              "      <td>...</td>\n",
              "      <td>...</td>\n",
              "      <td>...</td>\n",
              "      <td>...</td>\n",
              "      <td>...</td>\n",
              "      <td>...</td>\n",
              "      <td>...</td>\n",
              "    </tr>\n",
              "    <tr>\n",
              "      <th>886</th>\n",
              "      <td>887</td>\n",
              "      <td>0</td>\n",
              "      <td>2</td>\n",
              "      <td>Montvila, Rev. Juozas</td>\n",
              "      <td>M</td>\n",
              "      <td>3</td>\n",
              "      <td>0</td>\n",
              "      <td>0</td>\n",
              "      <td>211536</td>\n",
              "      <td>1</td>\n",
              "      <td>NaN</td>\n",
              "      <td>S</td>\n",
              "      <td>3</td>\n",
              "      <td>3</td>\n",
              "      <td>1.0</td>\n",
              "      <td>0</td>\n",
              "      <td>0</td>\n",
              "      <td>1</td>\n",
              "      <td>0</td>\n",
              "      <td>2</td>\n",
              "      <td>2</td>\n",
              "      <td>1</td>\n",
              "    </tr>\n",
              "    <tr>\n",
              "      <th>887</th>\n",
              "      <td>888</td>\n",
              "      <td>1</td>\n",
              "      <td>1</td>\n",
              "      <td>Graham, Miss. Margaret Edith</td>\n",
              "      <td>F</td>\n",
              "      <td>3</td>\n",
              "      <td>0</td>\n",
              "      <td>0</td>\n",
              "      <td>112053</td>\n",
              "      <td>3</td>\n",
              "      <td>B42</td>\n",
              "      <td>S</td>\n",
              "      <td>3</td>\n",
              "      <td>2</td>\n",
              "      <td>3.0</td>\n",
              "      <td>0</td>\n",
              "      <td>0</td>\n",
              "      <td>1</td>\n",
              "      <td>0</td>\n",
              "      <td>1</td>\n",
              "      <td>1</td>\n",
              "      <td>3</td>\n",
              "    </tr>\n",
              "    <tr>\n",
              "      <th>888</th>\n",
              "      <td>889</td>\n",
              "      <td>0</td>\n",
              "      <td>3</td>\n",
              "      <td>Johnston, Miss. Catherine Helen \"Carrie\"</td>\n",
              "      <td>F</td>\n",
              "      <td>3</td>\n",
              "      <td>1</td>\n",
              "      <td>2</td>\n",
              "      <td>W./C. 6607</td>\n",
              "      <td>2</td>\n",
              "      <td>NaN</td>\n",
              "      <td>S</td>\n",
              "      <td>3</td>\n",
              "      <td>2</td>\n",
              "      <td>2.0</td>\n",
              "      <td>2</td>\n",
              "      <td>2</td>\n",
              "      <td>0</td>\n",
              "      <td>1</td>\n",
              "      <td>3</td>\n",
              "      <td>3</td>\n",
              "      <td>0</td>\n",
              "    </tr>\n",
              "    <tr>\n",
              "      <th>889</th>\n",
              "      <td>890</td>\n",
              "      <td>1</td>\n",
              "      <td>1</td>\n",
              "      <td>Behr, Mr. Karl Howell</td>\n",
              "      <td>M</td>\n",
              "      <td>3</td>\n",
              "      <td>0</td>\n",
              "      <td>0</td>\n",
              "      <td>111369</td>\n",
              "      <td>3</td>\n",
              "      <td>C148</td>\n",
              "      <td>C</td>\n",
              "      <td>3</td>\n",
              "      <td>0</td>\n",
              "      <td>3.0</td>\n",
              "      <td>0</td>\n",
              "      <td>0</td>\n",
              "      <td>1</td>\n",
              "      <td>0</td>\n",
              "      <td>1</td>\n",
              "      <td>1</td>\n",
              "      <td>3</td>\n",
              "    </tr>\n",
              "    <tr>\n",
              "      <th>890</th>\n",
              "      <td>891</td>\n",
              "      <td>0</td>\n",
              "      <td>3</td>\n",
              "      <td>Dooley, Mr. Patrick</td>\n",
              "      <td>M</td>\n",
              "      <td>4</td>\n",
              "      <td>0</td>\n",
              "      <td>0</td>\n",
              "      <td>370376</td>\n",
              "      <td>0</td>\n",
              "      <td>NaN</td>\n",
              "      <td>Q</td>\n",
              "      <td>4</td>\n",
              "      <td>0</td>\n",
              "      <td>0.0</td>\n",
              "      <td>0</td>\n",
              "      <td>0</td>\n",
              "      <td>1</td>\n",
              "      <td>0</td>\n",
              "      <td>3</td>\n",
              "      <td>3</td>\n",
              "      <td>0</td>\n",
              "    </tr>\n",
              "  </tbody>\n",
              "</table>\n",
              "<p>891 rows × 22 columns</p>\n",
              "</div>"
            ],
            "text/plain": [
              "     PassengerId  Survived  Pclass  ... PclassSTR Age/Class  Fare/per\n",
              "0              1         0       3  ...         3         3         0\n",
              "1              2         1       1  ...         1         1         1\n",
              "2              3         1       3  ...         3         3         0\n",
              "3              4         1       1  ...         1         1         1\n",
              "4              5         0       3  ...         3         3         1\n",
              "..           ...       ...     ...  ...       ...       ...       ...\n",
              "886          887         0       2  ...         2         2         1\n",
              "887          888         1       1  ...         1         1         3\n",
              "888          889         0       3  ...         3         3         0\n",
              "889          890         1       1  ...         1         1         3\n",
              "890          891         0       3  ...         3         3         0\n",
              "\n",
              "[891 rows x 22 columns]"
            ]
          },
          "metadata": {
            "tags": []
          },
          "execution_count": 180
        }
      ]
    },
    {
      "cell_type": "code",
      "metadata": {
        "colab": {
          "base_uri": "https://localhost:8080/",
          "height": 809
        },
        "id": "0SUCMu1zN5j-",
        "outputId": "0b6b8df9-90ff-455f-e4cc-5e3af3f71bf9"
      },
      "source": [
        "df_test"
      ],
      "execution_count": null,
      "outputs": [
        {
          "output_type": "execute_result",
          "data": {
            "text/html": [
              "<div>\n",
              "<style scoped>\n",
              "    .dataframe tbody tr th:only-of-type {\n",
              "        vertical-align: middle;\n",
              "    }\n",
              "\n",
              "    .dataframe tbody tr th {\n",
              "        vertical-align: top;\n",
              "    }\n",
              "\n",
              "    .dataframe thead th {\n",
              "        text-align: right;\n",
              "    }\n",
              "</style>\n",
              "<table border=\"1\" class=\"dataframe\">\n",
              "  <thead>\n",
              "    <tr style=\"text-align: right;\">\n",
              "      <th></th>\n",
              "      <th>PassengerId</th>\n",
              "      <th>Pclass</th>\n",
              "      <th>Name</th>\n",
              "      <th>Sex</th>\n",
              "      <th>Age</th>\n",
              "      <th>SibSp</th>\n",
              "      <th>Parch</th>\n",
              "      <th>Ticket</th>\n",
              "      <th>Fare</th>\n",
              "      <th>Cabin</th>\n",
              "      <th>Embarked</th>\n",
              "      <th>AgeSTR</th>\n",
              "      <th>Titles</th>\n",
              "      <th>Farestr</th>\n",
              "      <th>famlymem</th>\n",
              "      <th>famlymemstr</th>\n",
              "      <th>Alone</th>\n",
              "      <th>NotAlone</th>\n",
              "      <th>PclassSTR</th>\n",
              "      <th>Age/Class</th>\n",
              "      <th>Fare/per</th>\n",
              "    </tr>\n",
              "  </thead>\n",
              "  <tbody>\n",
              "    <tr>\n",
              "      <th>0</th>\n",
              "      <td>892</td>\n",
              "      <td>3</td>\n",
              "      <td>Kelly, Mr. James</td>\n",
              "      <td>M</td>\n",
              "      <td>4</td>\n",
              "      <td>0</td>\n",
              "      <td>0</td>\n",
              "      <td>330911</td>\n",
              "      <td>0</td>\n",
              "      <td>NaN</td>\n",
              "      <td>Q</td>\n",
              "      <td>4</td>\n",
              "      <td>0</td>\n",
              "      <td>0.0</td>\n",
              "      <td>0</td>\n",
              "      <td>0</td>\n",
              "      <td>1</td>\n",
              "      <td>0</td>\n",
              "      <td>3</td>\n",
              "      <td>3</td>\n",
              "      <td>0</td>\n",
              "    </tr>\n",
              "    <tr>\n",
              "      <th>1</th>\n",
              "      <td>893</td>\n",
              "      <td>3</td>\n",
              "      <td>Wilkes, Mrs. James (Ellen Needs)</td>\n",
              "      <td>F</td>\n",
              "      <td>4</td>\n",
              "      <td>1</td>\n",
              "      <td>0</td>\n",
              "      <td>363272</td>\n",
              "      <td>0</td>\n",
              "      <td>NaN</td>\n",
              "      <td>S</td>\n",
              "      <td>4</td>\n",
              "      <td>1</td>\n",
              "      <td>0.0</td>\n",
              "      <td>1</td>\n",
              "      <td>1</td>\n",
              "      <td>0</td>\n",
              "      <td>1</td>\n",
              "      <td>3</td>\n",
              "      <td>3</td>\n",
              "      <td>0</td>\n",
              "    </tr>\n",
              "    <tr>\n",
              "      <th>2</th>\n",
              "      <td>894</td>\n",
              "      <td>2</td>\n",
              "      <td>Myles, Mr. Thomas Francis</td>\n",
              "      <td>M</td>\n",
              "      <td>5</td>\n",
              "      <td>0</td>\n",
              "      <td>0</td>\n",
              "      <td>240276</td>\n",
              "      <td>1</td>\n",
              "      <td>NaN</td>\n",
              "      <td>Q</td>\n",
              "      <td>5</td>\n",
              "      <td>0</td>\n",
              "      <td>1.0</td>\n",
              "      <td>0</td>\n",
              "      <td>0</td>\n",
              "      <td>1</td>\n",
              "      <td>0</td>\n",
              "      <td>2</td>\n",
              "      <td>3</td>\n",
              "      <td>1</td>\n",
              "    </tr>\n",
              "    <tr>\n",
              "      <th>3</th>\n",
              "      <td>895</td>\n",
              "      <td>3</td>\n",
              "      <td>Wirz, Mr. Albert</td>\n",
              "      <td>M</td>\n",
              "      <td>3</td>\n",
              "      <td>0</td>\n",
              "      <td>0</td>\n",
              "      <td>315154</td>\n",
              "      <td>1</td>\n",
              "      <td>NaN</td>\n",
              "      <td>S</td>\n",
              "      <td>3</td>\n",
              "      <td>0</td>\n",
              "      <td>1.0</td>\n",
              "      <td>0</td>\n",
              "      <td>0</td>\n",
              "      <td>1</td>\n",
              "      <td>0</td>\n",
              "      <td>3</td>\n",
              "      <td>3</td>\n",
              "      <td>1</td>\n",
              "    </tr>\n",
              "    <tr>\n",
              "      <th>4</th>\n",
              "      <td>896</td>\n",
              "      <td>3</td>\n",
              "      <td>Hirvonen, Mrs. Alexander (Helga E Lindqvist)</td>\n",
              "      <td>F</td>\n",
              "      <td>3</td>\n",
              "      <td>1</td>\n",
              "      <td>1</td>\n",
              "      <td>3101298</td>\n",
              "      <td>1</td>\n",
              "      <td>NaN</td>\n",
              "      <td>S</td>\n",
              "      <td>3</td>\n",
              "      <td>1</td>\n",
              "      <td>1.0</td>\n",
              "      <td>1</td>\n",
              "      <td>1</td>\n",
              "      <td>0</td>\n",
              "      <td>1</td>\n",
              "      <td>3</td>\n",
              "      <td>3</td>\n",
              "      <td>0</td>\n",
              "    </tr>\n",
              "    <tr>\n",
              "      <th>...</th>\n",
              "      <td>...</td>\n",
              "      <td>...</td>\n",
              "      <td>...</td>\n",
              "      <td>...</td>\n",
              "      <td>...</td>\n",
              "      <td>...</td>\n",
              "      <td>...</td>\n",
              "      <td>...</td>\n",
              "      <td>...</td>\n",
              "      <td>...</td>\n",
              "      <td>...</td>\n",
              "      <td>...</td>\n",
              "      <td>...</td>\n",
              "      <td>...</td>\n",
              "      <td>...</td>\n",
              "      <td>...</td>\n",
              "      <td>...</td>\n",
              "      <td>...</td>\n",
              "      <td>...</td>\n",
              "      <td>...</td>\n",
              "      <td>...</td>\n",
              "    </tr>\n",
              "    <tr>\n",
              "      <th>413</th>\n",
              "      <td>1305</td>\n",
              "      <td>3</td>\n",
              "      <td>Spector, Mr. Woolf</td>\n",
              "      <td>M</td>\n",
              "      <td>3</td>\n",
              "      <td>0</td>\n",
              "      <td>0</td>\n",
              "      <td>A.5. 3236</td>\n",
              "      <td>1</td>\n",
              "      <td>NaN</td>\n",
              "      <td>S</td>\n",
              "      <td>3</td>\n",
              "      <td>0</td>\n",
              "      <td>1.0</td>\n",
              "      <td>0</td>\n",
              "      <td>0</td>\n",
              "      <td>1</td>\n",
              "      <td>0</td>\n",
              "      <td>3</td>\n",
              "      <td>3</td>\n",
              "      <td>1</td>\n",
              "    </tr>\n",
              "    <tr>\n",
              "      <th>414</th>\n",
              "      <td>1306</td>\n",
              "      <td>1</td>\n",
              "      <td>Oliva y Ocana, Dona. Fermina</td>\n",
              "      <td>F</td>\n",
              "      <td>4</td>\n",
              "      <td>0</td>\n",
              "      <td>0</td>\n",
              "      <td>PC 17758</td>\n",
              "      <td>4</td>\n",
              "      <td>C105</td>\n",
              "      <td>C</td>\n",
              "      <td>4</td>\n",
              "      <td>3</td>\n",
              "      <td>4.0</td>\n",
              "      <td>0</td>\n",
              "      <td>0</td>\n",
              "      <td>1</td>\n",
              "      <td>0</td>\n",
              "      <td>1</td>\n",
              "      <td>1</td>\n",
              "      <td>4</td>\n",
              "    </tr>\n",
              "    <tr>\n",
              "      <th>415</th>\n",
              "      <td>1307</td>\n",
              "      <td>3</td>\n",
              "      <td>Saether, Mr. Simon Sivertsen</td>\n",
              "      <td>M</td>\n",
              "      <td>4</td>\n",
              "      <td>0</td>\n",
              "      <td>0</td>\n",
              "      <td>SOTON/O.Q. 3101262</td>\n",
              "      <td>0</td>\n",
              "      <td>NaN</td>\n",
              "      <td>S</td>\n",
              "      <td>4</td>\n",
              "      <td>0</td>\n",
              "      <td>0.0</td>\n",
              "      <td>0</td>\n",
              "      <td>0</td>\n",
              "      <td>1</td>\n",
              "      <td>0</td>\n",
              "      <td>3</td>\n",
              "      <td>3</td>\n",
              "      <td>0</td>\n",
              "    </tr>\n",
              "    <tr>\n",
              "      <th>416</th>\n",
              "      <td>1308</td>\n",
              "      <td>3</td>\n",
              "      <td>Ware, Mr. Frederick</td>\n",
              "      <td>M</td>\n",
              "      <td>2</td>\n",
              "      <td>0</td>\n",
              "      <td>0</td>\n",
              "      <td>359309</td>\n",
              "      <td>1</td>\n",
              "      <td>NaN</td>\n",
              "      <td>S</td>\n",
              "      <td>2</td>\n",
              "      <td>0</td>\n",
              "      <td>1.0</td>\n",
              "      <td>0</td>\n",
              "      <td>0</td>\n",
              "      <td>1</td>\n",
              "      <td>0</td>\n",
              "      <td>3</td>\n",
              "      <td>2</td>\n",
              "      <td>1</td>\n",
              "    </tr>\n",
              "    <tr>\n",
              "      <th>417</th>\n",
              "      <td>1309</td>\n",
              "      <td>3</td>\n",
              "      <td>Peter, Master. Michael J</td>\n",
              "      <td>M</td>\n",
              "      <td>4</td>\n",
              "      <td>1</td>\n",
              "      <td>1</td>\n",
              "      <td>2668</td>\n",
              "      <td>2</td>\n",
              "      <td>NaN</td>\n",
              "      <td>C</td>\n",
              "      <td>4</td>\n",
              "      <td>3</td>\n",
              "      <td>2.0</td>\n",
              "      <td>1</td>\n",
              "      <td>1</td>\n",
              "      <td>0</td>\n",
              "      <td>1</td>\n",
              "      <td>3</td>\n",
              "      <td>3</td>\n",
              "      <td>1</td>\n",
              "    </tr>\n",
              "  </tbody>\n",
              "</table>\n",
              "<p>418 rows × 21 columns</p>\n",
              "</div>"
            ],
            "text/plain": [
              "     PassengerId  Pclass  ... Age/Class Fare/per\n",
              "0            892       3  ...         3        0\n",
              "1            893       3  ...         3        0\n",
              "2            894       2  ...         3        1\n",
              "3            895       3  ...         3        1\n",
              "4            896       3  ...         3        0\n",
              "..           ...     ...  ...       ...      ...\n",
              "413         1305       3  ...         3        1\n",
              "414         1306       1  ...         1        4\n",
              "415         1307       3  ...         3        0\n",
              "416         1308       3  ...         2        1\n",
              "417         1309       3  ...         3        1\n",
              "\n",
              "[418 rows x 21 columns]"
            ]
          },
          "metadata": {
            "tags": []
          },
          "execution_count": 181
        }
      ]
    },
    {
      "cell_type": "code",
      "metadata": {
        "colab": {
          "base_uri": "https://localhost:8080/",
          "height": 512
        },
        "id": "9VyxImmPQ008",
        "outputId": "ed098018-9356-4c2d-8321-ba717a686032"
      },
      "source": [
        "plt.figure(1)\n",
        "plt.subplot(121)\n",
        "df_train['Survived'].value_counts().plot.bar(figsize = (15,8),title = 'Survived')\n",
        "plt.subplot(122)\n",
        "df_train['Pclass'].value_counts().plot.bar(figsize = (15,8),title = 'Passenger class')\n"
      ],
      "execution_count": null,
      "outputs": [
        {
          "output_type": "execute_result",
          "data": {
            "text/plain": [
              "<matplotlib.axes._subplots.AxesSubplot at 0x7f860cb97978>"
            ]
          },
          "metadata": {
            "tags": []
          },
          "execution_count": 182
        },
        {
          "output_type": "display_data",
          "data": {
            "image/png": "[encoded data removed]",
            "text/plain": [
              "<Figure size 1080x576 with 2 Axes>"
            ]
          },
          "metadata": {
            "tags": [],
            "needs_background": "light"
          }
        }
      ]
    },
    {
      "cell_type": "code",
      "metadata": {
        "colab": {
          "base_uri": "https://localhost:8080/",
          "height": 514
        },
        "id": "tAsVZbmNlU1j",
        "outputId": "c875325f-3546-47ef-baba-59c80301f6a3"
      },
      "source": [
        "plt.figure(2)\n",
        "plt.subplot(121)\n",
        "df_train['Sex'].value_counts().plot.bar(figsize = (15,8),title = 'Sex')\n",
        "plt.subplot(122)\n",
        "df_train['famlymem'].value_counts().plot.bar(figsize = (15,8),title = 'total family mem')\n"
      ],
      "execution_count": null,
      "outputs": [
        {
          "output_type": "execute_result",
          "data": {
            "text/plain": [
              "<matplotlib.axes._subplots.AxesSubplot at 0x7f860cc63978>"
            ]
          },
          "metadata": {
            "tags": []
          },
          "execution_count": 183
        },
        {
          "output_type": "display_data",
          "data": {
            "image/png": "[encoded data removed]",
            "text/plain": [
              "<Figure size 1080x576 with 2 Axes>"
            ]
          },
          "metadata": {
            "tags": [],
            "needs_background": "light"
          }
        }
      ]
    },
    {
      "cell_type": "code",
      "metadata": {
        "colab": {
          "base_uri": "https://localhost:8080/",
          "height": 514
        },
        "id": "QchshkFhwDSQ",
        "outputId": "b1c596c4-fe9a-452b-c917-1e5f5afc1b9d"
      },
      "source": [
        "plt.figure(4)\n",
        "plt.subplot(121)\n",
        "df_train['Embarked'].value_counts().plot.bar(figsize = (15,8),title = 'Embarked')\n",
        "\n",
        "plt.subplot(122)\n",
        "df_train['Fare'].value_counts().plot.bar(figsize = (15,8),title = 'fare categ')"
      ],
      "execution_count": null,
      "outputs": [
        {
          "output_type": "execute_result",
          "data": {
            "text/plain": [
              "<matplotlib.axes._subplots.AxesSubplot at 0x7f860cc89cf8>"
            ]
          },
          "metadata": {
            "tags": []
          },
          "execution_count": 184
        },
        {
          "output_type": "display_data",
          "data": {
            "image/png": "[encoded data removed]",
            "text/plain": [
              "<Figure size 1080x576 with 2 Axes>"
            ]
          },
          "metadata": {
            "tags": [],
            "needs_background": "light"
          }
        }
      ]
    },
    {
      "cell_type": "code",
      "metadata": {
        "colab": {
          "base_uri": "https://localhost:8080/",
          "height": 512
        },
        "id": "1e-Xk8QUsB98",
        "outputId": "74372cd0-8fcd-45a4-f870-8025c1db5617"
      },
      "source": [
        "df_train['Age'].value_counts().plot.bar(figsize = (15,8),title = 'kids/adults')"
      ],
      "execution_count": null,
      "outputs": [
        {
          "output_type": "execute_result",
          "data": {
            "text/plain": [
              "<matplotlib.axes._subplots.AxesSubplot at 0x7f860ca8c8d0>"
            ]
          },
          "metadata": {
            "tags": []
          },
          "execution_count": 185
        },
        {
          "output_type": "display_data",
          "data": {
            "image/png": "[encoded data removed]",
            "text/plain": [
              "<Figure size 1080x576 with 1 Axes>"
            ]
          },
          "metadata": {
            "tags": [],
            "needs_background": "light"
          }
        }
      ]
    },
    {
      "cell_type": "code",
      "metadata": {
        "id": "aIfJf8yYsIBj"
      },
      "source": [
        "pclass   = pd.crosstab(df_train['Pclass'], df_train['Survived'])\n",
        "sex      = pd.crosstab(df_train['Sex'], df_train['Survived'])\n",
        "parch    = pd.crosstab(df_train['Parch'], df_train['Survived'])\n",
        "age_bins = pd.crosstab(df_train['Age'], df_train['Survived'])\n",
        "embarked = pd.crosstab(df_train['Embarked'], df_train['Survived'])\n",
        "fare     = pd.crosstab(df_train['Fare'], df_train['Survived'])\n",
        "totfam   = pd.crosstab(df_train['famlymem'], df_train['Survived'])\n",
        "ageclass = pd.crosstab(df_train['Age/Class'], df_train['Survived'])\n",
        "fareper  = pd.crosstab(df_train['Fare/per'], df_train['Survived'])"
      ],
      "execution_count": null,
      "outputs": []
    },
    {
      "cell_type": "code",
      "metadata": {
        "colab": {
          "base_uri": "https://localhost:8080/",
          "height": 238
        },
        "id": "YREjbV8rEe5H",
        "outputId": "88d32235-774a-4520-c98c-3fcc57c69125"
      },
      "source": [
        "totfam"
      ],
      "execution_count": null,
      "outputs": [
        {
          "output_type": "execute_result",
          "data": {
            "text/html": [
              "<div>\n",
              "<style scoped>\n",
              "    .dataframe tbody tr th:only-of-type {\n",
              "        vertical-align: middle;\n",
              "    }\n",
              "\n",
              "    .dataframe tbody tr th {\n",
              "        vertical-align: top;\n",
              "    }\n",
              "\n",
              "    .dataframe thead th {\n",
              "        text-align: right;\n",
              "    }\n",
              "</style>\n",
              "<table border=\"1\" class=\"dataframe\">\n",
              "  <thead>\n",
              "    <tr style=\"text-align: right;\">\n",
              "      <th>Survived</th>\n",
              "      <th>0</th>\n",
              "      <th>1</th>\n",
              "    </tr>\n",
              "    <tr>\n",
              "      <th>famlymem</th>\n",
              "      <th></th>\n",
              "      <th></th>\n",
              "    </tr>\n",
              "  </thead>\n",
              "  <tbody>\n",
              "    <tr>\n",
              "      <th>0</th>\n",
              "      <td>374</td>\n",
              "      <td>163</td>\n",
              "    </tr>\n",
              "    <tr>\n",
              "      <th>1</th>\n",
              "      <td>115</td>\n",
              "      <td>148</td>\n",
              "    </tr>\n",
              "    <tr>\n",
              "      <th>2</th>\n",
              "      <td>8</td>\n",
              "      <td>21</td>\n",
              "    </tr>\n",
              "    <tr>\n",
              "      <th>3</th>\n",
              "      <td>39</td>\n",
              "      <td>10</td>\n",
              "    </tr>\n",
              "    <tr>\n",
              "      <th>4</th>\n",
              "      <td>13</td>\n",
              "      <td>0</td>\n",
              "    </tr>\n",
              "  </tbody>\n",
              "</table>\n",
              "</div>"
            ],
            "text/plain": [
              "Survived    0    1\n",
              "famlymem          \n",
              "0         374  163\n",
              "1         115  148\n",
              "2           8   21\n",
              "3          39   10\n",
              "4          13    0"
            ]
          },
          "metadata": {
            "tags": []
          },
          "execution_count": 187
        }
      ]
    },
    {
      "cell_type": "code",
      "metadata": {
        "colab": {
          "base_uri": "https://localhost:8080/",
          "height": 206
        },
        "id": "HwbMWt5W0cjC",
        "outputId": "87fd030c-b217-4a9e-8ff8-15f2b814cbe2"
      },
      "source": [
        "ageclass"
      ],
      "execution_count": null,
      "outputs": [
        {
          "output_type": "execute_result",
          "data": {
            "text/html": [
              "<div>\n",
              "<style scoped>\n",
              "    .dataframe tbody tr th:only-of-type {\n",
              "        vertical-align: middle;\n",
              "    }\n",
              "\n",
              "    .dataframe tbody tr th {\n",
              "        vertical-align: top;\n",
              "    }\n",
              "\n",
              "    .dataframe thead th {\n",
              "        text-align: right;\n",
              "    }\n",
              "</style>\n",
              "<table border=\"1\" class=\"dataframe\">\n",
              "  <thead>\n",
              "    <tr style=\"text-align: right;\">\n",
              "      <th>Survived</th>\n",
              "      <th>0</th>\n",
              "      <th>1</th>\n",
              "    </tr>\n",
              "    <tr>\n",
              "      <th>Age/Class</th>\n",
              "      <th></th>\n",
              "      <th></th>\n",
              "    </tr>\n",
              "  </thead>\n",
              "  <tbody>\n",
              "    <tr>\n",
              "      <th>0</th>\n",
              "      <td>3</td>\n",
              "      <td>30</td>\n",
              "    </tr>\n",
              "    <tr>\n",
              "      <th>1</th>\n",
              "      <td>80</td>\n",
              "      <td>139</td>\n",
              "    </tr>\n",
              "    <tr>\n",
              "      <th>2</th>\n",
              "      <td>151</td>\n",
              "      <td>88</td>\n",
              "    </tr>\n",
              "    <tr>\n",
              "      <th>3</th>\n",
              "      <td>315</td>\n",
              "      <td>85</td>\n",
              "    </tr>\n",
              "  </tbody>\n",
              "</table>\n",
              "</div>"
            ],
            "text/plain": [
              "Survived     0    1\n",
              "Age/Class          \n",
              "0            3   30\n",
              "1           80  139\n",
              "2          151   88\n",
              "3          315   85"
            ]
          },
          "metadata": {
            "tags": []
          },
          "execution_count": 188
        }
      ]
    },
    {
      "cell_type": "code",
      "metadata": {
        "colab": {
          "base_uri": "https://localhost:8080/",
          "height": 206
        },
        "id": "_Ier9N5h0gt9",
        "outputId": "5ad093ad-c213-40a9-deb7-70439f0fff40"
      },
      "source": [
        "fareper"
      ],
      "execution_count": null,
      "outputs": [
        {
          "output_type": "execute_result",
          "data": {
            "text/html": [
              "<div>\n",
              "<style scoped>\n",
              "    .dataframe tbody tr th:only-of-type {\n",
              "        vertical-align: middle;\n",
              "    }\n",
              "\n",
              "    .dataframe tbody tr th {\n",
              "        vertical-align: top;\n",
              "    }\n",
              "\n",
              "    .dataframe thead th {\n",
              "        text-align: right;\n",
              "    }\n",
              "</style>\n",
              "<table border=\"1\" class=\"dataframe\">\n",
              "  <thead>\n",
              "    <tr style=\"text-align: right;\">\n",
              "      <th>Survived</th>\n",
              "      <th>0</th>\n",
              "      <th>1</th>\n",
              "    </tr>\n",
              "    <tr>\n",
              "      <th>Fare/per</th>\n",
              "      <th></th>\n",
              "      <th></th>\n",
              "    </tr>\n",
              "  </thead>\n",
              "  <tbody>\n",
              "    <tr>\n",
              "      <th>0</th>\n",
              "      <td>264</td>\n",
              "      <td>83</td>\n",
              "    </tr>\n",
              "    <tr>\n",
              "      <th>1</th>\n",
              "      <td>205</td>\n",
              "      <td>150</td>\n",
              "    </tr>\n",
              "    <tr>\n",
              "      <th>3</th>\n",
              "      <td>75</td>\n",
              "      <td>84</td>\n",
              "    </tr>\n",
              "    <tr>\n",
              "      <th>4</th>\n",
              "      <td>5</td>\n",
              "      <td>25</td>\n",
              "    </tr>\n",
              "  </tbody>\n",
              "</table>\n",
              "</div>"
            ],
            "text/plain": [
              "Survived    0    1\n",
              "Fare/per          \n",
              "0         264   83\n",
              "1         205  150\n",
              "3          75   84\n",
              "4           5   25"
            ]
          },
          "metadata": {
            "tags": []
          },
          "execution_count": 189
        }
      ]
    },
    {
      "cell_type": "code",
      "metadata": {
        "colab": {
          "base_uri": "https://localhost:8080/",
          "height": 175
        },
        "id": "4wEAT1e8OWGw",
        "outputId": "5ff81dc4-5fe9-4b42-ea64-222435629a08"
      },
      "source": [
        "pclass"
      ],
      "execution_count": null,
      "outputs": [
        {
          "output_type": "execute_result",
          "data": {
            "text/html": [
              "<div>\n",
              "<style scoped>\n",
              "    .dataframe tbody tr th:only-of-type {\n",
              "        vertical-align: middle;\n",
              "    }\n",
              "\n",
              "    .dataframe tbody tr th {\n",
              "        vertical-align: top;\n",
              "    }\n",
              "\n",
              "    .dataframe thead th {\n",
              "        text-align: right;\n",
              "    }\n",
              "</style>\n",
              "<table border=\"1\" class=\"dataframe\">\n",
              "  <thead>\n",
              "    <tr style=\"text-align: right;\">\n",
              "      <th>Survived</th>\n",
              "      <th>0</th>\n",
              "      <th>1</th>\n",
              "    </tr>\n",
              "    <tr>\n",
              "      <th>Pclass</th>\n",
              "      <th></th>\n",
              "      <th></th>\n",
              "    </tr>\n",
              "  </thead>\n",
              "  <tbody>\n",
              "    <tr>\n",
              "      <th>1</th>\n",
              "      <td>80</td>\n",
              "      <td>136</td>\n",
              "    </tr>\n",
              "    <tr>\n",
              "      <th>2</th>\n",
              "      <td>97</td>\n",
              "      <td>87</td>\n",
              "    </tr>\n",
              "    <tr>\n",
              "      <th>3</th>\n",
              "      <td>372</td>\n",
              "      <td>119</td>\n",
              "    </tr>\n",
              "  </tbody>\n",
              "</table>\n",
              "</div>"
            ],
            "text/plain": [
              "Survived    0    1\n",
              "Pclass            \n",
              "1          80  136\n",
              "2          97   87\n",
              "3         372  119"
            ]
          },
          "metadata": {
            "tags": []
          },
          "execution_count": 190
        }
      ]
    },
    {
      "cell_type": "code",
      "metadata": {
        "colab": {
          "base_uri": "https://localhost:8080/",
          "height": 269
        },
        "id": "kQ1lMFgKwb2a",
        "outputId": "a8a10ab9-db19-4f73-9821-433f726896d0"
      },
      "source": [
        "age_bins"
      ],
      "execution_count": null,
      "outputs": [
        {
          "output_type": "execute_result",
          "data": {
            "text/html": [
              "<div>\n",
              "<style scoped>\n",
              "    .dataframe tbody tr th:only-of-type {\n",
              "        vertical-align: middle;\n",
              "    }\n",
              "\n",
              "    .dataframe tbody tr th {\n",
              "        vertical-align: top;\n",
              "    }\n",
              "\n",
              "    .dataframe thead th {\n",
              "        text-align: right;\n",
              "    }\n",
              "</style>\n",
              "<table border=\"1\" class=\"dataframe\">\n",
              "  <thead>\n",
              "    <tr style=\"text-align: right;\">\n",
              "      <th>Survived</th>\n",
              "      <th>0</th>\n",
              "      <th>1</th>\n",
              "    </tr>\n",
              "    <tr>\n",
              "      <th>Age</th>\n",
              "      <th></th>\n",
              "      <th></th>\n",
              "    </tr>\n",
              "  </thead>\n",
              "  <tbody>\n",
              "    <tr>\n",
              "      <th>0</th>\n",
              "      <td>0</td>\n",
              "      <td>7</td>\n",
              "    </tr>\n",
              "    <tr>\n",
              "      <th>1</th>\n",
              "      <td>13</td>\n",
              "      <td>24</td>\n",
              "    </tr>\n",
              "    <tr>\n",
              "      <th>2</th>\n",
              "      <td>53</td>\n",
              "      <td>40</td>\n",
              "    </tr>\n",
              "    <tr>\n",
              "      <th>3</th>\n",
              "      <td>230</td>\n",
              "      <td>115</td>\n",
              "    </tr>\n",
              "    <tr>\n",
              "      <th>4</th>\n",
              "      <td>234</td>\n",
              "      <td>149</td>\n",
              "    </tr>\n",
              "    <tr>\n",
              "      <th>5</th>\n",
              "      <td>19</td>\n",
              "      <td>7</td>\n",
              "    </tr>\n",
              "  </tbody>\n",
              "</table>\n",
              "</div>"
            ],
            "text/plain": [
              "Survived    0    1\n",
              "Age               \n",
              "0           0    7\n",
              "1          13   24\n",
              "2          53   40\n",
              "3         230  115\n",
              "4         234  149\n",
              "5          19    7"
            ]
          },
          "metadata": {
            "tags": []
          },
          "execution_count": 191
        }
      ]
    },
    {
      "cell_type": "code",
      "metadata": {
        "colab": {
          "base_uri": "https://localhost:8080/",
          "height": 269
        },
        "id": "ZtlMmjrtkLnY",
        "outputId": "dc20fb56-f4e8-4d83-ef9b-8a4cb038a644"
      },
      "source": [
        "fare"
      ],
      "execution_count": null,
      "outputs": [
        {
          "output_type": "execute_result",
          "data": {
            "text/html": [
              "<div>\n",
              "<style scoped>\n",
              "    .dataframe tbody tr th:only-of-type {\n",
              "        vertical-align: middle;\n",
              "    }\n",
              "\n",
              "    .dataframe tbody tr th {\n",
              "        vertical-align: top;\n",
              "    }\n",
              "\n",
              "    .dataframe thead th {\n",
              "        text-align: right;\n",
              "    }\n",
              "</style>\n",
              "<table border=\"1\" class=\"dataframe\">\n",
              "  <thead>\n",
              "    <tr style=\"text-align: right;\">\n",
              "      <th>Survived</th>\n",
              "      <th>0</th>\n",
              "      <th>1</th>\n",
              "    </tr>\n",
              "    <tr>\n",
              "      <th>Fare</th>\n",
              "      <th></th>\n",
              "      <th></th>\n",
              "    </tr>\n",
              "  </thead>\n",
              "  <tbody>\n",
              "    <tr>\n",
              "      <th>0</th>\n",
              "      <td>189</td>\n",
              "      <td>52</td>\n",
              "    </tr>\n",
              "    <tr>\n",
              "      <th>1</th>\n",
              "      <td>154</td>\n",
              "      <td>62</td>\n",
              "    </tr>\n",
              "    <tr>\n",
              "      <th>2</th>\n",
              "      <td>107</td>\n",
              "      <td>87</td>\n",
              "    </tr>\n",
              "    <tr>\n",
              "      <th>3</th>\n",
              "      <td>76</td>\n",
              "      <td>67</td>\n",
              "    </tr>\n",
              "    <tr>\n",
              "      <th>4</th>\n",
              "      <td>23</td>\n",
              "      <td>71</td>\n",
              "    </tr>\n",
              "    <tr>\n",
              "      <th>5</th>\n",
              "      <td>0</td>\n",
              "      <td>3</td>\n",
              "    </tr>\n",
              "  </tbody>\n",
              "</table>\n",
              "</div>"
            ],
            "text/plain": [
              "Survived    0   1\n",
              "Fare             \n",
              "0         189  52\n",
              "1         154  62\n",
              "2         107  87\n",
              "3          76  67\n",
              "4          23  71\n",
              "5           0   3"
            ]
          },
          "metadata": {
            "tags": []
          },
          "execution_count": 192
        }
      ]
    },
    {
      "cell_type": "code",
      "metadata": {
        "colab": {
          "base_uri": "https://localhost:8080/",
          "height": 144
        },
        "id": "sqM3C9fTxTDj",
        "outputId": "71169e74-4772-46eb-9e98-bbfa0dc682df"
      },
      "source": [
        "sex"
      ],
      "execution_count": null,
      "outputs": [
        {
          "output_type": "execute_result",
          "data": {
            "text/html": [
              "<div>\n",
              "<style scoped>\n",
              "    .dataframe tbody tr th:only-of-type {\n",
              "        vertical-align: middle;\n",
              "    }\n",
              "\n",
              "    .dataframe tbody tr th {\n",
              "        vertical-align: top;\n",
              "    }\n",
              "\n",
              "    .dataframe thead th {\n",
              "        text-align: right;\n",
              "    }\n",
              "</style>\n",
              "<table border=\"1\" class=\"dataframe\">\n",
              "  <thead>\n",
              "    <tr style=\"text-align: right;\">\n",
              "      <th>Survived</th>\n",
              "      <th>0</th>\n",
              "      <th>1</th>\n",
              "    </tr>\n",
              "    <tr>\n",
              "      <th>Sex</th>\n",
              "      <th></th>\n",
              "      <th></th>\n",
              "    </tr>\n",
              "  </thead>\n",
              "  <tbody>\n",
              "    <tr>\n",
              "      <th>F</th>\n",
              "      <td>81</td>\n",
              "      <td>233</td>\n",
              "    </tr>\n",
              "    <tr>\n",
              "      <th>M</th>\n",
              "      <td>468</td>\n",
              "      <td>109</td>\n",
              "    </tr>\n",
              "  </tbody>\n",
              "</table>\n",
              "</div>"
            ],
            "text/plain": [
              "Survived    0    1\n",
              "Sex               \n",
              "F          81  233\n",
              "M         468  109"
            ]
          },
          "metadata": {
            "tags": []
          },
          "execution_count": 193
        }
      ]
    },
    {
      "cell_type": "code",
      "metadata": {
        "colab": {
          "base_uri": "https://localhost:8080/",
          "height": 300
        },
        "id": "7bJPOImwzEv1",
        "outputId": "f7554d2c-9138-4aad-acd3-f5d028f1445e"
      },
      "source": [
        "parch"
      ],
      "execution_count": null,
      "outputs": [
        {
          "output_type": "execute_result",
          "data": {
            "text/html": [
              "<div>\n",
              "<style scoped>\n",
              "    .dataframe tbody tr th:only-of-type {\n",
              "        vertical-align: middle;\n",
              "    }\n",
              "\n",
              "    .dataframe tbody tr th {\n",
              "        vertical-align: top;\n",
              "    }\n",
              "\n",
              "    .dataframe thead th {\n",
              "        text-align: right;\n",
              "    }\n",
              "</style>\n",
              "<table border=\"1\" class=\"dataframe\">\n",
              "  <thead>\n",
              "    <tr style=\"text-align: right;\">\n",
              "      <th>Survived</th>\n",
              "      <th>0</th>\n",
              "      <th>1</th>\n",
              "    </tr>\n",
              "    <tr>\n",
              "      <th>Parch</th>\n",
              "      <th></th>\n",
              "      <th></th>\n",
              "    </tr>\n",
              "  </thead>\n",
              "  <tbody>\n",
              "    <tr>\n",
              "      <th>0</th>\n",
              "      <td>445</td>\n",
              "      <td>233</td>\n",
              "    </tr>\n",
              "    <tr>\n",
              "      <th>1</th>\n",
              "      <td>53</td>\n",
              "      <td>65</td>\n",
              "    </tr>\n",
              "    <tr>\n",
              "      <th>2</th>\n",
              "      <td>40</td>\n",
              "      <td>40</td>\n",
              "    </tr>\n",
              "    <tr>\n",
              "      <th>3</th>\n",
              "      <td>2</td>\n",
              "      <td>3</td>\n",
              "    </tr>\n",
              "    <tr>\n",
              "      <th>4</th>\n",
              "      <td>4</td>\n",
              "      <td>0</td>\n",
              "    </tr>\n",
              "    <tr>\n",
              "      <th>5</th>\n",
              "      <td>4</td>\n",
              "      <td>1</td>\n",
              "    </tr>\n",
              "    <tr>\n",
              "      <th>6</th>\n",
              "      <td>1</td>\n",
              "      <td>0</td>\n",
              "    </tr>\n",
              "  </tbody>\n",
              "</table>\n",
              "</div>"
            ],
            "text/plain": [
              "Survived    0    1\n",
              "Parch             \n",
              "0         445  233\n",
              "1          53   65\n",
              "2          40   40\n",
              "3           2    3\n",
              "4           4    0\n",
              "5           4    1\n",
              "6           1    0"
            ]
          },
          "metadata": {
            "tags": []
          },
          "execution_count": 194
        }
      ]
    },
    {
      "cell_type": "code",
      "metadata": {
        "colab": {
          "base_uri": "https://localhost:8080/",
          "height": 175
        },
        "id": "fi89-3om0XJJ",
        "outputId": "7aa067c2-d26c-4243-a84e-681fdb5eb755"
      },
      "source": [
        "embarked"
      ],
      "execution_count": null,
      "outputs": [
        {
          "output_type": "execute_result",
          "data": {
            "text/html": [
              "<div>\n",
              "<style scoped>\n",
              "    .dataframe tbody tr th:only-of-type {\n",
              "        vertical-align: middle;\n",
              "    }\n",
              "\n",
              "    .dataframe tbody tr th {\n",
              "        vertical-align: top;\n",
              "    }\n",
              "\n",
              "    .dataframe thead th {\n",
              "        text-align: right;\n",
              "    }\n",
              "</style>\n",
              "<table border=\"1\" class=\"dataframe\">\n",
              "  <thead>\n",
              "    <tr style=\"text-align: right;\">\n",
              "      <th>Survived</th>\n",
              "      <th>0</th>\n",
              "      <th>1</th>\n",
              "    </tr>\n",
              "    <tr>\n",
              "      <th>Embarked</th>\n",
              "      <th></th>\n",
              "      <th></th>\n",
              "    </tr>\n",
              "  </thead>\n",
              "  <tbody>\n",
              "    <tr>\n",
              "      <th>C</th>\n",
              "      <td>75</td>\n",
              "      <td>93</td>\n",
              "    </tr>\n",
              "    <tr>\n",
              "      <th>Q</th>\n",
              "      <td>47</td>\n",
              "      <td>30</td>\n",
              "    </tr>\n",
              "    <tr>\n",
              "      <th>S</th>\n",
              "      <td>427</td>\n",
              "      <td>219</td>\n",
              "    </tr>\n",
              "  </tbody>\n",
              "</table>\n",
              "</div>"
            ],
            "text/plain": [
              "Survived    0    1\n",
              "Embarked          \n",
              "C          75   93\n",
              "Q          47   30\n",
              "S         427  219"
            ]
          },
          "metadata": {
            "tags": []
          },
          "execution_count": 195
        }
      ]
    },
    {
      "cell_type": "code",
      "metadata": {
        "id": "voq_ZHaS3amd"
      },
      "source": [
        "df = df_train.drop(['Ticket','Cabin','Name','PassengerId'],axis = 1)"
      ],
      "execution_count": null,
      "outputs": []
    },
    {
      "cell_type": "code",
      "metadata": {
        "id": "6lQKS7qqONsv"
      },
      "source": [
        "dft = df_test.drop(['Ticket','Cabin','Name','PassengerId'],axis = 1)"
      ],
      "execution_count": null,
      "outputs": []
    },
    {
      "cell_type": "code",
      "metadata": {
        "id": "9JgfbQ2wx1Ce"
      },
      "source": [
        "df = pd.get_dummies(df)"
      ],
      "execution_count": null,
      "outputs": []
    },
    {
      "cell_type": "code",
      "metadata": {
        "id": "vZXXVrKeKvBP"
      },
      "source": [
        "dft = pd.get_dummies(dft)"
      ],
      "execution_count": null,
      "outputs": []
    },
    {
      "cell_type": "code",
      "metadata": {
        "colab": {
          "base_uri": "https://localhost:8080/",
          "height": 444
        },
        "id": "bpsEdRSdDdSm",
        "outputId": "6e45adb5-3d6e-46cb-908b-70e56050859d"
      },
      "source": [
        "df"
      ],
      "execution_count": null,
      "outputs": [
        {
          "output_type": "execute_result",
          "data": {
            "text/html": [
              "<div>\n",
              "<style scoped>\n",
              "    .dataframe tbody tr th:only-of-type {\n",
              "        vertical-align: middle;\n",
              "    }\n",
              "\n",
              "    .dataframe tbody tr th {\n",
              "        vertical-align: top;\n",
              "    }\n",
              "\n",
              "    .dataframe thead th {\n",
              "        text-align: right;\n",
              "    }\n",
              "</style>\n",
              "<table border=\"1\" class=\"dataframe\">\n",
              "  <thead>\n",
              "    <tr style=\"text-align: right;\">\n",
              "      <th></th>\n",
              "      <th>Survived</th>\n",
              "      <th>Pclass</th>\n",
              "      <th>Age</th>\n",
              "      <th>SibSp</th>\n",
              "      <th>Parch</th>\n",
              "      <th>Fare</th>\n",
              "      <th>famlymem</th>\n",
              "      <th>Alone</th>\n",
              "      <th>NotAlone</th>\n",
              "      <th>Sex_F</th>\n",
              "      <th>Sex_M</th>\n",
              "      <th>Embarked_C</th>\n",
              "      <th>Embarked_Q</th>\n",
              "      <th>Embarked_S</th>\n",
              "      <th>AgeSTR_0</th>\n",
              "      <th>AgeSTR_1</th>\n",
              "      <th>AgeSTR_2</th>\n",
              "      <th>AgeSTR_3</th>\n",
              "      <th>AgeSTR_4</th>\n",
              "      <th>AgeSTR_5</th>\n",
              "      <th>Titles_0</th>\n",
              "      <th>Titles_1</th>\n",
              "      <th>Titles_2</th>\n",
              "      <th>Titles_3</th>\n",
              "      <th>Farestr_0.0</th>\n",
              "      <th>Farestr_1.0</th>\n",
              "      <th>Farestr_2.0</th>\n",
              "      <th>Farestr_3.0</th>\n",
              "      <th>Farestr_4.0</th>\n",
              "      <th>Farestr_5.0</th>\n",
              "      <th>famlymemstr_0</th>\n",
              "      <th>famlymemstr_1</th>\n",
              "      <th>famlymemstr_2</th>\n",
              "      <th>famlymemstr_3</th>\n",
              "      <th>famlymemstr_4</th>\n",
              "      <th>PclassSTR_1</th>\n",
              "      <th>PclassSTR_2</th>\n",
              "      <th>PclassSTR_3</th>\n",
              "      <th>Age/Class_0</th>\n",
              "      <th>Age/Class_1</th>\n",
              "      <th>Age/Class_2</th>\n",
              "      <th>Age/Class_3</th>\n",
              "      <th>Fare/per_0</th>\n",
              "      <th>Fare/per_1</th>\n",
              "      <th>Fare/per_3</th>\n",
              "      <th>Fare/per_4</th>\n",
              "    </tr>\n",
              "  </thead>\n",
              "  <tbody>\n",
              "    <tr>\n",
              "      <th>0</th>\n",
              "      <td>0</td>\n",
              "      <td>3</td>\n",
              "      <td>3</td>\n",
              "      <td>1</td>\n",
              "      <td>0</td>\n",
              "      <td>0</td>\n",
              "      <td>1</td>\n",
              "      <td>0</td>\n",
              "      <td>1</td>\n",
              "      <td>0</td>\n",
              "      <td>1</td>\n",
              "      <td>0</td>\n",
              "      <td>0</td>\n",
              "      <td>1</td>\n",
              "      <td>0</td>\n",
              "      <td>0</td>\n",
              "      <td>0</td>\n",
              "      <td>1</td>\n",
              "      <td>0</td>\n",
              "      <td>0</td>\n",
              "      <td>1</td>\n",
              "      <td>0</td>\n",
              "      <td>0</td>\n",
              "      <td>0</td>\n",
              "      <td>1</td>\n",
              "      <td>0</td>\n",
              "      <td>0</td>\n",
              "      <td>0</td>\n",
              "      <td>0</td>\n",
              "      <td>0</td>\n",
              "      <td>0</td>\n",
              "      <td>1</td>\n",
              "      <td>0</td>\n",
              "      <td>0</td>\n",
              "      <td>0</td>\n",
              "      <td>0</td>\n",
              "      <td>0</td>\n",
              "      <td>1</td>\n",
              "      <td>0</td>\n",
              "      <td>0</td>\n",
              "      <td>0</td>\n",
              "      <td>1</td>\n",
              "      <td>1</td>\n",
              "      <td>0</td>\n",
              "      <td>0</td>\n",
              "      <td>0</td>\n",
              "    </tr>\n",
              "    <tr>\n",
              "      <th>1</th>\n",
              "      <td>1</td>\n",
              "      <td>1</td>\n",
              "      <td>4</td>\n",
              "      <td>1</td>\n",
              "      <td>0</td>\n",
              "      <td>3</td>\n",
              "      <td>1</td>\n",
              "      <td>0</td>\n",
              "      <td>1</td>\n",
              "      <td>1</td>\n",
              "      <td>0</td>\n",
              "      <td>1</td>\n",
              "      <td>0</td>\n",
              "      <td>0</td>\n",
              "      <td>0</td>\n",
              "      <td>0</td>\n",
              "      <td>0</td>\n",
              "      <td>0</td>\n",
              "      <td>1</td>\n",
              "      <td>0</td>\n",
              "      <td>0</td>\n",
              "      <td>1</td>\n",
              "      <td>0</td>\n",
              "      <td>0</td>\n",
              "      <td>0</td>\n",
              "      <td>0</td>\n",
              "      <td>0</td>\n",
              "      <td>1</td>\n",
              "      <td>0</td>\n",
              "      <td>0</td>\n",
              "      <td>0</td>\n",
              "      <td>1</td>\n",
              "      <td>0</td>\n",
              "      <td>0</td>\n",
              "      <td>0</td>\n",
              "      <td>1</td>\n",
              "      <td>0</td>\n",
              "      <td>0</td>\n",
              "      <td>0</td>\n",
              "      <td>1</td>\n",
              "      <td>0</td>\n",
              "      <td>0</td>\n",
              "      <td>0</td>\n",
              "      <td>1</td>\n",
              "      <td>0</td>\n",
              "      <td>0</td>\n",
              "    </tr>\n",
              "    <tr>\n",
              "      <th>2</th>\n",
              "      <td>1</td>\n",
              "      <td>3</td>\n",
              "      <td>3</td>\n",
              "      <td>0</td>\n",
              "      <td>0</td>\n",
              "      <td>0</td>\n",
              "      <td>0</td>\n",
              "      <td>1</td>\n",
              "      <td>0</td>\n",
              "      <td>1</td>\n",
              "      <td>0</td>\n",
              "      <td>0</td>\n",
              "      <td>0</td>\n",
              "      <td>1</td>\n",
              "      <td>0</td>\n",
              "      <td>0</td>\n",
              "      <td>0</td>\n",
              "      <td>1</td>\n",
              "      <td>0</td>\n",
              "      <td>0</td>\n",
              "      <td>0</td>\n",
              "      <td>0</td>\n",
              "      <td>1</td>\n",
              "      <td>0</td>\n",
              "      <td>1</td>\n",
              "      <td>0</td>\n",
              "      <td>0</td>\n",
              "      <td>0</td>\n",
              "      <td>0</td>\n",
              "      <td>0</td>\n",
              "      <td>1</td>\n",
              "      <td>0</td>\n",
              "      <td>0</td>\n",
              "      <td>0</td>\n",
              "      <td>0</td>\n",
              "      <td>0</td>\n",
              "      <td>0</td>\n",
              "      <td>1</td>\n",
              "      <td>0</td>\n",
              "      <td>0</td>\n",
              "      <td>0</td>\n",
              "      <td>1</td>\n",
              "      <td>1</td>\n",
              "      <td>0</td>\n",
              "      <td>0</td>\n",
              "      <td>0</td>\n",
              "    </tr>\n",
              "    <tr>\n",
              "      <th>3</th>\n",
              "      <td>1</td>\n",
              "      <td>1</td>\n",
              "      <td>4</td>\n",
              "      <td>1</td>\n",
              "      <td>0</td>\n",
              "      <td>3</td>\n",
              "      <td>1</td>\n",
              "      <td>0</td>\n",
              "      <td>1</td>\n",
              "      <td>1</td>\n",
              "      <td>0</td>\n",
              "      <td>0</td>\n",
              "      <td>0</td>\n",
              "      <td>1</td>\n",
              "      <td>0</td>\n",
              "      <td>0</td>\n",
              "      <td>0</td>\n",
              "      <td>0</td>\n",
              "      <td>1</td>\n",
              "      <td>0</td>\n",
              "      <td>0</td>\n",
              "      <td>1</td>\n",
              "      <td>0</td>\n",
              "      <td>0</td>\n",
              "      <td>0</td>\n",
              "      <td>0</td>\n",
              "      <td>0</td>\n",
              "      <td>1</td>\n",
              "      <td>0</td>\n",
              "      <td>0</td>\n",
              "      <td>0</td>\n",
              "      <td>1</td>\n",
              "      <td>0</td>\n",
              "      <td>0</td>\n",
              "      <td>0</td>\n",
              "      <td>1</td>\n",
              "      <td>0</td>\n",
              "      <td>0</td>\n",
              "      <td>0</td>\n",
              "      <td>1</td>\n",
              "      <td>0</td>\n",
              "      <td>0</td>\n",
              "      <td>0</td>\n",
              "      <td>1</td>\n",
              "      <td>0</td>\n",
              "      <td>0</td>\n",
              "    </tr>\n",
              "    <tr>\n",
              "      <th>4</th>\n",
              "      <td>0</td>\n",
              "      <td>3</td>\n",
              "      <td>4</td>\n",
              "      <td>0</td>\n",
              "      <td>0</td>\n",
              "      <td>1</td>\n",
              "      <td>0</td>\n",
              "      <td>1</td>\n",
              "      <td>0</td>\n",
              "      <td>0</td>\n",
              "      <td>1</td>\n",
              "      <td>0</td>\n",
              "      <td>0</td>\n",
              "      <td>1</td>\n",
              "      <td>0</td>\n",
              "      <td>0</td>\n",
              "      <td>0</td>\n",
              "      <td>0</td>\n",
              "      <td>1</td>\n",
              "      <td>0</td>\n",
              "      <td>1</td>\n",
              "      <td>0</td>\n",
              "      <td>0</td>\n",
              "      <td>0</td>\n",
              "      <td>0</td>\n",
              "      <td>1</td>\n",
              "      <td>0</td>\n",
              "      <td>0</td>\n",
              "      <td>0</td>\n",
              "      <td>0</td>\n",
              "      <td>1</td>\n",
              "      <td>0</td>\n",
              "      <td>0</td>\n",
              "      <td>0</td>\n",
              "      <td>0</td>\n",
              "      <td>0</td>\n",
              "      <td>0</td>\n",
              "      <td>1</td>\n",
              "      <td>0</td>\n",
              "      <td>0</td>\n",
              "      <td>0</td>\n",
              "      <td>1</td>\n",
              "      <td>0</td>\n",
              "      <td>1</td>\n",
              "      <td>0</td>\n",
              "      <td>0</td>\n",
              "    </tr>\n",
              "    <tr>\n",
              "      <th>...</th>\n",
              "      <td>...</td>\n",
              "      <td>...</td>\n",
              "      <td>...</td>\n",
              "      <td>...</td>\n",
              "      <td>...</td>\n",
              "      <td>...</td>\n",
              "      <td>...</td>\n",
              "      <td>...</td>\n",
              "      <td>...</td>\n",
              "      <td>...</td>\n",
              "      <td>...</td>\n",
              "      <td>...</td>\n",
              "      <td>...</td>\n",
              "      <td>...</td>\n",
              "      <td>...</td>\n",
              "      <td>...</td>\n",
              "      <td>...</td>\n",
              "      <td>...</td>\n",
              "      <td>...</td>\n",
              "      <td>...</td>\n",
              "      <td>...</td>\n",
              "      <td>...</td>\n",
              "      <td>...</td>\n",
              "      <td>...</td>\n",
              "      <td>...</td>\n",
              "      <td>...</td>\n",
              "      <td>...</td>\n",
              "      <td>...</td>\n",
              "      <td>...</td>\n",
              "      <td>...</td>\n",
              "      <td>...</td>\n",
              "      <td>...</td>\n",
              "      <td>...</td>\n",
              "      <td>...</td>\n",
              "      <td>...</td>\n",
              "      <td>...</td>\n",
              "      <td>...</td>\n",
              "      <td>...</td>\n",
              "      <td>...</td>\n",
              "      <td>...</td>\n",
              "      <td>...</td>\n",
              "      <td>...</td>\n",
              "      <td>...</td>\n",
              "      <td>...</td>\n",
              "      <td>...</td>\n",
              "      <td>...</td>\n",
              "    </tr>\n",
              "    <tr>\n",
              "      <th>886</th>\n",
              "      <td>0</td>\n",
              "      <td>2</td>\n",
              "      <td>3</td>\n",
              "      <td>0</td>\n",
              "      <td>0</td>\n",
              "      <td>1</td>\n",
              "      <td>0</td>\n",
              "      <td>1</td>\n",
              "      <td>0</td>\n",
              "      <td>0</td>\n",
              "      <td>1</td>\n",
              "      <td>0</td>\n",
              "      <td>0</td>\n",
              "      <td>1</td>\n",
              "      <td>0</td>\n",
              "      <td>0</td>\n",
              "      <td>0</td>\n",
              "      <td>1</td>\n",
              "      <td>0</td>\n",
              "      <td>0</td>\n",
              "      <td>0</td>\n",
              "      <td>0</td>\n",
              "      <td>0</td>\n",
              "      <td>1</td>\n",
              "      <td>0</td>\n",
              "      <td>1</td>\n",
              "      <td>0</td>\n",
              "      <td>0</td>\n",
              "      <td>0</td>\n",
              "      <td>0</td>\n",
              "      <td>1</td>\n",
              "      <td>0</td>\n",
              "      <td>0</td>\n",
              "      <td>0</td>\n",
              "      <td>0</td>\n",
              "      <td>0</td>\n",
              "      <td>1</td>\n",
              "      <td>0</td>\n",
              "      <td>0</td>\n",
              "      <td>0</td>\n",
              "      <td>1</td>\n",
              "      <td>0</td>\n",
              "      <td>0</td>\n",
              "      <td>1</td>\n",
              "      <td>0</td>\n",
              "      <td>0</td>\n",
              "    </tr>\n",
              "    <tr>\n",
              "      <th>887</th>\n",
              "      <td>1</td>\n",
              "      <td>1</td>\n",
              "      <td>3</td>\n",
              "      <td>0</td>\n",
              "      <td>0</td>\n",
              "      <td>3</td>\n",
              "      <td>0</td>\n",
              "      <td>1</td>\n",
              "      <td>0</td>\n",
              "      <td>1</td>\n",
              "      <td>0</td>\n",
              "      <td>0</td>\n",
              "      <td>0</td>\n",
              "      <td>1</td>\n",
              "      <td>0</td>\n",
              "      <td>0</td>\n",
              "      <td>0</td>\n",
              "      <td>1</td>\n",
              "      <td>0</td>\n",
              "      <td>0</td>\n",
              "      <td>0</td>\n",
              "      <td>0</td>\n",
              "      <td>1</td>\n",
              "      <td>0</td>\n",
              "      <td>0</td>\n",
              "      <td>0</td>\n",
              "      <td>0</td>\n",
              "      <td>1</td>\n",
              "      <td>0</td>\n",
              "      <td>0</td>\n",
              "      <td>1</td>\n",
              "      <td>0</td>\n",
              "      <td>0</td>\n",
              "      <td>0</td>\n",
              "      <td>0</td>\n",
              "      <td>1</td>\n",
              "      <td>0</td>\n",
              "      <td>0</td>\n",
              "      <td>0</td>\n",
              "      <td>1</td>\n",
              "      <td>0</td>\n",
              "      <td>0</td>\n",
              "      <td>0</td>\n",
              "      <td>0</td>\n",
              "      <td>1</td>\n",
              "      <td>0</td>\n",
              "    </tr>\n",
              "    <tr>\n",
              "      <th>888</th>\n",
              "      <td>0</td>\n",
              "      <td>3</td>\n",
              "      <td>3</td>\n",
              "      <td>1</td>\n",
              "      <td>2</td>\n",
              "      <td>2</td>\n",
              "      <td>2</td>\n",
              "      <td>0</td>\n",
              "      <td>1</td>\n",
              "      <td>1</td>\n",
              "      <td>0</td>\n",
              "      <td>0</td>\n",
              "      <td>0</td>\n",
              "      <td>1</td>\n",
              "      <td>0</td>\n",
              "      <td>0</td>\n",
              "      <td>0</td>\n",
              "      <td>1</td>\n",
              "      <td>0</td>\n",
              "      <td>0</td>\n",
              "      <td>0</td>\n",
              "      <td>0</td>\n",
              "      <td>1</td>\n",
              "      <td>0</td>\n",
              "      <td>0</td>\n",
              "      <td>0</td>\n",
              "      <td>1</td>\n",
              "      <td>0</td>\n",
              "      <td>0</td>\n",
              "      <td>0</td>\n",
              "      <td>0</td>\n",
              "      <td>0</td>\n",
              "      <td>1</td>\n",
              "      <td>0</td>\n",
              "      <td>0</td>\n",
              "      <td>0</td>\n",
              "      <td>0</td>\n",
              "      <td>1</td>\n",
              "      <td>0</td>\n",
              "      <td>0</td>\n",
              "      <td>0</td>\n",
              "      <td>1</td>\n",
              "      <td>1</td>\n",
              "      <td>0</td>\n",
              "      <td>0</td>\n",
              "      <td>0</td>\n",
              "    </tr>\n",
              "    <tr>\n",
              "      <th>889</th>\n",
              "      <td>1</td>\n",
              "      <td>1</td>\n",
              "      <td>3</td>\n",
              "      <td>0</td>\n",
              "      <td>0</td>\n",
              "      <td>3</td>\n",
              "      <td>0</td>\n",
              "      <td>1</td>\n",
              "      <td>0</td>\n",
              "      <td>0</td>\n",
              "      <td>1</td>\n",
              "      <td>1</td>\n",
              "      <td>0</td>\n",
              "      <td>0</td>\n",
              "      <td>0</td>\n",
              "      <td>0</td>\n",
              "      <td>0</td>\n",
              "      <td>1</td>\n",
              "      <td>0</td>\n",
              "      <td>0</td>\n",
              "      <td>1</td>\n",
              "      <td>0</td>\n",
              "      <td>0</td>\n",
              "      <td>0</td>\n",
              "      <td>0</td>\n",
              "      <td>0</td>\n",
              "      <td>0</td>\n",
              "      <td>1</td>\n",
              "      <td>0</td>\n",
              "      <td>0</td>\n",
              "      <td>1</td>\n",
              "      <td>0</td>\n",
              "      <td>0</td>\n",
              "      <td>0</td>\n",
              "      <td>0</td>\n",
              "      <td>1</td>\n",
              "      <td>0</td>\n",
              "      <td>0</td>\n",
              "      <td>0</td>\n",
              "      <td>1</td>\n",
              "      <td>0</td>\n",
              "      <td>0</td>\n",
              "      <td>0</td>\n",
              "      <td>0</td>\n",
              "      <td>1</td>\n",
              "      <td>0</td>\n",
              "    </tr>\n",
              "    <tr>\n",
              "      <th>890</th>\n",
              "      <td>0</td>\n",
              "      <td>3</td>\n",
              "      <td>4</td>\n",
              "      <td>0</td>\n",
              "      <td>0</td>\n",
              "      <td>0</td>\n",
              "      <td>0</td>\n",
              "      <td>1</td>\n",
              "      <td>0</td>\n",
              "      <td>0</td>\n",
              "      <td>1</td>\n",
              "      <td>0</td>\n",
              "      <td>1</td>\n",
              "      <td>0</td>\n",
              "      <td>0</td>\n",
              "      <td>0</td>\n",
              "      <td>0</td>\n",
              "      <td>0</td>\n",
              "      <td>1</td>\n",
              "      <td>0</td>\n",
              "      <td>1</td>\n",
              "      <td>0</td>\n",
              "      <td>0</td>\n",
              "      <td>0</td>\n",
              "      <td>1</td>\n",
              "      <td>0</td>\n",
              "      <td>0</td>\n",
              "      <td>0</td>\n",
              "      <td>0</td>\n",
              "      <td>0</td>\n",
              "      <td>1</td>\n",
              "      <td>0</td>\n",
              "      <td>0</td>\n",
              "      <td>0</td>\n",
              "      <td>0</td>\n",
              "      <td>0</td>\n",
              "      <td>0</td>\n",
              "      <td>1</td>\n",
              "      <td>0</td>\n",
              "      <td>0</td>\n",
              "      <td>0</td>\n",
              "      <td>1</td>\n",
              "      <td>1</td>\n",
              "      <td>0</td>\n",
              "      <td>0</td>\n",
              "      <td>0</td>\n",
              "    </tr>\n",
              "  </tbody>\n",
              "</table>\n",
              "<p>891 rows × 46 columns</p>\n",
              "</div>"
            ],
            "text/plain": [
              "     Survived  Pclass  Age  ...  Fare/per_1  Fare/per_3  Fare/per_4\n",
              "0           0       3    3  ...           0           0           0\n",
              "1           1       1    4  ...           1           0           0\n",
              "2           1       3    3  ...           0           0           0\n",
              "3           1       1    4  ...           1           0           0\n",
              "4           0       3    4  ...           1           0           0\n",
              "..        ...     ...  ...  ...         ...         ...         ...\n",
              "886         0       2    3  ...           1           0           0\n",
              "887         1       1    3  ...           0           1           0\n",
              "888         0       3    3  ...           0           0           0\n",
              "889         1       1    3  ...           0           1           0\n",
              "890         0       3    4  ...           0           0           0\n",
              "\n",
              "[891 rows x 46 columns]"
            ]
          },
          "metadata": {
            "tags": []
          },
          "execution_count": 200
        }
      ]
    },
    {
      "cell_type": "code",
      "metadata": {
        "id": "A9tMbsFX1sMt"
      },
      "source": [
        "import seaborn as sns"
      ],
      "execution_count": null,
      "outputs": []
    },
    {
      "cell_type": "code",
      "metadata": {
        "colab": {
          "base_uri": "https://localhost:8080/",
          "height": 789
        },
        "id": "zrcHgt7o29Wr",
        "outputId": "da81ff89-fc30-4dea-8767-712790bd744d"
      },
      "source": [
        "matrix = df.corr()\n",
        "f,ax = plt.subplots(figsize=(20,12))\n",
        "sns.heatmap(matrix,vmax=.8,square=True, cmap='BuPu')"
      ],
      "execution_count": null,
      "outputs": [
        {
          "output_type": "execute_result",
          "data": {
            "text/plain": [
              "<matplotlib.axes._subplots.AxesSubplot at 0x7f860cae2c88>"
            ]
          },
          "metadata": {
            "tags": []
          },
          "execution_count": 202
        },
        {
          "output_type": "display_data",
          "data": {
            "image/png": "[encoded data removed]",
            "text/plain": [
              "<Figure size 1440x864 with 2 Axes>"
            ]
          },
          "metadata": {
            "tags": [],
            "needs_background": "light"
          }
        }
      ]
    },
    {
      "cell_type": "code",
      "metadata": {
        "id": "nhqBIG_AG_yu"
      },
      "source": [
        "df2 = df.drop(['famlymem','Age','Fare','Parch','SibSp','Pclass'],axis = 1)"
      ],
      "execution_count": null,
      "outputs": []
    },
    {
      "cell_type": "code",
      "metadata": {
        "colab": {
          "base_uri": "https://localhost:8080/",
          "height": 789
        },
        "id": "FjZL0W_SKN09",
        "outputId": "3f1fb9c7-e502-4f11-c2d3-9f61d43593d8"
      },
      "source": [
        "matrix = df2.corr()\n",
        "f,ax = plt.subplots(figsize=(20,12))\n",
        "sns.heatmap(matrix,vmax=.8,square=True, cmap='BuPu')"
      ],
      "execution_count": null,
      "outputs": [
        {
          "output_type": "execute_result",
          "data": {
            "text/plain": [
              "<matplotlib.axes._subplots.AxesSubplot at 0x7f860ce86b38>"
            ]
          },
          "metadata": {
            "tags": []
          },
          "execution_count": 204
        },
        {
          "output_type": "display_data",
          "data": {
            "image/png": "[encoded data removed]",
            "text/plain": [
              "<Figure size 1440x864 with 2 Axes>"
            ]
          },
          "metadata": {
            "tags": [],
            "needs_background": "light"
          }
        }
      ]
    },
    {
      "cell_type": "code",
      "metadata": {
        "id": "luUL8VPzKhM1"
      },
      "source": [
        "dft2 = dft.drop(['famlymem','Age','Fare','Parch','SibSp','Pclass'],axis = 1)"
      ],
      "execution_count": null,
      "outputs": []
    },
    {
      "cell_type": "code",
      "metadata": {
        "colab": {
          "base_uri": "https://localhost:8080/",
          "height": 444
        },
        "id": "_N9t2S1X_acq",
        "outputId": "640c4e71-151c-4e4f-e848-283d1bdd369a"
      },
      "source": [
        "dft2"
      ],
      "execution_count": null,
      "outputs": [
        {
          "output_type": "execute_result",
          "data": {
            "text/html": [
              "<div>\n",
              "<style scoped>\n",
              "    .dataframe tbody tr th:only-of-type {\n",
              "        vertical-align: middle;\n",
              "    }\n",
              "\n",
              "    .dataframe tbody tr th {\n",
              "        vertical-align: top;\n",
              "    }\n",
              "\n",
              "    .dataframe thead th {\n",
              "        text-align: right;\n",
              "    }\n",
              "</style>\n",
              "<table border=\"1\" class=\"dataframe\">\n",
              "  <thead>\n",
              "    <tr style=\"text-align: right;\">\n",
              "      <th></th>\n",
              "      <th>Alone</th>\n",
              "      <th>NotAlone</th>\n",
              "      <th>Sex_F</th>\n",
              "      <th>Sex_M</th>\n",
              "      <th>Embarked_C</th>\n",
              "      <th>Embarked_Q</th>\n",
              "      <th>Embarked_S</th>\n",
              "      <th>AgeSTR_0</th>\n",
              "      <th>AgeSTR_1</th>\n",
              "      <th>AgeSTR_2</th>\n",
              "      <th>AgeSTR_3</th>\n",
              "      <th>AgeSTR_4</th>\n",
              "      <th>AgeSTR_5</th>\n",
              "      <th>Titles_0</th>\n",
              "      <th>Titles_1</th>\n",
              "      <th>Titles_2</th>\n",
              "      <th>Titles_3</th>\n",
              "      <th>Farestr_0.0</th>\n",
              "      <th>Farestr_1.0</th>\n",
              "      <th>Farestr_2.0</th>\n",
              "      <th>Farestr_3.0</th>\n",
              "      <th>Farestr_4.0</th>\n",
              "      <th>Farestr_5.0</th>\n",
              "      <th>famlymemstr_0</th>\n",
              "      <th>famlymemstr_1</th>\n",
              "      <th>famlymemstr_2</th>\n",
              "      <th>famlymemstr_3</th>\n",
              "      <th>famlymemstr_4</th>\n",
              "      <th>PclassSTR_1</th>\n",
              "      <th>PclassSTR_2</th>\n",
              "      <th>PclassSTR_3</th>\n",
              "      <th>Age/Class_0</th>\n",
              "      <th>Age/Class_1</th>\n",
              "      <th>Age/Class_2</th>\n",
              "      <th>Age/Class_3</th>\n",
              "      <th>Fare/per_0</th>\n",
              "      <th>Fare/per_1</th>\n",
              "      <th>Fare/per_3</th>\n",
              "      <th>Fare/per_4</th>\n",
              "    </tr>\n",
              "  </thead>\n",
              "  <tbody>\n",
              "    <tr>\n",
              "      <th>0</th>\n",
              "      <td>1</td>\n",
              "      <td>0</td>\n",
              "      <td>0</td>\n",
              "      <td>1</td>\n",
              "      <td>0</td>\n",
              "      <td>1</td>\n",
              "      <td>0</td>\n",
              "      <td>0</td>\n",
              "      <td>0</td>\n",
              "      <td>0</td>\n",
              "      <td>0</td>\n",
              "      <td>1</td>\n",
              "      <td>0</td>\n",
              "      <td>1</td>\n",
              "      <td>0</td>\n",
              "      <td>0</td>\n",
              "      <td>0</td>\n",
              "      <td>1</td>\n",
              "      <td>0</td>\n",
              "      <td>0</td>\n",
              "      <td>0</td>\n",
              "      <td>0</td>\n",
              "      <td>0</td>\n",
              "      <td>1</td>\n",
              "      <td>0</td>\n",
              "      <td>0</td>\n",
              "      <td>0</td>\n",
              "      <td>0</td>\n",
              "      <td>0</td>\n",
              "      <td>0</td>\n",
              "      <td>1</td>\n",
              "      <td>0</td>\n",
              "      <td>0</td>\n",
              "      <td>0</td>\n",
              "      <td>1</td>\n",
              "      <td>1</td>\n",
              "      <td>0</td>\n",
              "      <td>0</td>\n",
              "      <td>0</td>\n",
              "    </tr>\n",
              "    <tr>\n",
              "      <th>1</th>\n",
              "      <td>0</td>\n",
              "      <td>1</td>\n",
              "      <td>1</td>\n",
              "      <td>0</td>\n",
              "      <td>0</td>\n",
              "      <td>0</td>\n",
              "      <td>1</td>\n",
              "      <td>0</td>\n",
              "      <td>0</td>\n",
              "      <td>0</td>\n",
              "      <td>0</td>\n",
              "      <td>1</td>\n",
              "      <td>0</td>\n",
              "      <td>0</td>\n",
              "      <td>1</td>\n",
              "      <td>0</td>\n",
              "      <td>0</td>\n",
              "      <td>1</td>\n",
              "      <td>0</td>\n",
              "      <td>0</td>\n",
              "      <td>0</td>\n",
              "      <td>0</td>\n",
              "      <td>0</td>\n",
              "      <td>0</td>\n",
              "      <td>1</td>\n",
              "      <td>0</td>\n",
              "      <td>0</td>\n",
              "      <td>0</td>\n",
              "      <td>0</td>\n",
              "      <td>0</td>\n",
              "      <td>1</td>\n",
              "      <td>0</td>\n",
              "      <td>0</td>\n",
              "      <td>0</td>\n",
              "      <td>1</td>\n",
              "      <td>1</td>\n",
              "      <td>0</td>\n",
              "      <td>0</td>\n",
              "      <td>0</td>\n",
              "    </tr>\n",
              "    <tr>\n",
              "      <th>2</th>\n",
              "      <td>1</td>\n",
              "      <td>0</td>\n",
              "      <td>0</td>\n",
              "      <td>1</td>\n",
              "      <td>0</td>\n",
              "      <td>1</td>\n",
              "      <td>0</td>\n",
              "      <td>0</td>\n",
              "      <td>0</td>\n",
              "      <td>0</td>\n",
              "      <td>0</td>\n",
              "      <td>0</td>\n",
              "      <td>1</td>\n",
              "      <td>1</td>\n",
              "      <td>0</td>\n",
              "      <td>0</td>\n",
              "      <td>0</td>\n",
              "      <td>0</td>\n",
              "      <td>1</td>\n",
              "      <td>0</td>\n",
              "      <td>0</td>\n",
              "      <td>0</td>\n",
              "      <td>0</td>\n",
              "      <td>1</td>\n",
              "      <td>0</td>\n",
              "      <td>0</td>\n",
              "      <td>0</td>\n",
              "      <td>0</td>\n",
              "      <td>0</td>\n",
              "      <td>1</td>\n",
              "      <td>0</td>\n",
              "      <td>0</td>\n",
              "      <td>0</td>\n",
              "      <td>0</td>\n",
              "      <td>1</td>\n",
              "      <td>0</td>\n",
              "      <td>1</td>\n",
              "      <td>0</td>\n",
              "      <td>0</td>\n",
              "    </tr>\n",
              "    <tr>\n",
              "      <th>3</th>\n",
              "      <td>1</td>\n",
              "      <td>0</td>\n",
              "      <td>0</td>\n",
              "      <td>1</td>\n",
              "      <td>0</td>\n",
              "      <td>0</td>\n",
              "      <td>1</td>\n",
              "      <td>0</td>\n",
              "      <td>0</td>\n",
              "      <td>0</td>\n",
              "      <td>1</td>\n",
              "      <td>0</td>\n",
              "      <td>0</td>\n",
              "      <td>1</td>\n",
              "      <td>0</td>\n",
              "      <td>0</td>\n",
              "      <td>0</td>\n",
              "      <td>0</td>\n",
              "      <td>1</td>\n",
              "      <td>0</td>\n",
              "      <td>0</td>\n",
              "      <td>0</td>\n",
              "      <td>0</td>\n",
              "      <td>1</td>\n",
              "      <td>0</td>\n",
              "      <td>0</td>\n",
              "      <td>0</td>\n",
              "      <td>0</td>\n",
              "      <td>0</td>\n",
              "      <td>0</td>\n",
              "      <td>1</td>\n",
              "      <td>0</td>\n",
              "      <td>0</td>\n",
              "      <td>0</td>\n",
              "      <td>1</td>\n",
              "      <td>0</td>\n",
              "      <td>1</td>\n",
              "      <td>0</td>\n",
              "      <td>0</td>\n",
              "    </tr>\n",
              "    <tr>\n",
              "      <th>4</th>\n",
              "      <td>0</td>\n",
              "      <td>1</td>\n",
              "      <td>1</td>\n",
              "      <td>0</td>\n",
              "      <td>0</td>\n",
              "      <td>0</td>\n",
              "      <td>1</td>\n",
              "      <td>0</td>\n",
              "      <td>0</td>\n",
              "      <td>0</td>\n",
              "      <td>1</td>\n",
              "      <td>0</td>\n",
              "      <td>0</td>\n",
              "      <td>0</td>\n",
              "      <td>1</td>\n",
              "      <td>0</td>\n",
              "      <td>0</td>\n",
              "      <td>0</td>\n",
              "      <td>1</td>\n",
              "      <td>0</td>\n",
              "      <td>0</td>\n",
              "      <td>0</td>\n",
              "      <td>0</td>\n",
              "      <td>0</td>\n",
              "      <td>1</td>\n",
              "      <td>0</td>\n",
              "      <td>0</td>\n",
              "      <td>0</td>\n",
              "      <td>0</td>\n",
              "      <td>0</td>\n",
              "      <td>1</td>\n",
              "      <td>0</td>\n",
              "      <td>0</td>\n",
              "      <td>0</td>\n",
              "      <td>1</td>\n",
              "      <td>1</td>\n",
              "      <td>0</td>\n",
              "      <td>0</td>\n",
              "      <td>0</td>\n",
              "    </tr>\n",
              "    <tr>\n",
              "      <th>...</th>\n",
              "      <td>...</td>\n",
              "      <td>...</td>\n",
              "      <td>...</td>\n",
              "      <td>...</td>\n",
              "      <td>...</td>\n",
              "      <td>...</td>\n",
              "      <td>...</td>\n",
              "      <td>...</td>\n",
              "      <td>...</td>\n",
              "      <td>...</td>\n",
              "      <td>...</td>\n",
              "      <td>...</td>\n",
              "      <td>...</td>\n",
              "      <td>...</td>\n",
              "      <td>...</td>\n",
              "      <td>...</td>\n",
              "      <td>...</td>\n",
              "      <td>...</td>\n",
              "      <td>...</td>\n",
              "      <td>...</td>\n",
              "      <td>...</td>\n",
              "      <td>...</td>\n",
              "      <td>...</td>\n",
              "      <td>...</td>\n",
              "      <td>...</td>\n",
              "      <td>...</td>\n",
              "      <td>...</td>\n",
              "      <td>...</td>\n",
              "      <td>...</td>\n",
              "      <td>...</td>\n",
              "      <td>...</td>\n",
              "      <td>...</td>\n",
              "      <td>...</td>\n",
              "      <td>...</td>\n",
              "      <td>...</td>\n",
              "      <td>...</td>\n",
              "      <td>...</td>\n",
              "      <td>...</td>\n",
              "      <td>...</td>\n",
              "    </tr>\n",
              "    <tr>\n",
              "      <th>413</th>\n",
              "      <td>1</td>\n",
              "      <td>0</td>\n",
              "      <td>0</td>\n",
              "      <td>1</td>\n",
              "      <td>0</td>\n",
              "      <td>0</td>\n",
              "      <td>1</td>\n",
              "      <td>0</td>\n",
              "      <td>0</td>\n",
              "      <td>0</td>\n",
              "      <td>1</td>\n",
              "      <td>0</td>\n",
              "      <td>0</td>\n",
              "      <td>1</td>\n",
              "      <td>0</td>\n",
              "      <td>0</td>\n",
              "      <td>0</td>\n",
              "      <td>0</td>\n",
              "      <td>1</td>\n",
              "      <td>0</td>\n",
              "      <td>0</td>\n",
              "      <td>0</td>\n",
              "      <td>0</td>\n",
              "      <td>1</td>\n",
              "      <td>0</td>\n",
              "      <td>0</td>\n",
              "      <td>0</td>\n",
              "      <td>0</td>\n",
              "      <td>0</td>\n",
              "      <td>0</td>\n",
              "      <td>1</td>\n",
              "      <td>0</td>\n",
              "      <td>0</td>\n",
              "      <td>0</td>\n",
              "      <td>1</td>\n",
              "      <td>0</td>\n",
              "      <td>1</td>\n",
              "      <td>0</td>\n",
              "      <td>0</td>\n",
              "    </tr>\n",
              "    <tr>\n",
              "      <th>414</th>\n",
              "      <td>1</td>\n",
              "      <td>0</td>\n",
              "      <td>1</td>\n",
              "      <td>0</td>\n",
              "      <td>1</td>\n",
              "      <td>0</td>\n",
              "      <td>0</td>\n",
              "      <td>0</td>\n",
              "      <td>0</td>\n",
              "      <td>0</td>\n",
              "      <td>0</td>\n",
              "      <td>1</td>\n",
              "      <td>0</td>\n",
              "      <td>0</td>\n",
              "      <td>0</td>\n",
              "      <td>0</td>\n",
              "      <td>1</td>\n",
              "      <td>0</td>\n",
              "      <td>0</td>\n",
              "      <td>0</td>\n",
              "      <td>0</td>\n",
              "      <td>1</td>\n",
              "      <td>0</td>\n",
              "      <td>1</td>\n",
              "      <td>0</td>\n",
              "      <td>0</td>\n",
              "      <td>0</td>\n",
              "      <td>0</td>\n",
              "      <td>1</td>\n",
              "      <td>0</td>\n",
              "      <td>0</td>\n",
              "      <td>0</td>\n",
              "      <td>1</td>\n",
              "      <td>0</td>\n",
              "      <td>0</td>\n",
              "      <td>0</td>\n",
              "      <td>0</td>\n",
              "      <td>0</td>\n",
              "      <td>1</td>\n",
              "    </tr>\n",
              "    <tr>\n",
              "      <th>415</th>\n",
              "      <td>1</td>\n",
              "      <td>0</td>\n",
              "      <td>0</td>\n",
              "      <td>1</td>\n",
              "      <td>0</td>\n",
              "      <td>0</td>\n",
              "      <td>1</td>\n",
              "      <td>0</td>\n",
              "      <td>0</td>\n",
              "      <td>0</td>\n",
              "      <td>0</td>\n",
              "      <td>1</td>\n",
              "      <td>0</td>\n",
              "      <td>1</td>\n",
              "      <td>0</td>\n",
              "      <td>0</td>\n",
              "      <td>0</td>\n",
              "      <td>1</td>\n",
              "      <td>0</td>\n",
              "      <td>0</td>\n",
              "      <td>0</td>\n",
              "      <td>0</td>\n",
              "      <td>0</td>\n",
              "      <td>1</td>\n",
              "      <td>0</td>\n",
              "      <td>0</td>\n",
              "      <td>0</td>\n",
              "      <td>0</td>\n",
              "      <td>0</td>\n",
              "      <td>0</td>\n",
              "      <td>1</td>\n",
              "      <td>0</td>\n",
              "      <td>0</td>\n",
              "      <td>0</td>\n",
              "      <td>1</td>\n",
              "      <td>1</td>\n",
              "      <td>0</td>\n",
              "      <td>0</td>\n",
              "      <td>0</td>\n",
              "    </tr>\n",
              "    <tr>\n",
              "      <th>416</th>\n",
              "      <td>1</td>\n",
              "      <td>0</td>\n",
              "      <td>0</td>\n",
              "      <td>1</td>\n",
              "      <td>0</td>\n",
              "      <td>0</td>\n",
              "      <td>1</td>\n",
              "      <td>0</td>\n",
              "      <td>0</td>\n",
              "      <td>1</td>\n",
              "      <td>0</td>\n",
              "      <td>0</td>\n",
              "      <td>0</td>\n",
              "      <td>1</td>\n",
              "      <td>0</td>\n",
              "      <td>0</td>\n",
              "      <td>0</td>\n",
              "      <td>0</td>\n",
              "      <td>1</td>\n",
              "      <td>0</td>\n",
              "      <td>0</td>\n",
              "      <td>0</td>\n",
              "      <td>0</td>\n",
              "      <td>1</td>\n",
              "      <td>0</td>\n",
              "      <td>0</td>\n",
              "      <td>0</td>\n",
              "      <td>0</td>\n",
              "      <td>0</td>\n",
              "      <td>0</td>\n",
              "      <td>1</td>\n",
              "      <td>0</td>\n",
              "      <td>0</td>\n",
              "      <td>1</td>\n",
              "      <td>0</td>\n",
              "      <td>0</td>\n",
              "      <td>1</td>\n",
              "      <td>0</td>\n",
              "      <td>0</td>\n",
              "    </tr>\n",
              "    <tr>\n",
              "      <th>417</th>\n",
              "      <td>0</td>\n",
              "      <td>1</td>\n",
              "      <td>0</td>\n",
              "      <td>1</td>\n",
              "      <td>1</td>\n",
              "      <td>0</td>\n",
              "      <td>0</td>\n",
              "      <td>0</td>\n",
              "      <td>0</td>\n",
              "      <td>0</td>\n",
              "      <td>0</td>\n",
              "      <td>1</td>\n",
              "      <td>0</td>\n",
              "      <td>0</td>\n",
              "      <td>0</td>\n",
              "      <td>0</td>\n",
              "      <td>1</td>\n",
              "      <td>0</td>\n",
              "      <td>0</td>\n",
              "      <td>1</td>\n",
              "      <td>0</td>\n",
              "      <td>0</td>\n",
              "      <td>0</td>\n",
              "      <td>0</td>\n",
              "      <td>1</td>\n",
              "      <td>0</td>\n",
              "      <td>0</td>\n",
              "      <td>0</td>\n",
              "      <td>0</td>\n",
              "      <td>0</td>\n",
              "      <td>1</td>\n",
              "      <td>0</td>\n",
              "      <td>0</td>\n",
              "      <td>0</td>\n",
              "      <td>1</td>\n",
              "      <td>0</td>\n",
              "      <td>1</td>\n",
              "      <td>0</td>\n",
              "      <td>0</td>\n",
              "    </tr>\n",
              "  </tbody>\n",
              "</table>\n",
              "<p>418 rows × 39 columns</p>\n",
              "</div>"
            ],
            "text/plain": [
              "     Alone  NotAlone  Sex_F  ...  Fare/per_1  Fare/per_3  Fare/per_4\n",
              "0        1         0      0  ...           0           0           0\n",
              "1        0         1      1  ...           0           0           0\n",
              "2        1         0      0  ...           1           0           0\n",
              "3        1         0      0  ...           1           0           0\n",
              "4        0         1      1  ...           0           0           0\n",
              "..     ...       ...    ...  ...         ...         ...         ...\n",
              "413      1         0      0  ...           1           0           0\n",
              "414      1         0      1  ...           0           0           1\n",
              "415      1         0      0  ...           0           0           0\n",
              "416      1         0      0  ...           1           0           0\n",
              "417      0         1      0  ...           1           0           0\n",
              "\n",
              "[418 rows x 39 columns]"
            ]
          },
          "metadata": {
            "tags": []
          },
          "execution_count": 206
        }
      ]
    },
    {
      "cell_type": "code",
      "metadata": {
        "colab": {
          "base_uri": "https://localhost:8080/",
          "height": 444
        },
        "id": "9B29HzCT_bQc",
        "outputId": "8d2545ed-c211-46dc-f5b3-3eb266290dbf"
      },
      "source": [
        "df2"
      ],
      "execution_count": null,
      "outputs": [
        {
          "output_type": "execute_result",
          "data": {
            "text/html": [
              "<div>\n",
              "<style scoped>\n",
              "    .dataframe tbody tr th:only-of-type {\n",
              "        vertical-align: middle;\n",
              "    }\n",
              "\n",
              "    .dataframe tbody tr th {\n",
              "        vertical-align: top;\n",
              "    }\n",
              "\n",
              "    .dataframe thead th {\n",
              "        text-align: right;\n",
              "    }\n",
              "</style>\n",
              "<table border=\"1\" class=\"dataframe\">\n",
              "  <thead>\n",
              "    <tr style=\"text-align: right;\">\n",
              "      <th></th>\n",
              "      <th>Survived</th>\n",
              "      <th>Alone</th>\n",
              "      <th>NotAlone</th>\n",
              "      <th>Sex_F</th>\n",
              "      <th>Sex_M</th>\n",
              "      <th>Embarked_C</th>\n",
              "      <th>Embarked_Q</th>\n",
              "      <th>Embarked_S</th>\n",
              "      <th>AgeSTR_0</th>\n",
              "      <th>AgeSTR_1</th>\n",
              "      <th>AgeSTR_2</th>\n",
              "      <th>AgeSTR_3</th>\n",
              "      <th>AgeSTR_4</th>\n",
              "      <th>AgeSTR_5</th>\n",
              "      <th>Titles_0</th>\n",
              "      <th>Titles_1</th>\n",
              "      <th>Titles_2</th>\n",
              "      <th>Titles_3</th>\n",
              "      <th>Farestr_0.0</th>\n",
              "      <th>Farestr_1.0</th>\n",
              "      <th>Farestr_2.0</th>\n",
              "      <th>Farestr_3.0</th>\n",
              "      <th>Farestr_4.0</th>\n",
              "      <th>Farestr_5.0</th>\n",
              "      <th>famlymemstr_0</th>\n",
              "      <th>famlymemstr_1</th>\n",
              "      <th>famlymemstr_2</th>\n",
              "      <th>famlymemstr_3</th>\n",
              "      <th>famlymemstr_4</th>\n",
              "      <th>PclassSTR_1</th>\n",
              "      <th>PclassSTR_2</th>\n",
              "      <th>PclassSTR_3</th>\n",
              "      <th>Age/Class_0</th>\n",
              "      <th>Age/Class_1</th>\n",
              "      <th>Age/Class_2</th>\n",
              "      <th>Age/Class_3</th>\n",
              "      <th>Fare/per_0</th>\n",
              "      <th>Fare/per_1</th>\n",
              "      <th>Fare/per_3</th>\n",
              "      <th>Fare/per_4</th>\n",
              "    </tr>\n",
              "  </thead>\n",
              "  <tbody>\n",
              "    <tr>\n",
              "      <th>0</th>\n",
              "      <td>0</td>\n",
              "      <td>0</td>\n",
              "      <td>1</td>\n",
              "      <td>0</td>\n",
              "      <td>1</td>\n",
              "      <td>0</td>\n",
              "      <td>0</td>\n",
              "      <td>1</td>\n",
              "      <td>0</td>\n",
              "      <td>0</td>\n",
              "      <td>0</td>\n",
              "      <td>1</td>\n",
              "      <td>0</td>\n",
              "      <td>0</td>\n",
              "      <td>1</td>\n",
              "      <td>0</td>\n",
              "      <td>0</td>\n",
              "      <td>0</td>\n",
              "      <td>1</td>\n",
              "      <td>0</td>\n",
              "      <td>0</td>\n",
              "      <td>0</td>\n",
              "      <td>0</td>\n",
              "      <td>0</td>\n",
              "      <td>0</td>\n",
              "      <td>1</td>\n",
              "      <td>0</td>\n",
              "      <td>0</td>\n",
              "      <td>0</td>\n",
              "      <td>0</td>\n",
              "      <td>0</td>\n",
              "      <td>1</td>\n",
              "      <td>0</td>\n",
              "      <td>0</td>\n",
              "      <td>0</td>\n",
              "      <td>1</td>\n",
              "      <td>1</td>\n",
              "      <td>0</td>\n",
              "      <td>0</td>\n",
              "      <td>0</td>\n",
              "    </tr>\n",
              "    <tr>\n",
              "      <th>1</th>\n",
              "      <td>1</td>\n",
              "      <td>0</td>\n",
              "      <td>1</td>\n",
              "      <td>1</td>\n",
              "      <td>0</td>\n",
              "      <td>1</td>\n",
              "      <td>0</td>\n",
              "      <td>0</td>\n",
              "      <td>0</td>\n",
              "      <td>0</td>\n",
              "      <td>0</td>\n",
              "      <td>0</td>\n",
              "      <td>1</td>\n",
              "      <td>0</td>\n",
              "      <td>0</td>\n",
              "      <td>1</td>\n",
              "      <td>0</td>\n",
              "      <td>0</td>\n",
              "      <td>0</td>\n",
              "      <td>0</td>\n",
              "      <td>0</td>\n",
              "      <td>1</td>\n",
              "      <td>0</td>\n",
              "      <td>0</td>\n",
              "      <td>0</td>\n",
              "      <td>1</td>\n",
              "      <td>0</td>\n",
              "      <td>0</td>\n",
              "      <td>0</td>\n",
              "      <td>1</td>\n",
              "      <td>0</td>\n",
              "      <td>0</td>\n",
              "      <td>0</td>\n",
              "      <td>1</td>\n",
              "      <td>0</td>\n",
              "      <td>0</td>\n",
              "      <td>0</td>\n",
              "      <td>1</td>\n",
              "      <td>0</td>\n",
              "      <td>0</td>\n",
              "    </tr>\n",
              "    <tr>\n",
              "      <th>2</th>\n",
              "      <td>1</td>\n",
              "      <td>1</td>\n",
              "      <td>0</td>\n",
              "      <td>1</td>\n",
              "      <td>0</td>\n",
              "      <td>0</td>\n",
              "      <td>0</td>\n",
              "      <td>1</td>\n",
              "      <td>0</td>\n",
              "      <td>0</td>\n",
              "      <td>0</td>\n",
              "      <td>1</td>\n",
              "      <td>0</td>\n",
              "      <td>0</td>\n",
              "      <td>0</td>\n",
              "      <td>0</td>\n",
              "      <td>1</td>\n",
              "      <td>0</td>\n",
              "      <td>1</td>\n",
              "      <td>0</td>\n",
              "      <td>0</td>\n",
              "      <td>0</td>\n",
              "      <td>0</td>\n",
              "      <td>0</td>\n",
              "      <td>1</td>\n",
              "      <td>0</td>\n",
              "      <td>0</td>\n",
              "      <td>0</td>\n",
              "      <td>0</td>\n",
              "      <td>0</td>\n",
              "      <td>0</td>\n",
              "      <td>1</td>\n",
              "      <td>0</td>\n",
              "      <td>0</td>\n",
              "      <td>0</td>\n",
              "      <td>1</td>\n",
              "      <td>1</td>\n",
              "      <td>0</td>\n",
              "      <td>0</td>\n",
              "      <td>0</td>\n",
              "    </tr>\n",
              "    <tr>\n",
              "      <th>3</th>\n",
              "      <td>1</td>\n",
              "      <td>0</td>\n",
              "      <td>1</td>\n",
              "      <td>1</td>\n",
              "      <td>0</td>\n",
              "      <td>0</td>\n",
              "      <td>0</td>\n",
              "      <td>1</td>\n",
              "      <td>0</td>\n",
              "      <td>0</td>\n",
              "      <td>0</td>\n",
              "      <td>0</td>\n",
              "      <td>1</td>\n",
              "      <td>0</td>\n",
              "      <td>0</td>\n",
              "      <td>1</td>\n",
              "      <td>0</td>\n",
              "      <td>0</td>\n",
              "      <td>0</td>\n",
              "      <td>0</td>\n",
              "      <td>0</td>\n",
              "      <td>1</td>\n",
              "      <td>0</td>\n",
              "      <td>0</td>\n",
              "      <td>0</td>\n",
              "      <td>1</td>\n",
              "      <td>0</td>\n",
              "      <td>0</td>\n",
              "      <td>0</td>\n",
              "      <td>1</td>\n",
              "      <td>0</td>\n",
              "      <td>0</td>\n",
              "      <td>0</td>\n",
              "      <td>1</td>\n",
              "      <td>0</td>\n",
              "      <td>0</td>\n",
              "      <td>0</td>\n",
              "      <td>1</td>\n",
              "      <td>0</td>\n",
              "      <td>0</td>\n",
              "    </tr>\n",
              "    <tr>\n",
              "      <th>4</th>\n",
              "      <td>0</td>\n",
              "      <td>1</td>\n",
              "      <td>0</td>\n",
              "      <td>0</td>\n",
              "      <td>1</td>\n",
              "      <td>0</td>\n",
              "      <td>0</td>\n",
              "      <td>1</td>\n",
              "      <td>0</td>\n",
              "      <td>0</td>\n",
              "      <td>0</td>\n",
              "      <td>0</td>\n",
              "      <td>1</td>\n",
              "      <td>0</td>\n",
              "      <td>1</td>\n",
              "      <td>0</td>\n",
              "      <td>0</td>\n",
              "      <td>0</td>\n",
              "      <td>0</td>\n",
              "      <td>1</td>\n",
              "      <td>0</td>\n",
              "      <td>0</td>\n",
              "      <td>0</td>\n",
              "      <td>0</td>\n",
              "      <td>1</td>\n",
              "      <td>0</td>\n",
              "      <td>0</td>\n",
              "      <td>0</td>\n",
              "      <td>0</td>\n",
              "      <td>0</td>\n",
              "      <td>0</td>\n",
              "      <td>1</td>\n",
              "      <td>0</td>\n",
              "      <td>0</td>\n",
              "      <td>0</td>\n",
              "      <td>1</td>\n",
              "      <td>0</td>\n",
              "      <td>1</td>\n",
              "      <td>0</td>\n",
              "      <td>0</td>\n",
              "    </tr>\n",
              "    <tr>\n",
              "      <th>...</th>\n",
              "      <td>...</td>\n",
              "      <td>...</td>\n",
              "      <td>...</td>\n",
              "      <td>...</td>\n",
              "      <td>...</td>\n",
              "      <td>...</td>\n",
              "      <td>...</td>\n",
              "      <td>...</td>\n",
              "      <td>...</td>\n",
              "      <td>...</td>\n",
              "      <td>...</td>\n",
              "      <td>...</td>\n",
              "      <td>...</td>\n",
              "      <td>...</td>\n",
              "      <td>...</td>\n",
              "      <td>...</td>\n",
              "      <td>...</td>\n",
              "      <td>...</td>\n",
              "      <td>...</td>\n",
              "      <td>...</td>\n",
              "      <td>...</td>\n",
              "      <td>...</td>\n",
              "      <td>...</td>\n",
              "      <td>...</td>\n",
              "      <td>...</td>\n",
              "      <td>...</td>\n",
              "      <td>...</td>\n",
              "      <td>...</td>\n",
              "      <td>...</td>\n",
              "      <td>...</td>\n",
              "      <td>...</td>\n",
              "      <td>...</td>\n",
              "      <td>...</td>\n",
              "      <td>...</td>\n",
              "      <td>...</td>\n",
              "      <td>...</td>\n",
              "      <td>...</td>\n",
              "      <td>...</td>\n",
              "      <td>...</td>\n",
              "      <td>...</td>\n",
              "    </tr>\n",
              "    <tr>\n",
              "      <th>886</th>\n",
              "      <td>0</td>\n",
              "      <td>1</td>\n",
              "      <td>0</td>\n",
              "      <td>0</td>\n",
              "      <td>1</td>\n",
              "      <td>0</td>\n",
              "      <td>0</td>\n",
              "      <td>1</td>\n",
              "      <td>0</td>\n",
              "      <td>0</td>\n",
              "      <td>0</td>\n",
              "      <td>1</td>\n",
              "      <td>0</td>\n",
              "      <td>0</td>\n",
              "      <td>0</td>\n",
              "      <td>0</td>\n",
              "      <td>0</td>\n",
              "      <td>1</td>\n",
              "      <td>0</td>\n",
              "      <td>1</td>\n",
              "      <td>0</td>\n",
              "      <td>0</td>\n",
              "      <td>0</td>\n",
              "      <td>0</td>\n",
              "      <td>1</td>\n",
              "      <td>0</td>\n",
              "      <td>0</td>\n",
              "      <td>0</td>\n",
              "      <td>0</td>\n",
              "      <td>0</td>\n",
              "      <td>1</td>\n",
              "      <td>0</td>\n",
              "      <td>0</td>\n",
              "      <td>0</td>\n",
              "      <td>1</td>\n",
              "      <td>0</td>\n",
              "      <td>0</td>\n",
              "      <td>1</td>\n",
              "      <td>0</td>\n",
              "      <td>0</td>\n",
              "    </tr>\n",
              "    <tr>\n",
              "      <th>887</th>\n",
              "      <td>1</td>\n",
              "      <td>1</td>\n",
              "      <td>0</td>\n",
              "      <td>1</td>\n",
              "      <td>0</td>\n",
              "      <td>0</td>\n",
              "      <td>0</td>\n",
              "      <td>1</td>\n",
              "      <td>0</td>\n",
              "      <td>0</td>\n",
              "      <td>0</td>\n",
              "      <td>1</td>\n",
              "      <td>0</td>\n",
              "      <td>0</td>\n",
              "      <td>0</td>\n",
              "      <td>0</td>\n",
              "      <td>1</td>\n",
              "      <td>0</td>\n",
              "      <td>0</td>\n",
              "      <td>0</td>\n",
              "      <td>0</td>\n",
              "      <td>1</td>\n",
              "      <td>0</td>\n",
              "      <td>0</td>\n",
              "      <td>1</td>\n",
              "      <td>0</td>\n",
              "      <td>0</td>\n",
              "      <td>0</td>\n",
              "      <td>0</td>\n",
              "      <td>1</td>\n",
              "      <td>0</td>\n",
              "      <td>0</td>\n",
              "      <td>0</td>\n",
              "      <td>1</td>\n",
              "      <td>0</td>\n",
              "      <td>0</td>\n",
              "      <td>0</td>\n",
              "      <td>0</td>\n",
              "      <td>1</td>\n",
              "      <td>0</td>\n",
              "    </tr>\n",
              "    <tr>\n",
              "      <th>888</th>\n",
              "      <td>0</td>\n",
              "      <td>0</td>\n",
              "      <td>1</td>\n",
              "      <td>1</td>\n",
              "      <td>0</td>\n",
              "      <td>0</td>\n",
              "      <td>0</td>\n",
              "      <td>1</td>\n",
              "      <td>0</td>\n",
              "      <td>0</td>\n",
              "      <td>0</td>\n",
              "      <td>1</td>\n",
              "      <td>0</td>\n",
              "      <td>0</td>\n",
              "      <td>0</td>\n",
              "      <td>0</td>\n",
              "      <td>1</td>\n",
              "      <td>0</td>\n",
              "      <td>0</td>\n",
              "      <td>0</td>\n",
              "      <td>1</td>\n",
              "      <td>0</td>\n",
              "      <td>0</td>\n",
              "      <td>0</td>\n",
              "      <td>0</td>\n",
              "      <td>0</td>\n",
              "      <td>1</td>\n",
              "      <td>0</td>\n",
              "      <td>0</td>\n",
              "      <td>0</td>\n",
              "      <td>0</td>\n",
              "      <td>1</td>\n",
              "      <td>0</td>\n",
              "      <td>0</td>\n",
              "      <td>0</td>\n",
              "      <td>1</td>\n",
              "      <td>1</td>\n",
              "      <td>0</td>\n",
              "      <td>0</td>\n",
              "      <td>0</td>\n",
              "    </tr>\n",
              "    <tr>\n",
              "      <th>889</th>\n",
              "      <td>1</td>\n",
              "      <td>1</td>\n",
              "      <td>0</td>\n",
              "      <td>0</td>\n",
              "      <td>1</td>\n",
              "      <td>1</td>\n",
              "      <td>0</td>\n",
              "      <td>0</td>\n",
              "      <td>0</td>\n",
              "      <td>0</td>\n",
              "      <td>0</td>\n",
              "      <td>1</td>\n",
              "      <td>0</td>\n",
              "      <td>0</td>\n",
              "      <td>1</td>\n",
              "      <td>0</td>\n",
              "      <td>0</td>\n",
              "      <td>0</td>\n",
              "      <td>0</td>\n",
              "      <td>0</td>\n",
              "      <td>0</td>\n",
              "      <td>1</td>\n",
              "      <td>0</td>\n",
              "      <td>0</td>\n",
              "      <td>1</td>\n",
              "      <td>0</td>\n",
              "      <td>0</td>\n",
              "      <td>0</td>\n",
              "      <td>0</td>\n",
              "      <td>1</td>\n",
              "      <td>0</td>\n",
              "      <td>0</td>\n",
              "      <td>0</td>\n",
              "      <td>1</td>\n",
              "      <td>0</td>\n",
              "      <td>0</td>\n",
              "      <td>0</td>\n",
              "      <td>0</td>\n",
              "      <td>1</td>\n",
              "      <td>0</td>\n",
              "    </tr>\n",
              "    <tr>\n",
              "      <th>890</th>\n",
              "      <td>0</td>\n",
              "      <td>1</td>\n",
              "      <td>0</td>\n",
              "      <td>0</td>\n",
              "      <td>1</td>\n",
              "      <td>0</td>\n",
              "      <td>1</td>\n",
              "      <td>0</td>\n",
              "      <td>0</td>\n",
              "      <td>0</td>\n",
              "      <td>0</td>\n",
              "      <td>0</td>\n",
              "      <td>1</td>\n",
              "      <td>0</td>\n",
              "      <td>1</td>\n",
              "      <td>0</td>\n",
              "      <td>0</td>\n",
              "      <td>0</td>\n",
              "      <td>1</td>\n",
              "      <td>0</td>\n",
              "      <td>0</td>\n",
              "      <td>0</td>\n",
              "      <td>0</td>\n",
              "      <td>0</td>\n",
              "      <td>1</td>\n",
              "      <td>0</td>\n",
              "      <td>0</td>\n",
              "      <td>0</td>\n",
              "      <td>0</td>\n",
              "      <td>0</td>\n",
              "      <td>0</td>\n",
              "      <td>1</td>\n",
              "      <td>0</td>\n",
              "      <td>0</td>\n",
              "      <td>0</td>\n",
              "      <td>1</td>\n",
              "      <td>1</td>\n",
              "      <td>0</td>\n",
              "      <td>0</td>\n",
              "      <td>0</td>\n",
              "    </tr>\n",
              "  </tbody>\n",
              "</table>\n",
              "<p>891 rows × 40 columns</p>\n",
              "</div>"
            ],
            "text/plain": [
              "     Survived  Alone  NotAlone  ...  Fare/per_1  Fare/per_3  Fare/per_4\n",
              "0           0      0         1  ...           0           0           0\n",
              "1           1      0         1  ...           1           0           0\n",
              "2           1      1         0  ...           0           0           0\n",
              "3           1      0         1  ...           1           0           0\n",
              "4           0      1         0  ...           1           0           0\n",
              "..        ...    ...       ...  ...         ...         ...         ...\n",
              "886         0      1         0  ...           1           0           0\n",
              "887         1      1         0  ...           0           1           0\n",
              "888         0      0         1  ...           0           0           0\n",
              "889         1      1         0  ...           0           1           0\n",
              "890         0      1         0  ...           0           0           0\n",
              "\n",
              "[891 rows x 40 columns]"
            ]
          },
          "metadata": {
            "tags": []
          },
          "execution_count": 207
        }
      ]
    },
    {
      "cell_type": "code",
      "metadata": {
        "id": "0bxMIicXRpbi"
      },
      "source": [
        "X = df2.drop('Survived',axis=1)\n",
        "Y = df2.Survived"
      ],
      "execution_count": null,
      "outputs": []
    },
    {
      "cell_type": "markdown",
      "metadata": {
        "id": "QveBIMRMDOej"
      },
      "source": [
        "## Sampling instead of train_test_split()"
      ]
    },
    {
      "cell_type": "code",
      "metadata": {
        "id": "n8re9G0WUmDP"
      },
      "source": [
        "X_tr = df2.sample(frac=0.7)\n",
        "X_va = df2.loc[~df2.index.isin(X_tr.index),:]"
      ],
      "execution_count": null,
      "outputs": []
    },
    {
      "cell_type": "code",
      "metadata": {
        "id": "j_CUhmyuU5zg"
      },
      "source": [
        "x_tr = X_tr.drop('Survived',axis=1)\n",
        "y_tr = X_tr.Survived\n",
        "\n",
        "x_val = X_va.drop('Survived',axis=1)\n",
        "y_val = X_va.Survived"
      ],
      "execution_count": null,
      "outputs": []
    },
    {
      "cell_type": "code",
      "metadata": {
        "id": "cCYIVaobSGWt"
      },
      "source": [
        ""
      ],
      "execution_count": null,
      "outputs": []
    },
    {
      "cell_type": "code",
      "metadata": {
        "colab": {
          "base_uri": "https://localhost:8080/"
        },
        "id": "nCWSpZCTVgfm",
        "outputId": "0a645a3b-0c80-4ba1-b831-bbf7e1f37f7e"
      },
      "source": [
        "x_tr.shape"
      ],
      "execution_count": null,
      "outputs": [
        {
          "output_type": "execute_result",
          "data": {
            "text/plain": [
              "(624, 39)"
            ]
          },
          "metadata": {
            "tags": []
          },
          "execution_count": 211
        }
      ]
    },
    {
      "cell_type": "code",
      "metadata": {
        "colab": {
          "base_uri": "https://localhost:8080/"
        },
        "id": "6ZlWRUhLVia6",
        "outputId": "5cb8d378-9a02-4238-d0c7-1e4d64229458"
      },
      "source": [
        "x_val.shape"
      ],
      "execution_count": null,
      "outputs": [
        {
          "output_type": "execute_result",
          "data": {
            "text/plain": [
              "(267, 39)"
            ]
          },
          "metadata": {
            "tags": []
          },
          "execution_count": 212
        }
      ]
    },
    {
      "cell_type": "markdown",
      "metadata": {
        "id": "0RegssmvDGlf"
      },
      "source": [
        "## Logistic Regression"
      ]
    },
    {
      "cell_type": "code",
      "metadata": {
        "colab": {
          "base_uri": "https://localhost:8080/"
        },
        "id": "RlLT08F7VlC_",
        "outputId": "35b40a9f-09a1-47b2-a21b-ad10dc381d1f"
      },
      "source": [
        "from sklearn.linear_model import LogisticRegression\n",
        "from sklearn.metrics import accuracy_score\n",
        "\n",
        "model = LogisticRegression()\n",
        "model.fit(x_tr,y_tr)"
      ],
      "execution_count": null,
      "outputs": [
        {
          "output_type": "execute_result",
          "data": {
            "text/plain": [
              "LogisticRegression(C=1.0, class_weight=None, dual=False, fit_intercept=True,\n",
              "                   intercept_scaling=1, l1_ratio=None, max_iter=100,\n",
              "                   multi_class='auto', n_jobs=None, penalty='l2',\n",
              "                   random_state=None, solver='lbfgs', tol=0.0001, verbose=0,\n",
              "                   warm_start=False)"
            ]
          },
          "metadata": {
            "tags": []
          },
          "execution_count": 213
        }
      ]
    },
    {
      "cell_type": "code",
      "metadata": {
        "id": "Lv9xxVRoWl9X"
      },
      "source": [
        "pred_val = model.predict(x_val)\n",
        "accuracy = accuracy_score(y_val,pred_val)"
      ],
      "execution_count": null,
      "outputs": []
    },
    {
      "cell_type": "code",
      "metadata": {
        "colab": {
          "base_uri": "https://localhost:8080/"
        },
        "id": "5tvjHtgzX6Hp",
        "outputId": "09ce6ab1-9ad5-4315-929d-73d3bda86c05"
      },
      "source": [
        "accuracy #Validation Accuracy"
      ],
      "execution_count": null,
      "outputs": [
        {
          "output_type": "execute_result",
          "data": {
            "text/plain": [
              "0.8277153558052435"
            ]
          },
          "metadata": {
            "tags": []
          },
          "execution_count": 215
        }
      ]
    },
    {
      "cell_type": "code",
      "metadata": {
        "colab": {
          "base_uri": "https://localhost:8080/"
        },
        "id": "JhOz9dEImf5x",
        "outputId": "d6d30947-381b-41cd-e165-75dc4b77c952"
      },
      "source": [
        "accuracyt = accuracy_score(y_tr,model.predict(x_tr))\n",
        "accuracyt #Training Accuracy"
      ],
      "execution_count": null,
      "outputs": [
        {
          "output_type": "execute_result",
          "data": {
            "text/plain": [
              "0.8397435897435898"
            ]
          },
          "metadata": {
            "tags": []
          },
          "execution_count": 216
        }
      ]
    },
    {
      "cell_type": "code",
      "metadata": {
        "id": "TxG_c_UuX7sx"
      },
      "source": [
        "from sklearn.metrics import f1_score, precision_score\n",
        "fi = f1_score(y_val,pred_val)\n",
        "prec = precision_score(y_val,pred_val)"
      ],
      "execution_count": null,
      "outputs": []
    },
    {
      "cell_type": "code",
      "metadata": {
        "colab": {
          "base_uri": "https://localhost:8080/"
        },
        "id": "UY13_X14YnnE",
        "outputId": "96026566-3610-49cc-a580-0d9db01134b9"
      },
      "source": [
        "fi"
      ],
      "execution_count": null,
      "outputs": [
        {
          "output_type": "execute_result",
          "data": {
            "text/plain": [
              "0.7676767676767677"
            ]
          },
          "metadata": {
            "tags": []
          },
          "execution_count": 218
        }
      ]
    },
    {
      "cell_type": "code",
      "metadata": {
        "colab": {
          "base_uri": "https://localhost:8080/"
        },
        "id": "WwI_JxC0Yoz7",
        "outputId": "c3dc91a6-6551-45a2-dcd3-1bc62c2a3e18"
      },
      "source": [
        "prec"
      ],
      "execution_count": null,
      "outputs": [
        {
          "output_type": "execute_result",
          "data": {
            "text/plain": [
              "0.8172043010752689"
            ]
          },
          "metadata": {
            "tags": []
          },
          "execution_count": 219
        }
      ]
    },
    {
      "cell_type": "markdown",
      "metadata": {
        "id": "B5KDppTTC6Wi"
      },
      "source": [
        "## Random Forest"
      ]
    },
    {
      "cell_type": "code",
      "metadata": {
        "colab": {
          "base_uri": "https://localhost:8080/"
        },
        "id": "TMxdzi2bY8E9",
        "outputId": "9d6fef71-72c1-42be-f463-1efaa9e2062e"
      },
      "source": [
        "from sklearn.ensemble import RandomForestClassifier\n",
        "modelr = RandomForestClassifier(max_depth=7, n_estimators=71,max_leaf_nodes = 22)\n",
        "modelr.fit(x_tr,y_tr)\n",
        "pred_val = modelr.predict(x_val)\n",
        "accuracy = accuracy_score(y_val,pred_val)\n",
        "accuracy"
      ],
      "execution_count": null,
      "outputs": [
        {
          "output_type": "execute_result",
          "data": {
            "text/plain": [
              "0.8426966292134831"
            ]
          },
          "metadata": {
            "tags": []
          },
          "execution_count": 220
        }
      ]
    },
    {
      "cell_type": "code",
      "metadata": {
        "colab": {
          "base_uri": "https://localhost:8080/"
        },
        "id": "lRYqVGSumVJJ",
        "outputId": "52dca4cb-460c-4797-86bc-7d15543ec7f3"
      },
      "source": [
        "accuracyt = accuracy_score(y_tr,modelr.predict(x_tr))\n",
        "accuracyt"
      ],
      "execution_count": null,
      "outputs": [
        {
          "output_type": "execute_result",
          "data": {
            "text/plain": [
              "0.8557692307692307"
            ]
          },
          "metadata": {
            "tags": []
          },
          "execution_count": 221
        }
      ]
    },
    {
      "cell_type": "markdown",
      "metadata": {
        "id": "AFsh8WVeC1zP"
      },
      "source": [
        "## Gradient Boosting "
      ]
    },
    {
      "cell_type": "code",
      "metadata": {
        "colab": {
          "base_uri": "https://localhost:8080/"
        },
        "id": "W8_WLSPVjUTx",
        "outputId": "d89cc2ad-171b-4597-fe55-9b023d83d58f"
      },
      "source": [
        "from sklearn.ensemble import GradientBoostingClassifier\n",
        "modelg = GradientBoostingClassifier()\n",
        "modelg.fit(x_tr,y_tr)\n",
        "pred_val = modelg.predict(x_val)\n",
        "accuracy = accuracy_score(y_val,pred_val)\n",
        "print('Validation-',accuracy)\n",
        "accuracyt = accuracy_score(y_tr,modelg.predict(x_tr))\n",
        "print('Training-',accuracyt)"
      ],
      "execution_count": null,
      "outputs": [
        {
          "output_type": "stream",
          "text": [
            "Validation- 0.8239700374531835\n",
            "Training- 0.8669871794871795\n"
          ],
          "name": "stdout"
        }
      ]
    },
    {
      "cell_type": "code",
      "metadata": {
        "id": "2pW3-lkvykqV"
      },
      "source": [
        "predRan = modelr.predict(dft2)\n",
        "df_submitR = pd.read_csv('gender_submission.csv')\n",
        "df_submitR['PassengerId'] = df_test['PassengerId']\n",
        "df_submitR['Survived']    = predRan\n",
        "pd.DataFrame(df_submitR,columns=['PassengerId','Survived']).to_csv('gender_submission37.csv')\n"
      ],
      "execution_count": null,
      "outputs": []
    },
    {
      "cell_type": "markdown",
      "metadata": {
        "id": "s7NOSk3_Cvjs"
      },
      "source": [
        "## GRID search for Random Forest"
      ]
    },
    {
      "cell_type": "code",
      "metadata": {
        "id": "hJoMdy54buOT"
      },
      "source": [
        "from sklearn.model_selection import train_test_split"
      ],
      "execution_count": null,
      "outputs": []
    },
    {
      "cell_type": "code",
      "metadata": {
        "colab": {
          "base_uri": "https://localhost:8080/"
        },
        "id": "jRmKqw8UZm9m",
        "outputId": "4c72b3d4-830c-4fe4-e4a6-6fc980c3118e"
      },
      "source": [
        "from sklearn.model_selection import GridSearchCV\n",
        "paramgrid = {'max_depth' : list(range(1,20,2)),'n_estimators' : list(range(1,250,10)),'max_leaf_nodes':list(range(2,26,2))}\n",
        "gridsearch = GridSearchCV(RandomForestClassifier(random_state=1),paramgrid)\n",
        "\n",
        "x_trg,x_valg,y_trg,y_valg=train_test_split(X,Y,test_size =.30,random_state=1)\n",
        "gridsearch.fit(x_trg,y_trg)"
      ],
      "execution_count": null,
      "outputs": [
        {
          "output_type": "execute_result",
          "data": {
            "text/plain": [
              "GridSearchCV(cv=None, error_score=nan,\n",
              "             estimator=RandomForestClassifier(bootstrap=True, ccp_alpha=0.0,\n",
              "                                              class_weight=None,\n",
              "                                              criterion='gini', max_depth=None,\n",
              "                                              max_features='auto',\n",
              "                                              max_leaf_nodes=None,\n",
              "                                              max_samples=None,\n",
              "                                              min_impurity_decrease=0.0,\n",
              "                                              min_impurity_split=None,\n",
              "                                              min_samples_leaf=1,\n",
              "                                              min_samples_split=2,\n",
              "                                              min_weight_fraction_leaf=0.0,\n",
              "                                              n_estimators=100, n_jobs=None,\n",
              "                                              oob_score=False, random_state=1,\n",
              "                                              verbose=0, warm_start=False),\n",
              "             iid='deprecated', n_jobs=None,\n",
              "             param_grid={'max_depth': [1, 3, 5, 7, 9, 11, 13, 15, 17, 19],\n",
              "                         'max_leaf_nodes': [2, 4, 6, 8, 10, 12, 14, 16, 18, 20,\n",
              "                                            22, 24],\n",
              "                         'n_estimators': [1, 11, 21, 31, 41, 51, 61, 71, 81, 91,\n",
              "                                          101, 111, 121, 131, 141, 151, 161,\n",
              "                                          171, 181, 191, 201, 211, 221, 231,\n",
              "                                          241]},\n",
              "             pre_dispatch='2*n_jobs', refit=True, return_train_score=False,\n",
              "             scoring=None, verbose=0)"
            ]
          },
          "metadata": {
            "tags": []
          },
          "execution_count": 142
        }
      ]
    },
    {
      "cell_type": "code",
      "metadata": {
        "colab": {
          "base_uri": "https://localhost:8080/"
        },
        "id": "zhxPnhl0bZa4",
        "outputId": "9b87a6d9-0bb6-4aa9-f5b7-71eed701e578"
      },
      "source": [
        "gridsearch.best_estimator_"
      ],
      "execution_count": null,
      "outputs": [
        {
          "output_type": "execute_result",
          "data": {
            "text/plain": [
              "RandomForestClassifier(bootstrap=True, ccp_alpha=0.0, class_weight=None,\n",
              "                       criterion='gini', max_depth=7, max_features='auto',\n",
              "                       max_leaf_nodes=22, max_samples=None,\n",
              "                       min_impurity_decrease=0.0, min_impurity_split=None,\n",
              "                       min_samples_leaf=1, min_samples_split=2,\n",
              "                       min_weight_fraction_leaf=0.0, n_estimators=71,\n",
              "                       n_jobs=None, oob_score=False, random_state=1, verbose=0,\n",
              "                       warm_start=False)"
            ]
          },
          "metadata": {
            "tags": []
          },
          "execution_count": 143
        }
      ]
    },
    {
      "cell_type": "markdown",
      "metadata": {
        "id": "kKW9GpUjCls0"
      },
      "source": [
        "## Light GB"
      ]
    },
    {
      "cell_type": "code",
      "metadata": {
        "colab": {
          "base_uri": "https://localhost:8080/"
        },
        "id": "FgEqCY9jedUL",
        "outputId": "d408fa21-7c42-4a5d-e6a9-3f6169cd64b7"
      },
      "source": [
        "#Lgb\n",
        "import lightgbm as lgb\n",
        "\n",
        "param = {'num_leaves':150, 'objective':'binary','max_depth':7,'learning_rate':.05,'max_bin':200}\n",
        "param['metric'] = ['auc','binary_logloss']\n",
        "num_round=50\n",
        "train_data = lgb.Dataset(x_tr,label=y_tr)\n",
        "lgbm = lgb.train(param,train_data,num_round)\n",
        "y_predval = lgbm.predict(x_val)\n",
        "y_predval_tr = lgbm.predict(x_tr)\n",
        "    \n",
        "for i in range(len(y_predval)):\n",
        "  if y_predval[i]>.5:\n",
        "    y_predval[i]=1\n",
        "  else:\n",
        "    y_predval[i]=0\n",
        "\n",
        "accuracy_lgbm = accuracy_score(y_val, y_predval)\n",
        "\n",
        "print(' Accuracy-- ',accuracy_lgbm)\n",
        "  \n",
        "for i in range(len(y_predval_tr)):\n",
        "  if y_predval_tr[i]>.5:\n",
        "    y_predval_tr[i]=1\n",
        "  else:\n",
        "    y_predval_tr[i]=0\n",
        "\n",
        "accuracy_lgbm_tr = accuracy_score(y_tr, y_predval_tr)\n",
        "print('AccuracyT--',accuracy_lgbm_tr)"
      ],
      "execution_count": null,
      "outputs": [
        {
          "output_type": "stream",
          "text": [
            " Accuracy--  0.8352059925093633\n",
            "AccuracyT-- 0.8509615384615384\n"
          ],
          "name": "stdout"
        }
      ]
    },
    {
      "cell_type": "markdown",
      "metadata": {
        "id": "MVKv_BsXCiBA"
      },
      "source": [
        "## MLP Classifier"
      ]
    },
    {
      "cell_type": "code",
      "metadata": {
        "colab": {
          "base_uri": "https://localhost:8080/"
        },
        "id": "kwXLFmZIrlY_",
        "outputId": "da40da95-e231-4237-e74e-3e775e04fdf1"
      },
      "source": [
        "from sklearn.neural_network import MLPClassifier\n",
        "mlp = MLPClassifier(hidden_layer_sizes=(500,280,120),alpha=0.000,batch_size = 64,early_stopping=True)\n",
        "mlp.fit(x_tr,y_tr)"
      ],
      "execution_count": null,
      "outputs": [
        {
          "output_type": "execute_result",
          "data": {
            "text/plain": [
              "MLPClassifier(activation='relu', alpha=0.0, batch_size=64, beta_1=0.9,\n",
              "              beta_2=0.999, early_stopping=True, epsilon=1e-08,\n",
              "              hidden_layer_sizes=(500, 280, 120), learning_rate='constant',\n",
              "              learning_rate_init=0.001, max_fun=15000, max_iter=200,\n",
              "              momentum=0.9, n_iter_no_change=10, nesterovs_momentum=True,\n",
              "              power_t=0.5, random_state=None, shuffle=True, solver='adam',\n",
              "              tol=0.0001, validation_fraction=0.1, verbose=False,\n",
              "              warm_start=False)"
            ]
          },
          "metadata": {
            "tags": []
          },
          "execution_count": 125
        }
      ]
    },
    {
      "cell_type": "code",
      "metadata": {
        "id": "Jkh9EONJwTMR"
      },
      "source": [
        "predmlp = mlp.predict(x_val)\n",
        "predtrain = mlp.predict(x_tr)"
      ],
      "execution_count": null,
      "outputs": []
    },
    {
      "cell_type": "code",
      "metadata": {
        "colab": {
          "base_uri": "https://localhost:8080/"
        },
        "id": "61Hs6AFgwe0l",
        "outputId": "146db82f-cde5-4426-8746-65681d980e85"
      },
      "source": [
        "accuracy = accuracy_score(y_val,predmlp)\n",
        "accuracy"
      ],
      "execution_count": null,
      "outputs": [
        {
          "output_type": "execute_result",
          "data": {
            "text/plain": [
              "0.8277153558052435"
            ]
          },
          "metadata": {
            "tags": []
          },
          "execution_count": 127
        }
      ]
    },
    {
      "cell_type": "code",
      "metadata": {
        "colab": {
          "base_uri": "https://localhost:8080/"
        },
        "id": "E8EgCvc-wmkB",
        "outputId": "4128f961-adbf-449b-c2c5-cd1f70f64a2a"
      },
      "source": [
        "accuracyt = accuracy_score(predtrain,y_tr)\n",
        "accuracyt"
      ],
      "execution_count": null,
      "outputs": [
        {
          "output_type": "execute_result",
          "data": {
            "text/plain": [
              "0.8733974358974359"
            ]
          },
          "metadata": {
            "tags": []
          },
          "execution_count": 128
        }
      ]
    },
    {
      "cell_type": "markdown",
      "metadata": {
        "id": "E7TmZ5p7CdR_"
      },
      "source": [
        "## Stratified MLP"
      ]
    },
    {
      "cell_type": "code",
      "metadata": {
        "colab": {
          "base_uri": "https://localhost:8080/"
        },
        "id": "9AIr9BkmyAjg",
        "outputId": "c71df216-045b-4973-d74c-ca8317bda9e8"
      },
      "source": [
        "from sklearn.model_selection import StratifiedKFold\n",
        "\n",
        "i=0\n",
        "kf = StratifiedKFold(n_splits=5,random_state=1,shuffle = True)\n",
        "models =[]\n",
        "for train_index, test_index in kf.split(X,Y):\n",
        "    print('\\n{} of kfold {}'.format(i,kf.n_splits))\n",
        "    \n",
        "    x_tr , x_va = X.loc[train_index],X.loc[test_index]\n",
        "    y_tr , y_va = Y.loc[train_index],Y.loc[test_index]\n",
        "    model = MLPClassifier(hidden_layer_sizes=(500,280,140),alpha=0.000,random_state=22,batch_size = 64,early_stopping=True)\n",
        "    model.fit(x_tr,y_tr)\n",
        "    pred_va = model.predict(x_va)\n",
        "    accuracy = accuracy_score(y_va,pred_va)\n",
        "    print(' Accuracy-- ',accuracy)\n",
        "    pred_tr = model.predict(x_tr)\n",
        "    accuracyt = accuracy_score(y_tr,pred_tr)\n",
        "    print(' AccuracyT-- ',accuracyt)\n",
        "    i+=1\n",
        "    models.append(model)\n",
        "    pred = model.predict_proba(x_va)[:,1]\n",
        "    print(x_tr.shape)"
      ],
      "execution_count": null,
      "outputs": [
        {
          "output_type": "stream",
          "text": [
            "\n",
            "0 of kfold 5\n",
            " Accuracy--  0.7821229050279329\n",
            " AccuracyT--  0.8918539325842697\n",
            "(712, 39)\n",
            "\n",
            "1 of kfold 5\n",
            " Accuracy--  0.848314606741573\n",
            " AccuracyT--  0.879382889200561\n",
            "(713, 39)\n",
            "\n",
            "2 of kfold 5\n",
            " Accuracy--  0.797752808988764\n",
            " AccuracyT--  0.8541374474053296\n",
            "(713, 39)\n",
            "\n",
            "3 of kfold 5\n",
            " Accuracy--  0.797752808988764\n",
            " AccuracyT--  0.8499298737727911\n",
            "(713, 39)\n",
            "\n",
            "4 of kfold 5\n",
            " Accuracy--  0.8426966292134831\n",
            " AccuracyT--  0.8499298737727911\n",
            "(713, 39)\n"
          ],
          "name": "stdout"
        }
      ]
    },
    {
      "cell_type": "markdown",
      "metadata": {
        "id": "euhLCUEhCWPo"
      },
      "source": [
        "## Stratified Logistic Regression"
      ]
    },
    {
      "cell_type": "code",
      "metadata": {
        "colab": {
          "base_uri": "https://localhost:8080/"
        },
        "id": "bDtzWrBcVNE4",
        "outputId": "3eefe30d-af0d-4a39-a7f3-b49ca7d7ecfc"
      },
      "source": [
        "i=0\n",
        "kf = StratifiedKFold(n_splits=5,random_state=1,shuffle = True)\n",
        "models =[]\n",
        "for train_index, test_index in kf.split(X,Y):\n",
        "    print('\\n{} of kfold {}'.format(i,kf.n_splits))\n",
        "    \n",
        "    x_tr , x_va = X.loc[train_index],X.loc[test_index]\n",
        "    y_tr , y_va = Y.loc[train_index],Y.loc[test_index]\n",
        "    model = LogisticRegression()\n",
        "    model.fit(x_tr,y_tr)\n",
        "    pred_val = model.predict(x_va)\n",
        "    accuracy = accuracy_score(y_va,pred_val)\n",
        "    print(' Accuracy-- ',accuracy)\n",
        "    pred_tr = model.predict(x_tr)\n",
        "    accuracyt = accuracy_score(y_tr,pred_tr)\n",
        "    print(' AccuracyT-- ',accuracyt)\n",
        "    i+=1\n",
        "    models.append(model)"
      ],
      "execution_count": null,
      "outputs": [
        {
          "output_type": "stream",
          "text": [
            "\n",
            "0 of kfold 5\n",
            " Accuracy--  0.8044692737430168\n",
            " AccuracyT--  0.8384831460674157\n",
            "\n",
            "1 of kfold 5\n",
            " Accuracy--  0.8202247191011236\n",
            " AccuracyT--  0.8373071528751753\n",
            "\n",
            "2 of kfold 5\n",
            " Accuracy--  0.8089887640449438\n",
            " AccuracyT--  0.8345021037868162\n",
            "\n",
            "3 of kfold 5\n",
            " Accuracy--  0.7865168539325843\n",
            " AccuracyT--  0.8401122019635343\n",
            "\n",
            "4 of kfold 5\n",
            " Accuracy--  0.8764044943820225\n",
            " AccuracyT--  0.8260869565217391\n"
          ],
          "name": "stdout"
        }
      ]
    },
    {
      "cell_type": "markdown",
      "metadata": {
        "id": "QtSBmnpvCOSH"
      },
      "source": [
        "#SGD"
      ]
    },
    {
      "cell_type": "code",
      "metadata": {
        "colab": {
          "base_uri": "https://localhost:8080/"
        },
        "id": "AimVxz8DtADM",
        "outputId": "3c8195b8-d428-4758-b752-afc4f4ab6b11"
      },
      "source": [
        "from sklearn.linear_model import SGDClassifier\n",
        "sgd = SGDClassifier(max_iter=5, tol=None)\n",
        "sgd.fit(x_tr, y_tr)\n",
        "Y_pred = sgd.predict(x_val)\n",
        "\n",
        "sgd.score(x_tr, y_tr)"
      ],
      "execution_count": null,
      "outputs": [
        {
          "output_type": "execute_result",
          "data": {
            "text/plain": [
              "0.5427769985974754"
            ]
          },
          "metadata": {
            "tags": []
          },
          "execution_count": 132
        }
      ]
    },
    {
      "cell_type": "code",
      "metadata": {
        "colab": {
          "base_uri": "https://localhost:8080/"
        },
        "id": "niVhM4q2tmdI",
        "outputId": "3e74946d-c3cd-458d-a989-a06498805915"
      },
      "source": [
        "accuracy = accuracy_score(Y_pred,y_val)\n",
        "accuracy"
      ],
      "execution_count": null,
      "outputs": [
        {
          "output_type": "execute_result",
          "data": {
            "text/plain": [
              "0.5767790262172284"
            ]
          },
          "metadata": {
            "tags": []
          },
          "execution_count": 133
        }
      ]
    },
    {
      "cell_type": "markdown",
      "metadata": {
        "id": "mxsMuk19CHHf"
      },
      "source": [
        "## STRATIFIED RANDOM FORWST"
      ]
    },
    {
      "cell_type": "code",
      "metadata": {
        "colab": {
          "base_uri": "https://localhost:8080/"
        },
        "id": "cVL_Ynyry2w-",
        "outputId": "46bd6ed3-67dc-46b5-aefc-c3b4024236ee"
      },
      "source": [
        "i=1\n",
        "kf = StratifiedKFold(n_splits=5,random_state=1,shuffle = True)\n",
        "modelsR = []\n",
        "for train_index, test_index in kf.split(X,Y):\n",
        "    print('\\n{} of kfold {}'.format(i,kf.n_splits))\n",
        "    \n",
        "    x_tr , x_va = X.loc[train_index],X.loc[test_index]\n",
        "    y_tr , y_va = Y.loc[train_index],Y.loc[test_index]\n",
        "    model = RandomForestClassifier(max_depth=7, n_estimators=21,max_leaf_nodes = 22, random_state=1)\n",
        "    model.fit(x_tr,y_tr)\n",
        "    pred_va = model.predict(x_va)\n",
        "    accuracy = accuracy_score(y_va,pred_va)\n",
        "    print(' Accuracy-- ',accuracy)\n",
        "    pred_tr = model.predict(x_tr)\n",
        "    accuracyt = accuracy_score(y_tr,pred_tr)\n",
        "    print(' AccuracyT-- ',accuracyt)\n",
        "    i+=1\n",
        "    modelsR.append(model)\n",
        "    pred = model.predict_proba(x_va)[:,1]\n",
        "    print(x_tr.shape)"
      ],
      "execution_count": null,
      "outputs": [
        {
          "output_type": "stream",
          "text": [
            "\n",
            "1 of kfold 5\n",
            " Accuracy--  0.8212290502793296\n",
            " AccuracyT--  0.8651685393258427\n",
            "(712, 39)\n",
            "\n",
            "2 of kfold 5\n",
            " Accuracy--  0.8426966292134831\n",
            " AccuracyT--  0.8583450210378681\n",
            "(713, 39)\n",
            "\n",
            "3 of kfold 5\n",
            " Accuracy--  0.8033707865168539\n",
            " AccuracyT--  0.8625525946704067\n",
            "(713, 39)\n",
            "\n",
            "4 of kfold 5\n",
            " Accuracy--  0.8089887640449438\n",
            " AccuracyT--  0.8597475455820477\n",
            "(713, 39)\n",
            "\n",
            "5 of kfold 5\n",
            " Accuracy--  0.8595505617977528\n",
            " AccuracyT--  0.8513323983169705\n",
            "(713, 39)\n"
          ],
          "name": "stdout"
        }
      ]
    },
    {
      "cell_type": "markdown",
      "metadata": {
        "id": "5Qib6ql6CCIC"
      },
      "source": [
        "## DENSE LAYERS"
      ]
    },
    {
      "cell_type": "code",
      "metadata": {
        "id": "ijS7byncNosG"
      },
      "source": [
        "import keras\n",
        "from keras.models import Sequential\n",
        "from keras.layers import Dense, Dropout\n",
        "modelk = Sequential()\n",
        "modelk.add(Dense(120, kernel_initializer = 'uniform', activation = 'relu', input_dim = 39))\n",
        "modelk.add(Dropout(0.6))\n",
        "modelk.add(Dense(60, kernel_initializer = 'uniform', activation = 'relu'))\n",
        "modelk.add(Dropout(0.6))\n",
        "modelk.add(Dense(15, kernel_initializer = 'uniform', activation = 'relu'))\n",
        "modelk.add(Dropout(0.6))\n",
        "modelk.add(Dense(1, kernel_initializer = 'uniform', activation = 'sigmoid'))"
      ],
      "execution_count": null,
      "outputs": []
    },
    {
      "cell_type": "code",
      "metadata": {
        "id": "6zqRtWJgSYp0"
      },
      "source": [
        ""
      ],
      "execution_count": null,
      "outputs": []
    },
    {
      "cell_type": "code",
      "metadata": {
        "id": "KZlerHYFQ2Ly"
      },
      "source": [
        "modelk.compile(optimizer = 'adam', loss = 'binary_crossentropy', metrics = ['accuracy'])\n"
      ],
      "execution_count": null,
      "outputs": []
    },
    {
      "cell_type": "code",
      "metadata": {
        "colab": {
          "base_uri": "https://localhost:8080/"
        },
        "id": "SD4ixRthRA7o",
        "outputId": "7379eed1-91a5-446b-ad41-1a8a9140065b"
      },
      "source": [
        "modelk.fit(x_tr, y_tr, batch_size = 32, epochs = 200)"
      ],
      "execution_count": null,
      "outputs": [
        {
          "output_type": "stream",
          "text": [
            "Epoch 1/200\n",
            "23/23 [==============================] - 0s 3ms/step - loss: 0.6915 - accuracy: 0.6171\n",
            "Epoch 2/200\n",
            "23/23 [==============================] - 0s 2ms/step - loss: 0.6819 - accuracy: 0.6171\n",
            "Epoch 3/200\n",
            "23/23 [==============================] - 0s 3ms/step - loss: 0.6296 - accuracy: 0.6171\n",
            "Epoch 4/200\n",
            "23/23 [==============================] - 0s 2ms/step - loss: 0.5722 - accuracy: 0.6564\n",
            "Epoch 5/200\n",
            "23/23 [==============================] - 0s 2ms/step - loss: 0.5392 - accuracy: 0.7658\n",
            "Epoch 6/200\n",
            "23/23 [==============================] - 0s 3ms/step - loss: 0.5219 - accuracy: 0.7868\n",
            "Epoch 7/200\n",
            "23/23 [==============================] - 0s 2ms/step - loss: 0.5062 - accuracy: 0.7714\n",
            "Epoch 8/200\n",
            "23/23 [==============================] - 0s 2ms/step - loss: 0.4710 - accuracy: 0.7910\n",
            "Epoch 9/200\n",
            "23/23 [==============================] - 0s 2ms/step - loss: 0.4800 - accuracy: 0.7938\n",
            "Epoch 10/200\n",
            "23/23 [==============================] - 0s 2ms/step - loss: 0.4665 - accuracy: 0.7980\n",
            "Epoch 11/200\n",
            "23/23 [==============================] - 0s 2ms/step - loss: 0.4809 - accuracy: 0.7994\n",
            "Epoch 12/200\n",
            "23/23 [==============================] - 0s 2ms/step - loss: 0.4635 - accuracy: 0.8107\n",
            "Epoch 13/200\n",
            "23/23 [==============================] - 0s 2ms/step - loss: 0.4629 - accuracy: 0.8022\n",
            "Epoch 14/200\n",
            "23/23 [==============================] - 0s 2ms/step - loss: 0.4557 - accuracy: 0.8149\n",
            "Epoch 15/200\n",
            "23/23 [==============================] - 0s 2ms/step - loss: 0.4680 - accuracy: 0.8079\n",
            "Epoch 16/200\n",
            "23/23 [==============================] - 0s 3ms/step - loss: 0.4622 - accuracy: 0.8261\n",
            "Epoch 17/200\n",
            "23/23 [==============================] - 0s 3ms/step - loss: 0.4668 - accuracy: 0.8289\n",
            "Epoch 18/200\n",
            "23/23 [==============================] - 0s 2ms/step - loss: 0.4461 - accuracy: 0.8107\n",
            "Epoch 19/200\n",
            "23/23 [==============================] - 0s 3ms/step - loss: 0.4543 - accuracy: 0.8177\n",
            "Epoch 20/200\n",
            "23/23 [==============================] - 0s 3ms/step - loss: 0.4359 - accuracy: 0.8191\n",
            "Epoch 21/200\n",
            "23/23 [==============================] - 0s 2ms/step - loss: 0.4219 - accuracy: 0.8345\n",
            "Epoch 22/200\n",
            "23/23 [==============================] - 0s 3ms/step - loss: 0.4590 - accuracy: 0.8177\n",
            "Epoch 23/200\n",
            "23/23 [==============================] - 0s 3ms/step - loss: 0.4395 - accuracy: 0.8261\n",
            "Epoch 24/200\n",
            "23/23 [==============================] - 0s 3ms/step - loss: 0.4252 - accuracy: 0.8233\n",
            "Epoch 25/200\n",
            "23/23 [==============================] - 0s 2ms/step - loss: 0.4602 - accuracy: 0.8036\n",
            "Epoch 26/200\n",
            "23/23 [==============================] - 0s 2ms/step - loss: 0.4317 - accuracy: 0.8191\n",
            "Epoch 27/200\n",
            "23/23 [==============================] - 0s 2ms/step - loss: 0.4136 - accuracy: 0.8317\n",
            "Epoch 28/200\n",
            "23/23 [==============================] - 0s 2ms/step - loss: 0.4481 - accuracy: 0.8233\n",
            "Epoch 29/200\n",
            "23/23 [==============================] - 0s 2ms/step - loss: 0.4404 - accuracy: 0.8345\n",
            "Epoch 30/200\n",
            "23/23 [==============================] - 0s 2ms/step - loss: 0.4352 - accuracy: 0.8303\n",
            "Epoch 31/200\n",
            "23/23 [==============================] - 0s 2ms/step - loss: 0.4472 - accuracy: 0.8373\n",
            "Epoch 32/200\n",
            "23/23 [==============================] - 0s 2ms/step - loss: 0.4351 - accuracy: 0.8079\n",
            "Epoch 33/200\n",
            "23/23 [==============================] - 0s 2ms/step - loss: 0.4321 - accuracy: 0.8457\n",
            "Epoch 34/200\n",
            "23/23 [==============================] - 0s 2ms/step - loss: 0.4076 - accuracy: 0.8303\n",
            "Epoch 35/200\n",
            "23/23 [==============================] - 0s 3ms/step - loss: 0.4223 - accuracy: 0.8359\n",
            "Epoch 36/200\n",
            "23/23 [==============================] - 0s 2ms/step - loss: 0.4321 - accuracy: 0.8303\n",
            "Epoch 37/200\n",
            "23/23 [==============================] - 0s 2ms/step - loss: 0.4405 - accuracy: 0.8205\n",
            "Epoch 38/200\n",
            "23/23 [==============================] - 0s 3ms/step - loss: 0.4217 - accuracy: 0.8275\n",
            "Epoch 39/200\n",
            "23/23 [==============================] - 0s 2ms/step - loss: 0.4184 - accuracy: 0.8261\n",
            "Epoch 40/200\n",
            "23/23 [==============================] - 0s 2ms/step - loss: 0.4187 - accuracy: 0.8345\n",
            "Epoch 41/200\n",
            "23/23 [==============================] - 0s 3ms/step - loss: 0.4076 - accuracy: 0.8373\n",
            "Epoch 42/200\n",
            "23/23 [==============================] - 0s 2ms/step - loss: 0.4251 - accuracy: 0.8289\n",
            "Epoch 43/200\n",
            "23/23 [==============================] - 0s 3ms/step - loss: 0.4242 - accuracy: 0.8247\n",
            "Epoch 44/200\n",
            "23/23 [==============================] - 0s 2ms/step - loss: 0.4256 - accuracy: 0.8303\n",
            "Epoch 45/200\n",
            "23/23 [==============================] - 0s 2ms/step - loss: 0.4211 - accuracy: 0.8429\n",
            "Epoch 46/200\n",
            "23/23 [==============================] - 0s 2ms/step - loss: 0.4144 - accuracy: 0.8233\n",
            "Epoch 47/200\n",
            "23/23 [==============================] - 0s 2ms/step - loss: 0.3997 - accuracy: 0.8457\n",
            "Epoch 48/200\n",
            "23/23 [==============================] - 0s 2ms/step - loss: 0.4062 - accuracy: 0.8429\n",
            "Epoch 49/200\n",
            "23/23 [==============================] - 0s 2ms/step - loss: 0.4014 - accuracy: 0.8275\n",
            "Epoch 50/200\n",
            "23/23 [==============================] - 0s 2ms/step - loss: 0.4108 - accuracy: 0.8457\n",
            "Epoch 51/200\n",
            "23/23 [==============================] - 0s 2ms/step - loss: 0.4076 - accuracy: 0.8429\n",
            "Epoch 52/200\n",
            "23/23 [==============================] - 0s 3ms/step - loss: 0.4170 - accuracy: 0.8317\n",
            "Epoch 53/200\n",
            "23/23 [==============================] - 0s 3ms/step - loss: 0.3895 - accuracy: 0.8359\n",
            "Epoch 54/200\n",
            "23/23 [==============================] - 0s 2ms/step - loss: 0.4195 - accuracy: 0.8359\n",
            "Epoch 55/200\n",
            "23/23 [==============================] - 0s 3ms/step - loss: 0.4079 - accuracy: 0.8443\n",
            "Epoch 56/200\n",
            "23/23 [==============================] - 0s 3ms/step - loss: 0.3835 - accuracy: 0.8471\n",
            "Epoch 57/200\n",
            "23/23 [==============================] - 0s 2ms/step - loss: 0.4128 - accuracy: 0.8345\n",
            "Epoch 58/200\n",
            "23/23 [==============================] - 0s 2ms/step - loss: 0.4069 - accuracy: 0.8527\n",
            "Epoch 59/200\n",
            "23/23 [==============================] - 0s 2ms/step - loss: 0.3905 - accuracy: 0.8471\n",
            "Epoch 60/200\n",
            "23/23 [==============================] - 0s 2ms/step - loss: 0.4054 - accuracy: 0.8373\n",
            "Epoch 61/200\n",
            "23/23 [==============================] - 0s 2ms/step - loss: 0.3983 - accuracy: 0.8499\n",
            "Epoch 62/200\n",
            "23/23 [==============================] - 0s 2ms/step - loss: 0.4122 - accuracy: 0.8471\n",
            "Epoch 63/200\n",
            "23/23 [==============================] - 0s 3ms/step - loss: 0.3722 - accuracy: 0.8583\n",
            "Epoch 64/200\n",
            "23/23 [==============================] - 0s 3ms/step - loss: 0.3692 - accuracy: 0.8443\n",
            "Epoch 65/200\n",
            "23/23 [==============================] - 0s 2ms/step - loss: 0.3909 - accuracy: 0.8401\n",
            "Epoch 66/200\n",
            "23/23 [==============================] - 0s 3ms/step - loss: 0.3821 - accuracy: 0.8471\n",
            "Epoch 67/200\n",
            "23/23 [==============================] - 0s 3ms/step - loss: 0.3890 - accuracy: 0.8471\n",
            "Epoch 68/200\n",
            "23/23 [==============================] - 0s 2ms/step - loss: 0.3800 - accuracy: 0.8513\n",
            "Epoch 69/200\n",
            "23/23 [==============================] - 0s 2ms/step - loss: 0.3751 - accuracy: 0.8527\n",
            "Epoch 70/200\n",
            "23/23 [==============================] - 0s 2ms/step - loss: 0.3853 - accuracy: 0.8541\n",
            "Epoch 71/200\n",
            "23/23 [==============================] - 0s 2ms/step - loss: 0.3858 - accuracy: 0.8471\n",
            "Epoch 72/200\n",
            "23/23 [==============================] - 0s 2ms/step - loss: 0.3980 - accuracy: 0.8513\n",
            "Epoch 73/200\n",
            "23/23 [==============================] - 0s 2ms/step - loss: 0.3820 - accuracy: 0.8583\n",
            "Epoch 74/200\n",
            "23/23 [==============================] - 0s 2ms/step - loss: 0.3803 - accuracy: 0.8513\n",
            "Epoch 75/200\n",
            "23/23 [==============================] - 0s 2ms/step - loss: 0.3950 - accuracy: 0.8457\n",
            "Epoch 76/200\n",
            "23/23 [==============================] - 0s 2ms/step - loss: 0.3892 - accuracy: 0.8513\n",
            "Epoch 77/200\n",
            "23/23 [==============================] - 0s 3ms/step - loss: 0.3769 - accuracy: 0.8499\n",
            "Epoch 78/200\n",
            "23/23 [==============================] - 0s 3ms/step - loss: 0.3839 - accuracy: 0.8541\n",
            "Epoch 79/200\n",
            "23/23 [==============================] - 0s 2ms/step - loss: 0.3681 - accuracy: 0.8457\n",
            "Epoch 80/200\n",
            "23/23 [==============================] - 0s 2ms/step - loss: 0.3868 - accuracy: 0.8471\n",
            "Epoch 81/200\n",
            "23/23 [==============================] - 0s 2ms/step - loss: 0.3718 - accuracy: 0.8597\n",
            "Epoch 82/200\n",
            "23/23 [==============================] - 0s 2ms/step - loss: 0.4025 - accuracy: 0.8373\n",
            "Epoch 83/200\n",
            "23/23 [==============================] - 0s 3ms/step - loss: 0.3607 - accuracy: 0.8640\n",
            "Epoch 84/200\n",
            "23/23 [==============================] - 0s 2ms/step - loss: 0.3628 - accuracy: 0.8387\n",
            "Epoch 85/200\n",
            "23/23 [==============================] - 0s 2ms/step - loss: 0.3624 - accuracy: 0.8668\n",
            "Epoch 86/200\n",
            "23/23 [==============================] - 0s 3ms/step - loss: 0.3506 - accuracy: 0.8499\n",
            "Epoch 87/200\n",
            "23/23 [==============================] - 0s 2ms/step - loss: 0.3724 - accuracy: 0.8499\n",
            "Epoch 88/200\n",
            "23/23 [==============================] - 0s 2ms/step - loss: 0.3809 - accuracy: 0.8443\n",
            "Epoch 89/200\n",
            "23/23 [==============================] - 0s 2ms/step - loss: 0.3754 - accuracy: 0.8485\n",
            "Epoch 90/200\n",
            "23/23 [==============================] - 0s 2ms/step - loss: 0.3705 - accuracy: 0.8401\n",
            "Epoch 91/200\n",
            "23/23 [==============================] - 0s 2ms/step - loss: 0.3484 - accuracy: 0.8527\n",
            "Epoch 92/200\n",
            "23/23 [==============================] - 0s 2ms/step - loss: 0.3658 - accuracy: 0.8401\n",
            "Epoch 93/200\n",
            "23/23 [==============================] - 0s 2ms/step - loss: 0.3562 - accuracy: 0.8457\n",
            "Epoch 94/200\n",
            "23/23 [==============================] - 0s 3ms/step - loss: 0.3760 - accuracy: 0.8443\n",
            "Epoch 95/200\n",
            "23/23 [==============================] - 0s 3ms/step - loss: 0.3499 - accuracy: 0.8527\n",
            "Epoch 96/200\n",
            "23/23 [==============================] - 0s 2ms/step - loss: 0.3664 - accuracy: 0.8499\n",
            "Epoch 97/200\n",
            "23/23 [==============================] - 0s 2ms/step - loss: 0.3803 - accuracy: 0.8485\n",
            "Epoch 98/200\n",
            "23/23 [==============================] - 0s 3ms/step - loss: 0.3507 - accuracy: 0.8569\n",
            "Epoch 99/200\n",
            "23/23 [==============================] - 0s 3ms/step - loss: 0.3556 - accuracy: 0.8597\n",
            "Epoch 100/200\n",
            "23/23 [==============================] - 0s 3ms/step - loss: 0.3586 - accuracy: 0.8654\n",
            "Epoch 101/200\n",
            "23/23 [==============================] - 0s 3ms/step - loss: 0.3511 - accuracy: 0.8583\n",
            "Epoch 102/200\n",
            "23/23 [==============================] - 0s 2ms/step - loss: 0.3669 - accuracy: 0.8597\n",
            "Epoch 103/200\n",
            "23/23 [==============================] - 0s 2ms/step - loss: 0.3364 - accuracy: 0.8640\n",
            "Epoch 104/200\n",
            "23/23 [==============================] - 0s 2ms/step - loss: 0.3470 - accuracy: 0.8640\n",
            "Epoch 105/200\n",
            "23/23 [==============================] - 0s 2ms/step - loss: 0.3535 - accuracy: 0.8555\n",
            "Epoch 106/200\n",
            "23/23 [==============================] - 0s 3ms/step - loss: 0.3565 - accuracy: 0.8513\n",
            "Epoch 107/200\n",
            "23/23 [==============================] - 0s 3ms/step - loss: 0.3673 - accuracy: 0.8485\n",
            "Epoch 108/200\n",
            "23/23 [==============================] - 0s 2ms/step - loss: 0.3692 - accuracy: 0.8429\n",
            "Epoch 109/200\n",
            "23/23 [==============================] - 0s 2ms/step - loss: 0.3457 - accuracy: 0.8640\n",
            "Epoch 110/200\n",
            "23/23 [==============================] - 0s 2ms/step - loss: 0.3325 - accuracy: 0.8597\n",
            "Epoch 111/200\n",
            "23/23 [==============================] - 0s 3ms/step - loss: 0.3350 - accuracy: 0.8597\n",
            "Epoch 112/200\n",
            "23/23 [==============================] - 0s 2ms/step - loss: 0.3565 - accuracy: 0.8612\n",
            "Epoch 113/200\n",
            "23/23 [==============================] - 0s 3ms/step - loss: 0.3506 - accuracy: 0.8555\n",
            "Epoch 114/200\n",
            "23/23 [==============================] - 0s 3ms/step - loss: 0.3498 - accuracy: 0.8527\n",
            "Epoch 115/200\n",
            "23/23 [==============================] - 0s 3ms/step - loss: 0.3582 - accuracy: 0.8429\n",
            "Epoch 116/200\n",
            "23/23 [==============================] - 0s 3ms/step - loss: 0.3560 - accuracy: 0.8569\n",
            "Epoch 117/200\n",
            "23/23 [==============================] - 0s 2ms/step - loss: 0.3489 - accuracy: 0.8597\n",
            "Epoch 118/200\n",
            "23/23 [==============================] - 0s 2ms/step - loss: 0.3286 - accuracy: 0.8569\n",
            "Epoch 119/200\n",
            "23/23 [==============================] - 0s 2ms/step - loss: 0.3529 - accuracy: 0.8471\n",
            "Epoch 120/200\n",
            "23/23 [==============================] - 0s 3ms/step - loss: 0.3285 - accuracy: 0.8696\n",
            "Epoch 121/200\n",
            "23/23 [==============================] - 0s 3ms/step - loss: 0.3391 - accuracy: 0.8612\n",
            "Epoch 122/200\n",
            "23/23 [==============================] - 0s 2ms/step - loss: 0.3582 - accuracy: 0.8359\n",
            "Epoch 123/200\n",
            "23/23 [==============================] - 0s 2ms/step - loss: 0.3703 - accuracy: 0.8569\n",
            "Epoch 124/200\n",
            "23/23 [==============================] - 0s 2ms/step - loss: 0.3516 - accuracy: 0.8471\n",
            "Epoch 125/200\n",
            "23/23 [==============================] - 0s 3ms/step - loss: 0.3443 - accuracy: 0.8555\n",
            "Epoch 126/200\n",
            "23/23 [==============================] - 0s 2ms/step - loss: 0.3340 - accuracy: 0.8485\n",
            "Epoch 127/200\n",
            "23/23 [==============================] - 0s 2ms/step - loss: 0.3558 - accuracy: 0.8513\n",
            "Epoch 128/200\n",
            "23/23 [==============================] - 0s 2ms/step - loss: 0.3378 - accuracy: 0.8485\n",
            "Epoch 129/200\n",
            "23/23 [==============================] - 0s 2ms/step - loss: 0.3385 - accuracy: 0.8597\n",
            "Epoch 130/200\n",
            "23/23 [==============================] - 0s 3ms/step - loss: 0.3488 - accuracy: 0.8612\n",
            "Epoch 131/200\n",
            "23/23 [==============================] - 0s 3ms/step - loss: 0.3549 - accuracy: 0.8555\n",
            "Epoch 132/200\n",
            "23/23 [==============================] - 0s 3ms/step - loss: 0.3322 - accuracy: 0.8583\n",
            "Epoch 133/200\n",
            "23/23 [==============================] - 0s 2ms/step - loss: 0.3313 - accuracy: 0.8513\n",
            "Epoch 134/200\n",
            "23/23 [==============================] - 0s 3ms/step - loss: 0.3388 - accuracy: 0.8513\n",
            "Epoch 135/200\n",
            "23/23 [==============================] - 0s 3ms/step - loss: 0.3217 - accuracy: 0.8626\n",
            "Epoch 136/200\n",
            "23/23 [==============================] - 0s 3ms/step - loss: 0.3330 - accuracy: 0.8583\n",
            "Epoch 137/200\n",
            "23/23 [==============================] - 0s 2ms/step - loss: 0.3473 - accuracy: 0.8668\n",
            "Epoch 138/200\n",
            "23/23 [==============================] - 0s 2ms/step - loss: 0.3178 - accuracy: 0.8724\n",
            "Epoch 139/200\n",
            "23/23 [==============================] - 0s 2ms/step - loss: 0.3193 - accuracy: 0.8597\n",
            "Epoch 140/200\n",
            "23/23 [==============================] - 0s 3ms/step - loss: 0.3333 - accuracy: 0.8626\n",
            "Epoch 141/200\n",
            "23/23 [==============================] - 0s 3ms/step - loss: 0.3284 - accuracy: 0.8738\n",
            "Epoch 142/200\n",
            "23/23 [==============================] - 0s 2ms/step - loss: 0.3125 - accuracy: 0.8724\n",
            "Epoch 143/200\n",
            "23/23 [==============================] - 0s 3ms/step - loss: 0.3319 - accuracy: 0.8513\n",
            "Epoch 144/200\n",
            "23/23 [==============================] - 0s 3ms/step - loss: 0.3190 - accuracy: 0.8583\n",
            "Epoch 145/200\n",
            "23/23 [==============================] - 0s 3ms/step - loss: 0.3335 - accuracy: 0.8555\n",
            "Epoch 146/200\n",
            "23/23 [==============================] - 0s 2ms/step - loss: 0.3219 - accuracy: 0.8626\n",
            "Epoch 147/200\n",
            "23/23 [==============================] - 0s 2ms/step - loss: 0.3400 - accuracy: 0.8583\n",
            "Epoch 148/200\n",
            "23/23 [==============================] - 0s 2ms/step - loss: 0.3063 - accuracy: 0.8612\n",
            "Epoch 149/200\n",
            "23/23 [==============================] - 0s 3ms/step - loss: 0.3320 - accuracy: 0.8626\n",
            "Epoch 150/200\n",
            "23/23 [==============================] - 0s 2ms/step - loss: 0.3327 - accuracy: 0.8668\n",
            "Epoch 151/200\n",
            "23/23 [==============================] - 0s 3ms/step - loss: 0.3418 - accuracy: 0.8569\n",
            "Epoch 152/200\n",
            "23/23 [==============================] - 0s 2ms/step - loss: 0.3351 - accuracy: 0.8710\n",
            "Epoch 153/200\n",
            "23/23 [==============================] - 0s 3ms/step - loss: 0.3269 - accuracy: 0.8513\n",
            "Epoch 154/200\n",
            "23/23 [==============================] - 0s 3ms/step - loss: 0.3203 - accuracy: 0.8668\n",
            "Epoch 155/200\n",
            "23/23 [==============================] - 0s 3ms/step - loss: 0.3146 - accuracy: 0.8738\n",
            "Epoch 156/200\n",
            "23/23 [==============================] - 0s 3ms/step - loss: 0.3384 - accuracy: 0.8499\n",
            "Epoch 157/200\n",
            "23/23 [==============================] - 0s 3ms/step - loss: 0.3201 - accuracy: 0.8513\n",
            "Epoch 158/200\n",
            "23/23 [==============================] - 0s 3ms/step - loss: 0.3218 - accuracy: 0.8527\n",
            "Epoch 159/200\n",
            "23/23 [==============================] - 0s 2ms/step - loss: 0.3278 - accuracy: 0.8626\n",
            "Epoch 160/200\n",
            "23/23 [==============================] - 0s 2ms/step - loss: 0.3477 - accuracy: 0.8527\n",
            "Epoch 161/200\n",
            "23/23 [==============================] - 0s 3ms/step - loss: 0.3239 - accuracy: 0.8696\n",
            "Epoch 162/200\n",
            "23/23 [==============================] - 0s 3ms/step - loss: 0.3268 - accuracy: 0.8527\n",
            "Epoch 163/200\n",
            "23/23 [==============================] - 0s 2ms/step - loss: 0.3262 - accuracy: 0.8429\n",
            "Epoch 164/200\n",
            "23/23 [==============================] - 0s 2ms/step - loss: 0.3273 - accuracy: 0.8569\n",
            "Epoch 165/200\n",
            "23/23 [==============================] - 0s 3ms/step - loss: 0.3387 - accuracy: 0.8612\n",
            "Epoch 166/200\n",
            "23/23 [==============================] - 0s 3ms/step - loss: 0.3129 - accuracy: 0.8780\n",
            "Epoch 167/200\n",
            "23/23 [==============================] - 0s 2ms/step - loss: 0.3232 - accuracy: 0.8555\n",
            "Epoch 168/200\n",
            "23/23 [==============================] - 0s 3ms/step - loss: 0.3117 - accuracy: 0.8724\n",
            "Epoch 169/200\n",
            "23/23 [==============================] - 0s 2ms/step - loss: 0.3132 - accuracy: 0.8626\n",
            "Epoch 170/200\n",
            "23/23 [==============================] - 0s 2ms/step - loss: 0.3251 - accuracy: 0.8640\n",
            "Epoch 171/200\n",
            "23/23 [==============================] - 0s 2ms/step - loss: 0.3266 - accuracy: 0.8668\n",
            "Epoch 172/200\n",
            "23/23 [==============================] - 0s 3ms/step - loss: 0.3039 - accuracy: 0.8794\n",
            "Epoch 173/200\n",
            "23/23 [==============================] - 0s 3ms/step - loss: 0.3325 - accuracy: 0.8555\n",
            "Epoch 174/200\n",
            "23/23 [==============================] - 0s 3ms/step - loss: 0.3330 - accuracy: 0.8401\n",
            "Epoch 175/200\n",
            "23/23 [==============================] - 0s 3ms/step - loss: 0.3062 - accuracy: 0.8569\n",
            "Epoch 176/200\n",
            "23/23 [==============================] - 0s 3ms/step - loss: 0.3370 - accuracy: 0.8583\n",
            "Epoch 177/200\n",
            "23/23 [==============================] - 0s 2ms/step - loss: 0.3113 - accuracy: 0.8710\n",
            "Epoch 178/200\n",
            "23/23 [==============================] - 0s 2ms/step - loss: 0.3264 - accuracy: 0.8569\n",
            "Epoch 179/200\n",
            "23/23 [==============================] - 0s 3ms/step - loss: 0.3040 - accuracy: 0.8738\n",
            "Epoch 180/200\n",
            "23/23 [==============================] - 0s 3ms/step - loss: 0.3171 - accuracy: 0.8654\n",
            "Epoch 181/200\n",
            "23/23 [==============================] - 0s 3ms/step - loss: 0.3185 - accuracy: 0.8626\n",
            "Epoch 182/200\n",
            "23/23 [==============================] - 0s 3ms/step - loss: 0.3025 - accuracy: 0.8696\n",
            "Epoch 183/200\n",
            "23/23 [==============================] - 0s 3ms/step - loss: 0.3088 - accuracy: 0.8612\n",
            "Epoch 184/200\n",
            "23/23 [==============================] - 0s 2ms/step - loss: 0.3166 - accuracy: 0.8710\n",
            "Epoch 185/200\n",
            "23/23 [==============================] - 0s 3ms/step - loss: 0.3173 - accuracy: 0.8724\n",
            "Epoch 186/200\n",
            "23/23 [==============================] - 0s 2ms/step - loss: 0.2994 - accuracy: 0.8710\n",
            "Epoch 187/200\n",
            "23/23 [==============================] - 0s 2ms/step - loss: 0.3039 - accuracy: 0.8738\n",
            "Epoch 188/200\n",
            "23/23 [==============================] - 0s 3ms/step - loss: 0.3168 - accuracy: 0.8738\n",
            "Epoch 189/200\n",
            "23/23 [==============================] - 0s 2ms/step - loss: 0.3097 - accuracy: 0.8724\n",
            "Epoch 190/200\n",
            "23/23 [==============================] - 0s 3ms/step - loss: 0.3196 - accuracy: 0.8626\n",
            "Epoch 191/200\n",
            "23/23 [==============================] - 0s 3ms/step - loss: 0.3152 - accuracy: 0.8626\n",
            "Epoch 192/200\n",
            "23/23 [==============================] - 0s 3ms/step - loss: 0.3080 - accuracy: 0.8541\n",
            "Epoch 193/200\n",
            "23/23 [==============================] - 0s 2ms/step - loss: 0.3003 - accuracy: 0.8626\n",
            "Epoch 194/200\n",
            "23/23 [==============================] - 0s 3ms/step - loss: 0.3176 - accuracy: 0.8569\n",
            "Epoch 195/200\n",
            "23/23 [==============================] - 0s 3ms/step - loss: 0.3269 - accuracy: 0.8513\n",
            "Epoch 196/200\n",
            "23/23 [==============================] - 0s 3ms/step - loss: 0.3243 - accuracy: 0.8668\n",
            "Epoch 197/200\n",
            "23/23 [==============================] - 0s 3ms/step - loss: 0.3134 - accuracy: 0.8640\n",
            "Epoch 198/200\n",
            "23/23 [==============================] - 0s 3ms/step - loss: 0.3046 - accuracy: 0.8654\n",
            "Epoch 199/200\n",
            "23/23 [==============================] - 0s 2ms/step - loss: 0.2938 - accuracy: 0.8696\n",
            "Epoch 200/200\n",
            "23/23 [==============================] - 0s 3ms/step - loss: 0.3067 - accuracy: 0.8766\n"
          ],
          "name": "stdout"
        },
        {
          "output_type": "execute_result",
          "data": {
            "text/plain": [
              "<tensorflow.python.keras.callbacks.History at 0x7f86600f8b38>"
            ]
          },
          "metadata": {
            "tags": []
          },
          "execution_count": 138
        }
      ]
    },
    {
      "cell_type": "code",
      "metadata": {
        "colab": {
          "base_uri": "https://localhost:8080/"
        },
        "id": "th6Y-kMhWsJ3",
        "outputId": "2ff9c2f1-23d9-471b-c694-01aed9a2611e"
      },
      "source": [
        "modelk.evaluate(x_val,y_val)"
      ],
      "execution_count": null,
      "outputs": [
        {
          "output_type": "stream",
          "text": [
            "9/9 [==============================] - 0s 2ms/step - loss: 0.2892 - accuracy: 0.8801\n"
          ],
          "name": "stdout"
        },
        {
          "output_type": "execute_result",
          "data": {
            "text/plain": [
              "[0.2891767621040344, 0.8801498413085938]"
            ]
          },
          "metadata": {
            "tags": []
          },
          "execution_count": 139
        }
      ]
    },
    {
      "cell_type": "markdown",
      "metadata": {
        "id": "n7Qno7gBFbRv"
      },
      "source": [
        "## Random Forest works better than all above models."
      ]
    },
    {
      "cell_type": "code",
      "metadata": {
        "id": "8BIWOwLQSCrH"
      },
      "source": [
        "predk = modelk.predict(x_val)"
      ],
      "execution_count": null,
      "outputs": []
    },
    {
      "cell_type": "code",
      "metadata": {
        "id": "XkjKJSuXXBMp"
      },
      "source": [
        "for i in range(len(predk)):\n",
        "  if predk[i]>0.5:\n",
        "    predk[i]=1\n",
        "  else:\n",
        "    predk[i]=0"
      ],
      "execution_count": null,
      "outputs": []
    },
    {
      "cell_type": "code",
      "metadata": {
        "colab": {
          "base_uri": "https://localhost:8080/"
        },
        "id": "r466jsfRXcBj",
        "outputId": "eb874e43-e3d6-4d1e-daea-0509ecec157c"
      },
      "source": [
        "from sklearn.metrics import accuracy_score\n",
        "accuracy_score(y_val,predk)"
      ],
      "execution_count": null,
      "outputs": [
        {
          "output_type": "execute_result",
          "data": {
            "text/plain": [
              "0.848314606741573"
            ]
          },
          "metadata": {
            "tags": []
          },
          "execution_count": 146
        }
      ]
    },
    {
      "cell_type": "code",
      "metadata": {
        "id": "YRqLh7Ztan12"
      },
      "source": [
        "predk2 = modelk.predict(dft2)"
      ],
      "execution_count": null,
      "outputs": []
    },
    {
      "cell_type": "code",
      "metadata": {
        "id": "YMKUAF3xa8Bn"
      },
      "source": [
        "for i in range(len(predk2)):\n",
        "  if predk2[i]>0.5:\n",
        "    predk2[i]=1\n",
        "  else:\n",
        "    predk2[i]=0"
      ],
      "execution_count": null,
      "outputs": []
    },
    {
      "cell_type": "code",
      "metadata": {
        "colab": {
          "base_uri": "https://localhost:8080/"
        },
        "id": "o9aFHVLNbAu0",
        "outputId": "f54d6fc5-efd1-4c5d-a738-74215d202341"
      },
      "source": [
        "predk2"
      ],
      "execution_count": null,
      "outputs": [
        {
          "output_type": "execute_result",
          "data": {
            "text/plain": [
              "array([[0.],\n",
              "       [0.],\n",
              "       [0.],\n",
              "       [0.],\n",
              "       [1.],\n",
              "       [0.],\n",
              "       [1.],\n",
              "       [0.],\n",
              "       [1.],\n",
              "       [0.],\n",
              "       [0.],\n",
              "       [1.],\n",
              "       [1.],\n",
              "       [0.],\n",
              "       [1.],\n",
              "       [1.],\n",
              "       [0.],\n",
              "       [0.],\n",
              "       [0.],\n",
              "       [1.],\n",
              "       [0.],\n",
              "       [0.],\n",
              "       [1.],\n",
              "       [0.],\n",
              "       [1.],\n",
              "       [0.],\n",
              "       [1.],\n",
              "       [0.],\n",
              "       [0.],\n",
              "       [0.],\n",
              "       [0.],\n",
              "       [0.],\n",
              "       [1.],\n",
              "       [1.],\n",
              "       [0.],\n",
              "       [0.],\n",
              "       [0.],\n",
              "       [0.],\n",
              "       [0.],\n",
              "       [0.],\n",
              "       [0.],\n",
              "       [1.],\n",
              "       [0.],\n",
              "       [1.],\n",
              "       [1.],\n",
              "       [0.],\n",
              "       [0.],\n",
              "       [0.],\n",
              "       [1.],\n",
              "       [0.],\n",
              "       [1.],\n",
              "       [0.],\n",
              "       [1.],\n",
              "       [1.],\n",
              "       [0.],\n",
              "       [0.],\n",
              "       [0.],\n",
              "       [0.],\n",
              "       [0.],\n",
              "       [1.],\n",
              "       [0.],\n",
              "       [0.],\n",
              "       [0.],\n",
              "       [1.],\n",
              "       [1.],\n",
              "       [1.],\n",
              "       [1.],\n",
              "       [0.],\n",
              "       [0.],\n",
              "       [1.],\n",
              "       [1.],\n",
              "       [0.],\n",
              "       [1.],\n",
              "       [1.],\n",
              "       [1.],\n",
              "       [0.],\n",
              "       [0.],\n",
              "       [1.],\n",
              "       [0.],\n",
              "       [1.],\n",
              "       [1.],\n",
              "       [0.],\n",
              "       [1.],\n",
              "       [0.],\n",
              "       [0.],\n",
              "       [0.],\n",
              "       [1.],\n",
              "       [0.],\n",
              "       [1.],\n",
              "       [1.],\n",
              "       [1.],\n",
              "       [0.],\n",
              "       [1.],\n",
              "       [0.],\n",
              "       [1.],\n",
              "       [0.],\n",
              "       [1.],\n",
              "       [0.],\n",
              "       [1.],\n",
              "       [0.],\n",
              "       [1.],\n",
              "       [0.],\n",
              "       [0.],\n",
              "       [0.],\n",
              "       [1.],\n",
              "       [0.],\n",
              "       [0.],\n",
              "       [0.],\n",
              "       [0.],\n",
              "       [0.],\n",
              "       [0.],\n",
              "       [1.],\n",
              "       [1.],\n",
              "       [1.],\n",
              "       [1.],\n",
              "       [0.],\n",
              "       [0.],\n",
              "       [1.],\n",
              "       [0.],\n",
              "       [1.],\n",
              "       [1.],\n",
              "       [0.],\n",
              "       [1.],\n",
              "       [0.],\n",
              "       [0.],\n",
              "       [0.],\n",
              "       [0.],\n",
              "       [1.],\n",
              "       [0.],\n",
              "       [0.],\n",
              "       [0.],\n",
              "       [1.],\n",
              "       [0.],\n",
              "       [0.],\n",
              "       [0.],\n",
              "       [0.],\n",
              "       [0.],\n",
              "       [0.],\n",
              "       [0.],\n",
              "       [0.],\n",
              "       [0.],\n",
              "       [1.],\n",
              "       [0.],\n",
              "       [0.],\n",
              "       [1.],\n",
              "       [0.],\n",
              "       [0.],\n",
              "       [0.],\n",
              "       [0.],\n",
              "       [0.],\n",
              "       [1.],\n",
              "       [0.],\n",
              "       [0.],\n",
              "       [0.],\n",
              "       [0.],\n",
              "       [0.],\n",
              "       [1.],\n",
              "       [1.],\n",
              "       [1.],\n",
              "       [1.],\n",
              "       [1.],\n",
              "       [1.],\n",
              "       [1.],\n",
              "       [0.],\n",
              "       [0.],\n",
              "       [1.],\n",
              "       [0.],\n",
              "       [0.],\n",
              "       [1.],\n",
              "       [0.],\n",
              "       [0.],\n",
              "       [0.],\n",
              "       [0.],\n",
              "       [0.],\n",
              "       [0.],\n",
              "       [1.],\n",
              "       [1.],\n",
              "       [0.],\n",
              "       [1.],\n",
              "       [1.],\n",
              "       [0.],\n",
              "       [1.],\n",
              "       [1.],\n",
              "       [0.],\n",
              "       [1.],\n",
              "       [0.],\n",
              "       [1.],\n",
              "       [0.],\n",
              "       [0.],\n",
              "       [0.],\n",
              "       [0.],\n",
              "       [1.],\n",
              "       [1.],\n",
              "       [0.],\n",
              "       [1.],\n",
              "       [0.],\n",
              "       [1.],\n",
              "       [1.],\n",
              "       [0.],\n",
              "       [1.],\n",
              "       [1.],\n",
              "       [1.],\n",
              "       [1.],\n",
              "       [1.],\n",
              "       [0.],\n",
              "       [0.],\n",
              "       [1.],\n",
              "       [0.],\n",
              "       [0.],\n",
              "       [0.],\n",
              "       [0.],\n",
              "       [0.],\n",
              "       [0.],\n",
              "       [1.],\n",
              "       [0.],\n",
              "       [0.],\n",
              "       [1.],\n",
              "       [0.],\n",
              "       [1.],\n",
              "       [0.],\n",
              "       [1.],\n",
              "       [0.],\n",
              "       [1.],\n",
              "       [0.],\n",
              "       [1.],\n",
              "       [0.],\n",
              "       [0.],\n",
              "       [1.],\n",
              "       [0.],\n",
              "       [0.],\n",
              "       [0.],\n",
              "       [1.],\n",
              "       [0.],\n",
              "       [0.],\n",
              "       [0.],\n",
              "       [0.],\n",
              "       [1.],\n",
              "       [0.],\n",
              "       [1.],\n",
              "       [1.],\n",
              "       [1.],\n",
              "       [1.],\n",
              "       [1.],\n",
              "       [0.],\n",
              "       [0.],\n",
              "       [1.],\n",
              "       [1.],\n",
              "       [0.],\n",
              "       [1.],\n",
              "       [0.],\n",
              "       [1.],\n",
              "       [0.],\n",
              "       [0.],\n",
              "       [0.],\n",
              "       [0.],\n",
              "       [0.],\n",
              "       [0.],\n",
              "       [0.],\n",
              "       [1.],\n",
              "       [0.],\n",
              "       [0.],\n",
              "       [0.],\n",
              "       [1.],\n",
              "       [1.],\n",
              "       [0.],\n",
              "       [0.],\n",
              "       [0.],\n",
              "       [0.],\n",
              "       [0.],\n",
              "       [0.],\n",
              "       [0.],\n",
              "       [0.],\n",
              "       [1.],\n",
              "       [1.],\n",
              "       [0.],\n",
              "       [1.],\n",
              "       [0.],\n",
              "       [0.],\n",
              "       [0.],\n",
              "       [0.],\n",
              "       [0.],\n",
              "       [1.],\n",
              "       [1.],\n",
              "       [0.],\n",
              "       [1.],\n",
              "       [0.],\n",
              "       [0.],\n",
              "       [0.],\n",
              "       [0.],\n",
              "       [0.],\n",
              "       [0.],\n",
              "       [1.],\n",
              "       [0.],\n",
              "       [0.],\n",
              "       [0.],\n",
              "       [0.],\n",
              "       [1.],\n",
              "       [0.],\n",
              "       [0.],\n",
              "       [0.],\n",
              "       [0.],\n",
              "       [0.],\n",
              "       [0.],\n",
              "       [0.],\n",
              "       [1.],\n",
              "       [1.],\n",
              "       [1.],\n",
              "       [1.],\n",
              "       [0.],\n",
              "       [0.],\n",
              "       [0.],\n",
              "       [0.],\n",
              "       [0.],\n",
              "       [1.],\n",
              "       [1.],\n",
              "       [1.],\n",
              "       [0.],\n",
              "       [0.],\n",
              "       [0.],\n",
              "       [0.],\n",
              "       [0.],\n",
              "       [0.],\n",
              "       [0.],\n",
              "       [1.],\n",
              "       [1.],\n",
              "       [0.],\n",
              "       [1.],\n",
              "       [0.],\n",
              "       [0.],\n",
              "       [0.],\n",
              "       [1.],\n",
              "       [0.],\n",
              "       [0.],\n",
              "       [1.],\n",
              "       [0.],\n",
              "       [0.],\n",
              "       [0.],\n",
              "       [0.],\n",
              "       [0.],\n",
              "       [0.],\n",
              "       [0.],\n",
              "       [0.],\n",
              "       [0.],\n",
              "       [1.],\n",
              "       [0.],\n",
              "       [1.],\n",
              "       [0.],\n",
              "       [1.],\n",
              "       [0.],\n",
              "       [1.],\n",
              "       [1.],\n",
              "       [0.],\n",
              "       [0.],\n",
              "       [0.],\n",
              "       [1.],\n",
              "       [1.],\n",
              "       [1.],\n",
              "       [0.],\n",
              "       [0.],\n",
              "       [0.],\n",
              "       [0.],\n",
              "       [1.],\n",
              "       [1.],\n",
              "       [0.],\n",
              "       [1.],\n",
              "       [0.],\n",
              "       [0.],\n",
              "       [1.],\n",
              "       [1.],\n",
              "       [0.],\n",
              "       [0.],\n",
              "       [1.],\n",
              "       [0.],\n",
              "       [0.],\n",
              "       [1.],\n",
              "       [1.],\n",
              "       [0.],\n",
              "       [0.],\n",
              "       [0.],\n",
              "       [0.],\n",
              "       [0.],\n",
              "       [0.],\n",
              "       [1.],\n",
              "       [1.],\n",
              "       [0.],\n",
              "       [1.],\n",
              "       [0.],\n",
              "       [0.],\n",
              "       [0.],\n",
              "       [0.],\n",
              "       [0.],\n",
              "       [1.],\n",
              "       [1.],\n",
              "       [0.],\n",
              "       [0.],\n",
              "       [1.],\n",
              "       [0.],\n",
              "       [1.],\n",
              "       [0.],\n",
              "       [0.],\n",
              "       [1.],\n",
              "       [0.],\n",
              "       [1.],\n",
              "       [0.],\n",
              "       [1.],\n",
              "       [1.],\n",
              "       [0.],\n",
              "       [0.],\n",
              "       [1.],\n",
              "       [1.],\n",
              "       [1.],\n",
              "       [1.],\n",
              "       [1.],\n",
              "       [0.],\n",
              "       [1.],\n",
              "       [0.],\n",
              "       [0.],\n",
              "       [1.]], dtype=float32)"
            ]
          },
          "metadata": {
            "tags": []
          },
          "execution_count": 149
        }
      ]
    },
    {
      "cell_type": "code",
      "metadata": {
        "id": "bfAulQU6eZxW"
      },
      "source": [
        "pred_test1 = model1.predict(dft2)\n",
        "#pred_test2 = model2.predict(dft2)\n",
        "#pred_test5 = model5.predict(dft2)"
      ],
      "execution_count": null,
      "outputs": []
    },
    {
      "cell_type": "code",
      "metadata": {
        "id": "W_EM_8g0bQyc"
      },
      "source": [
        "#pred_test_mlp = mlp.predict(dft2)"
      ],
      "execution_count": null,
      "outputs": []
    },
    {
      "cell_type": "code",
      "metadata": {
        "id": "nAN_dP7N5uOY"
      },
      "source": [
        ""
      ],
      "execution_count": null,
      "outputs": []
    },
    {
      "cell_type": "code",
      "metadata": {
        "id": "vZdkYIw-kdij"
      },
      "source": [
        "df_submit2 = pd.read_csv('gender_submission.csv')"
      ],
      "execution_count": null,
      "outputs": []
    },
    {
      "cell_type": "code",
      "metadata": {
        "id": "SDTCkEXflBTa"
      },
      "source": [
        "\n",
        "\n",
        "df_submit2['PassengerId'] = df_test['PassengerId']\n",
        "df_submit2['Survived']    = predk2\n"
      ],
      "execution_count": null,
      "outputs": []
    },
    {
      "cell_type": "code",
      "metadata": {
        "colab": {
          "base_uri": "https://localhost:8080/",
          "height": 424
        },
        "id": "bcJXQwiblDPE",
        "outputId": "1ba07ee4-1fb2-472b-a6ec-efc4cd0f9016"
      },
      "source": [
        "df_submit2"
      ],
      "execution_count": null,
      "outputs": [
        {
          "output_type": "execute_result",
          "data": {
            "text/html": [
              "<div>\n",
              "<style scoped>\n",
              "    .dataframe tbody tr th:only-of-type {\n",
              "        vertical-align: middle;\n",
              "    }\n",
              "\n",
              "    .dataframe tbody tr th {\n",
              "        vertical-align: top;\n",
              "    }\n",
              "\n",
              "    .dataframe thead th {\n",
              "        text-align: right;\n",
              "    }\n",
              "</style>\n",
              "<table border=\"1\" class=\"dataframe\">\n",
              "  <thead>\n",
              "    <tr style=\"text-align: right;\">\n",
              "      <th></th>\n",
              "      <th>PassengerId</th>\n",
              "      <th>Survived</th>\n",
              "    </tr>\n",
              "  </thead>\n",
              "  <tbody>\n",
              "    <tr>\n",
              "      <th>0</th>\n",
              "      <td>892</td>\n",
              "      <td>0.0</td>\n",
              "    </tr>\n",
              "    <tr>\n",
              "      <th>1</th>\n",
              "      <td>893</td>\n",
              "      <td>0.0</td>\n",
              "    </tr>\n",
              "    <tr>\n",
              "      <th>2</th>\n",
              "      <td>894</td>\n",
              "      <td>0.0</td>\n",
              "    </tr>\n",
              "    <tr>\n",
              "      <th>3</th>\n",
              "      <td>895</td>\n",
              "      <td>0.0</td>\n",
              "    </tr>\n",
              "    <tr>\n",
              "      <th>4</th>\n",
              "      <td>896</td>\n",
              "      <td>1.0</td>\n",
              "    </tr>\n",
              "    <tr>\n",
              "      <th>...</th>\n",
              "      <td>...</td>\n",
              "      <td>...</td>\n",
              "    </tr>\n",
              "    <tr>\n",
              "      <th>413</th>\n",
              "      <td>1305</td>\n",
              "      <td>0.0</td>\n",
              "    </tr>\n",
              "    <tr>\n",
              "      <th>414</th>\n",
              "      <td>1306</td>\n",
              "      <td>1.0</td>\n",
              "    </tr>\n",
              "    <tr>\n",
              "      <th>415</th>\n",
              "      <td>1307</td>\n",
              "      <td>0.0</td>\n",
              "    </tr>\n",
              "    <tr>\n",
              "      <th>416</th>\n",
              "      <td>1308</td>\n",
              "      <td>0.0</td>\n",
              "    </tr>\n",
              "    <tr>\n",
              "      <th>417</th>\n",
              "      <td>1309</td>\n",
              "      <td>1.0</td>\n",
              "    </tr>\n",
              "  </tbody>\n",
              "</table>\n",
              "<p>418 rows × 2 columns</p>\n",
              "</div>"
            ],
            "text/plain": [
              "     PassengerId  Survived\n",
              "0            892       0.0\n",
              "1            893       0.0\n",
              "2            894       0.0\n",
              "3            895       0.0\n",
              "4            896       1.0\n",
              "..           ...       ...\n",
              "413         1305       0.0\n",
              "414         1306       1.0\n",
              "415         1307       0.0\n",
              "416         1308       0.0\n",
              "417         1309       1.0\n",
              "\n",
              "[418 rows x 2 columns]"
            ]
          },
          "metadata": {
            "tags": []
          },
          "execution_count": 153
        }
      ]
    },
    {
      "cell_type": "code",
      "metadata": {
        "id": "QEHsydFBlWmz"
      },
      "source": [
        "pd.DataFrame(df_submit2,columns=['PassengerId','Survived']).to_csv('gender_submission32.csv')\n",
        "#pd.DataFrame(df_submit5,columns=['PassengerId','Survived']).to_csv('gender_submission17.csv')"
      ],
      "execution_count": null,
      "outputs": []
    },
    {
      "cell_type": "code",
      "metadata": {
        "colab": {
          "base_uri": "https://localhost:8080/",
          "height": 35
        },
        "id": "PX0NXiDqnRHn",
        "outputId": "b47f16d2-f157-414e-f44f-b9ae2b12d558"
      },
      "source": [
        "import tensorflow as tf\n",
        "tf.test.gpu_device_name()"
      ],
      "execution_count": null,
      "outputs": [
        {
          "output_type": "execute_result",
          "data": {
            "application/vnd.google.colaboratory.intrinsic+json": {
              "type": "string"
            },
            "text/plain": [
              "'/device:GPU:0'"
            ]
          },
          "metadata": {
            "tags": []
          },
          "execution_count": 695
        }
      ]
    }
  ]
}